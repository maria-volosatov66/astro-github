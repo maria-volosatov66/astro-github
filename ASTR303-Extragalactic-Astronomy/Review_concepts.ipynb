{
 "cells": [
  {
   "cell_type": "markdown",
   "metadata": {},
   "source": [
    "### Python Basics Review \n",
    "Using HorizonRepo's Tutorial on GitHub\n"
   ]
  },
  {
   "cell_type": "markdown",
   "metadata": {},
   "source": [
    "### Variables + Basic Modules ###"
   ]
  },
  {
   "cell_type": "code",
   "execution_count": 1,
   "metadata": {},
   "outputs": [],
   "source": [
    "v = 7 #int \n",
    "g = 9.81 # float\n",
    "t = 0.6\n",
    "y = v*t - 0.5*g*t**2"
   ]
  },
  {
   "cell_type": "code",
   "execution_count": 2,
   "metadata": {},
   "outputs": [
    {
     "name": "stdout",
     "output_type": "stream",
     "text": [
      "2.4342\n"
     ]
    }
   ],
   "source": [
    "print(y)"
   ]
  },
  {
   "cell_type": "code",
   "execution_count": 3,
   "metadata": {},
   "outputs": [
    {
     "name": "stdout",
     "output_type": "stream",
     "text": [
      "1.2246467991473532e-16\n"
     ]
    }
   ],
   "source": [
    "import math as math\n",
    "x = math.sin(math.pi)\n",
    "print(x)"
   ]
  },
  {
   "cell_type": "markdown",
   "metadata": {},
   "source": [
    "## Lööps and Lists\n",
    "Evaluate sin(x) from the Taylor Series Expansion\n",
    "$$ sin(x) \\approx x - \\frac{x^3}{3!} + \\frac{x^5}{5!} - \\frac{x^7}{7!}+\\dots$$\n",
    "\n",
    "Algorithm:\n",
    "Use a loop to find sin(x)\n",
    "Take x n = 1\n",
    "\n",
    "- Compute x\n",
    "- n = n+ 2\n",
    "- $\\ (x**n)/n!$\n",
    "- truncation"
   ]
  },
  {
   "cell_type": "code",
   "execution_count": 4,
   "metadata": {},
   "outputs": [
    {
     "name": "stdout",
     "output_type": "stream",
     "text": [
      "x = 1.2 sin(x) = 0.9320390859672263\n"
     ]
    }
   ],
   "source": [
    "x = 1.2\n",
    "N = 25 #max power in sum\n",
    "k = 1\n",
    "sign = 1\n",
    "s = x\n",
    "while N > k:\n",
    "    sign = -sign\n",
    "    k = k+2\n",
    "    term = sign*x**k/math.factorial(k) # x^n/n!\n",
    "    s = s + term\n",
    "    \n",
    "print('x =',x,'sin(x) =',s)"
   ]
  },
  {
   "cell_type": "code",
   "execution_count": 5,
   "metadata": {},
   "outputs": [],
   "source": [
    "# Mixed data type list\n",
    "L = ['human',3,'torch',1.0,'song',4.15,'slaps']"
   ]
  },
  {
   "cell_type": "code",
   "execution_count": 6,
   "metadata": {},
   "outputs": [
    {
     "data": {
      "text/plain": [
       "'humantorchsongslaps'"
      ]
     },
     "execution_count": 6,
     "metadata": {},
     "output_type": "execute_result"
    }
   ],
   "source": [
    "L[0]+L[2]+L[4]+L[6] # adding elements from list"
   ]
  },
  {
   "cell_type": "code",
   "execution_count": 7,
   "metadata": {},
   "outputs": [
    {
     "data": {
      "text/plain": [
       "float"
      ]
     },
     "execution_count": 7,
     "metadata": {},
     "output_type": "execute_result"
    }
   ],
   "source": [
    "type(L[3]) #determine data type"
   ]
  },
  {
   "cell_type": "code",
   "execution_count": 8,
   "metadata": {},
   "outputs": [
    {
     "name": "stdout",
     "output_type": "stream",
     "text": [
      "list element 1\n",
      "list element 4\n",
      "human\n",
      "torch\n",
      "song\n",
      "slaps\n"
     ]
    }
   ],
   "source": [
    "for n in L:\n",
    "    if (type(n) == float):\n",
    "        print(\"list element %d\" %(n)) #note for %d must be int or float\n",
    "for i in L:\n",
    "    if (type(i)==str):\n",
    "        print(i)"
   ]
  },
  {
   "cell_type": "markdown",
   "metadata": {},
   "source": [
    "### Functions"
   ]
  },
  {
   "cell_type": "code",
   "execution_count": 9,
   "metadata": {},
   "outputs": [
    {
     "name": "stdout",
     "output_type": "stream",
     "text": [
      "2.5\n",
      "3.5\n"
     ]
    }
   ],
   "source": [
    "def function(n): #define function\n",
    "    s = ((2*n)+1)/math.factorial(n) #don't forget the flippin brackets\n",
    "    print(s)\n",
    "    \n",
    "    return s\n",
    "\n",
    "\n",
    "s = function(2)+1\n",
    "print(s)"
   ]
  },
  {
   "cell_type": "code",
   "execution_count": 10,
   "metadata": {},
   "outputs": [],
   "source": [
    "def displacement(t,v):\n",
    "    g = 9.81\n",
    "    vf = v - g*t\n",
    "    return vf,v*t - 0.5*g*t**2"
   ]
  },
  {
   "cell_type": "code",
   "execution_count": 11,
   "metadata": {},
   "outputs": [],
   "source": [
    "vf,disp = displacement(10,0)"
   ]
  },
  {
   "cell_type": "code",
   "execution_count": 12,
   "metadata": {},
   "outputs": [
    {
     "name": "stdout",
     "output_type": "stream",
     "text": [
      "-98.10000000000001 -490.5\n"
     ]
    }
   ],
   "source": [
    "print(vf,disp)"
   ]
  },
  {
   "cell_type": "code",
   "execution_count": 13,
   "metadata": {},
   "outputs": [
    {
     "name": "stdout",
     "output_type": "stream",
     "text": [
      "0.0\n",
      "Time: 0.0\n",
      "Position: 5.0\n",
      "Velocity: 0.0\n",
      "0.05\n",
      "Time: 0.05\n",
      "Position: 4.5095\n",
      "Velocity: 0.2377375\n",
      "0.1\n",
      "Time: 0.1\n",
      "Position: 4.019\n",
      "Velocity: 0.45094999999999996\n",
      "0.15000000000000002\n",
      "Time: 0.15000000000000002\n",
      "Position: 3.5284999999999997\n",
      "Velocity: 0.6396375000000001\n",
      "0.2\n",
      "Time: 0.2\n",
      "Position: 3.038\n",
      "Velocity: 0.8038\n",
      "0.25\n",
      "Time: 0.25\n",
      "Position: 2.5475\n",
      "Velocity: 0.9434374999999999\n",
      "0.30000000000000004\n",
      "Time: 0.30000000000000004\n",
      "Position: 2.0569999999999995\n",
      "Velocity: 1.05855\n",
      "0.35000000000000003\n",
      "Time: 0.35000000000000003\n",
      "Position: 1.5664999999999996\n",
      "Velocity: 1.1491375000000001\n",
      "0.4\n",
      "Time: 0.4\n",
      "Position: 1.0759999999999996\n",
      "Velocity: 1.2151999999999998\n",
      "0.45\n",
      "Time: 0.45\n",
      "Position: 0.5854999999999997\n",
      "Velocity: 1.2567374999999998\n"
     ]
    }
   ],
   "source": [
    "t_val = [0.05*i for i in range(10)]\n",
    "for t in t_val:\n",
    "    pos, vel = displacement(t,v=5)\n",
    "    print(t)\n",
    "    print('Time:',t)\n",
    "    print('Position:',pos)\n",
    "    print('Velocity:', vel)\n",
    "\n"
   ]
  },
  {
   "cell_type": "markdown",
   "metadata": {},
   "source": [
    "### Intergration Using Simpson's Rule"
   ]
  },
  {
   "cell_type": "markdown",
   "metadata": {},
   "source": [
    "$$ \\int_{a}^{b} f(x) dx $$\n",
    "\n",
    "$$ \\int_{a}^{b} f(x) dx \\approx \\frac{b-a}{3n} \\left( f(a) + f(b) + 4 \\sum_{n=1}^{n/2} f(a + (2i-1)h) + 2 \\sum_{i=1}^{n/2-1} f(a+2ih) \\right)$$"
   ]
  },
  {
   "cell_type": "code",
   "execution_count": 14,
   "metadata": {},
   "outputs": [],
   "source": [
    "def Simpson(f,a,b,n=500):\n",
    "    h = (b-a)/n\n",
    "    \n",
    "    sum1 = 0\n",
    "    for i in range(1, int(n/2 + 1)):\n",
    "        sum1 += f(a + (2*i-1)*h) \n",
    "    sum2 = 0\n",
    "    for i in range(1, int(n/2)):\n",
    "        sum2 += f(a+2*i*h)\n",
    "        \n",
    "    integral = ((b-a)/(3*n))*(f(a)+f(b)+4*sum1+2*sum2)\n",
    "    return integral"
   ]
  },
  {
   "cell_type": "code",
   "execution_count": 15,
   "metadata": {},
   "outputs": [],
   "source": [
    "import math \n",
    "\n",
    "def h(x):\n",
    "    return (3./2)* math.sin(x)**3"
   ]
  },
  {
   "cell_type": "code",
   "execution_count": 16,
   "metadata": {},
   "outputs": [
    {
     "name": "stdout",
     "output_type": "stream",
     "text": [
      "n=  2, approx= 3.141592653589793, error=-1.14E+00\n",
      "n=  6, approx= 1.989171700583579, error= 1.08E-02\n",
      "n= 12, approx= 1.999489233010781, error= 5.11E-04\n",
      "n=100, approx= 1.999999902476350, error= 9.75E-08\n",
      "n=500, approx= 1.999999999844138, error= 1.56E-10\n"
     ]
    }
   ],
   "source": [
    "for n in [2, 6, 12, 100, 500]:\n",
    "    approx = Simpson(h,0,math.pi, n)\n",
    "    print (\"n=%3d, approx=%18.15f, error=%9.2E\" %(n, approx, 2-approx))"
   ]
  },
  {
   "cell_type": "code",
   "execution_count": 17,
   "metadata": {},
   "outputs": [
    {
     "name": "stdout",
     "output_type": "stream",
     "text": [
      "x=?2\n"
     ]
    },
    {
     "data": {
      "text/plain": [
       "2"
      ]
     },
     "execution_count": 17,
     "metadata": {},
     "output_type": "execute_result"
    }
   ],
   "source": [
    "X = input('x=?')\n",
    "int(X)"
   ]
  },
  {
   "cell_type": "markdown",
   "metadata": {},
   "source": [
    "### Opening + Reading txt file"
   ]
  },
  {
   "cell_type": "code",
   "execution_count": 57,
   "metadata": {},
   "outputs": [],
   "source": [
    "infile = open(\"textfile.txt\",\"r\")"
   ]
  },
  {
   "cell_type": "code",
   "execution_count": 58,
   "metadata": {},
   "outputs": [],
   "source": [
    "lines = []\n",
    "lines = infile.readlines()"
   ]
  },
  {
   "cell_type": "code",
   "execution_count": 62,
   "metadata": {},
   "outputs": [
    {
     "name": "stdout",
     "output_type": "stream",
     "text": [
      "['**sick beats and human torch(TM) bops it at the mic**\\n', '\\n', 'they oughta teach you this in school\\n', 'it aint always cool to be cool\\n', 'they try to play you for a fool\\n', 'like you see a girl who you meet\\n', \"it's a treat, cuase she's sweet\\n\", 'and she really seems to knock you off your feet\\n', \"you wanna say heym, but you don't\\n\", \"your mom says 'tell her how you feel' but you won't\\n\", \"cause you're just too cool to tell truly\\n\", \"get ya feelings out there and then really don't try to school me\\n\", 'so she passes you by in the hallway\\n', \"you're staring at the wall tryna play while i say\\n\", \"yeah you're cool\\n\", 'really cool slick just like ice\\n', \"but ya didn't realize you never get this chance twice\\n\", \"so you're busy playing cool now she's gone\\n\", 'gone on onto another while i sing my funky song\\n', 'i never pass up a chance\\n', 'i know this story seems long\\n', 'but when i know the time is right for me and you i just\\n', 'Flame on...and on and on and on...\\n']\n",
      "23\n"
     ]
    }
   ],
   "source": [
    "for line in infile:\n",
    "    lines.append(line)\n",
    "    \n",
    "print(lines)\n",
    "print(len(lines))"
   ]
  },
  {
   "cell_type": "code",
   "execution_count": 63,
   "metadata": {},
   "outputs": [],
   "source": [
    "infile.close()"
   ]
  },
  {
   "cell_type": "code",
   "execution_count": null,
   "metadata": {},
   "outputs": [],
   "source": []
  },
  {
   "cell_type": "code",
   "execution_count": null,
   "metadata": {},
   "outputs": [],
   "source": []
  }
 ],
 "metadata": {
  "kernelspec": {
   "display_name": "Python 3",
   "language": "python",
   "name": "python3"
  },
  "language_info": {
   "codemirror_mode": {
    "name": "ipython",
    "version": 3
   },
   "file_extension": ".py",
   "mimetype": "text/x-python",
   "name": "python",
   "nbconvert_exporter": "python",
   "pygments_lexer": "ipython3",
   "version": "3.7.3"
  }
 },
 "nbformat": 4,
 "nbformat_minor": 2
}

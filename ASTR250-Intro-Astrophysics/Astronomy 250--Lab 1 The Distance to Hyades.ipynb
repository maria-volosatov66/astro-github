{
 "cells": [
  {
   "cell_type": "markdown",
   "metadata": {},
   "source": [
    "## **Lab 5 - The Distance of the Hyades Star Cluster [1]**\n",
    "Maria Volosatov, V00899046"
   ]
  },
  {
   "cell_type": "markdown",
   "metadata": {},
   "source": [
    "## **Objective**\n",
    "In this lab exercise, the Distance Ladder is introduced, illustrating methods by which astronomers measure distances in space ranging from relatively close-by objects to objects located many thousands of light years away.\n"
   ]
  },
  {
   "cell_type": "markdown",
   "metadata": {},
   "source": [
    "## **Introduction**\n",
    "Lacking the ability to precisely measure distance to objects in space forces astronomers to devise methods by which these distances can be attained and interpreted for further studies. Some methods can be considered archaic, such as parallax, which uses two different positions of measurement to determine an angle. The annual parallax specifically relies on observations to be taken between a period of six months. The angle can be inferred by the apparent shift of the star with a mean distance of 1 AU between observation points [2]. Annual parallax allows us to measure distances within approximately 100pc of our sun. \n",
    "\n",
    "Another method uses the motion of stellar objects across space, using two components, namely the radial velocity (the motion away or towards from the observer denoted vr) and transverse velocity (the motion perpendicular to the line of sight denoted vt). The radial velocity can be measured from the spectra of a star. As a star moves towards or away from us, it has a measurable Doppler shift, seen in the shift of spectral lines as the resting wavelength changes slightly. If the ratio of the wavelengths ($\\delta$$\\lambda$/$\\lambda$) > 0, the star's motion is in the direction away from the observer as it is being redshifted (the difference in wavelengths, $\\delta$$\\lambda$, is positive, therefore the newly measured wavelength is greater than the resting wavelength). If the ratio is < 0, the star's motion is in the direction towards the observer as it is being blueshifted ($\\delta$$\\lambda$ is < 0 since the observed wavelength is less than the resting wavelength)[1]. The transverse velocity can be calculated from a star's movement across the sky over several years. As the size of stellar images is usually a fraction of an arcsecond, the position of the star is measureable to an accuracy of about a hundreth of an arcsecond [1].\n",
    "\n",
    "In most cases, the distance to the stellar object is necessary to determine its velocity components; however, for certain star clusters (gravitationally bound groups of stars), we can assume that the stars are located at approximately the same distance, and thus move in a unified way. By observing the motion of stars in the Hyades cluster, we can see that the stars appear to be moving towards a convergence point, even though their motions are more or less in parallel. If one was to extend a line from the point of observation to the point of convergence (line of sight), the angle between the star and the convergence point would be equal to the angle between the true space velocity of the star, v, and its radial velocity, vr. From this, the relation vt/vr = tan$\\theta$ can be derived, and the distance to the star can be calculated using the relation d= vr tan$\\theta$ / (4.74$\\mu$).\n",
    "\n"
   ]
  },
  {
   "cell_type": "markdown",
   "metadata": {},
   "source": [
    "## **Procedure**\n",
    "The first step is to determine the point of convergence using a ruler to extend the apparent pathway of the stars in the proper motion chart, with the lines predicting the path of the individual stars in the span of 1400 years. This allows us to obtain a value for the right ascension and the declination. An error can be approximated by drawing a box around the area where the lines appear to converge. This data combined with the literature values given in table 5.1 then allow us to use the trigonometric relation between the arctangent of the radial and transverse velocity, theta. For each star, we can obtain an individual value of theta, which can then be averaged and used in equation 5.3, allowing us to approximate the mean distance to Hyades in parsecs. An individual measurement of the distance for each of the ten stars uses the moving cluster parallax method. As explained before, this will use the trigonometric relation and radial and proper motions given in table 5.1 to derive a value of theta, which can then be used to calculate the distance of the line of sight (extending from the observer to the cluster's point of convergence). The data can then be compared to the HIPPARCOS value for the distance, providing insight on the accuracy and precision of the moving-cluster method, and the assumptions/uncertainties which inevitably lead to devitaion in the values. \n",
    "Equipment used in this lab includes the chart of Hyades stars, a ruler for extending the motion to approximate the convergence point, and python notebook to perform the calculations (see below). "
   ]
  },
  {
   "cell_type": "markdown",
   "metadata": {},
   "source": [
    "## **THIS IS WHERE THE ACTION STARTS!**\n",
    "\n",
    "## **Load Python modules/packages**\n",
    "\n",
    "Run the following cell to load all the Python 3 modules and packages needed for this lab. In this introductory lab, we do not expect you to understand the steps involved in importing packages. If interested, you may refer to the extensive documentation related to Python 3 available online. \n",
    "\n",
    "To run (=execute) a cell, press the *SHIFT* and *ENTER* keys simultaneously on the keyboard. This works for both Markdown and Code cells."
   ]
  },
  {
   "cell_type": "code",
   "execution_count": 1,
   "metadata": {},
   "outputs": [],
   "source": [
    "## Import all the needed packeages\n",
    "import os\n",
    "from astropy import *\n",
    "import numpy as np\n",
    "import math as m\n",
    "import matplotlib.pyplot as plt\n",
    "from astropy.visualization import astropy_mpl_style\n",
    "plt.style.use(astropy_mpl_style)\n"
   ]
  },
  {
   "cell_type": "markdown",
   "metadata": {},
   "source": [
    "## **STEP 1: Find the convergence point**\n",
    "\n",
    "Complete this step using the handout. Carefully draw the lines as explained in the lab manual, and determine the location of the _convergence point_. \n",
    "\n",
    "## **Question 1**\n",
    "In the cell below, enter the location of the convergence point and also the error in the location (**in decimal hours**)"
   ]
  },
  {
   "cell_type": "code",
   "execution_count": 41,
   "metadata": {},
   "outputs": [],
   "source": [
    "## Location of the convergence point: RA in decimal hours, Dec in decimal degrees\n",
    "## for example, RA_cp = 5.92 ## = 5h 55m\n",
    "## RA_cp_err = 0.17 ## = 10m\n",
    "RA_cp = 6.00\n",
    "Dec_cp = 12.3\n",
    "RA_cp_err = 0.067\n",
    "Dec_cp_err = 3\n",
    "\n",
    "## IMPORTANT: AFTER YOU ENTER THE VALUES, RUN THIS CELL (PRESS SHIFT+ENTER) BEFORE PROCEEDING FURTHER"
   ]
  },
  {
   "cell_type": "markdown",
   "metadata": {},
   "source": [
    "## **Enter the (RA, Dec) positions of the 10 stars shown in the handout**\n",
    "\n",
    "* From the handout, read the RA, Dec positions of the ten labelled stars.\n",
    "* Convert the RA from (hh:mm) to decimal hours.\n",
    "* Read Dec in decimal degrees. \n",
    "* Enter the positions as a list separated by commas within the square brackets (see the format in the sample list shown!).\n",
    "* Enter the stars positions in the order 1 -> 10 for both RA and Dec."
   ]
  },
  {
   "cell_type": "code",
   "execution_count": 42,
   "metadata": {},
   "outputs": [],
   "source": [
    "## sample_list\n",
    "## RA_star = [3.23,4.01,4.22,4.44,.. etc]\n",
    "RA_star = [3.85,4.13,4.28,4.33,4.38,4.57,4.70,4.82,5.00,5.10] ## enter the RA of the ten stars separated by commas within the square brackets\n",
    "Dec_star = [17.3,18.4,16.5,17.7,16.9,15.0,11.1,10.8,21.8,9.00] ## enter the Dec of the ten stars separated by commas within the square brackets"
   ]
  },
  {
   "cell_type": "markdown",
   "metadata": {},
   "source": [
    "## **STEP 2: Measure angles**\n",
    "\n",
    "Before we calculate the angles, we have to make sure the units are correct. Both RA and Dec of the stars and the convergence point have to be expresses in **radians**\n",
    "\n",
    "**For these calculations, we will use the mathematical functions available in the Python _Numpy_ package**\n",
    "To multiply two lists (of equal length), or a list with a number, use\n",
    "* answer = np.multiply(list1,list2)\n",
    "* answer = np.multiply(number,list)\n",
    "\n",
    "**NOTE** You can just multiply two numbers together without using this function\n",
    "\n",
    "answer = number1 * number2"
   ]
  },
  {
   "cell_type": "code",
   "execution_count": 43,
   "metadata": {},
   "outputs": [
    {
     "name": "stdout",
     "output_type": "stream",
     "text": [
      "Central position of Hyades = Mean RA, Dec of the ten stars [radians]\n",
      "Mean RA: 1.182286\n",
      "Mean Dec: 0.269653\n",
      "\n",
      "Convergence Point\n",
      "RA: 1.570796\n",
      "Dec: 0.214675\n"
     ]
    }
   ],
   "source": [
    "# First define the conversion factors to convert RA from decimal hours to degrees then to radians,\n",
    "# and Dec from decimal degrees to radians\n",
    "h2deg = 15. ## conversion factor h -> deg\n",
    "deg2rad = m.pi/180. ## conversion factor deg -> rad\n",
    "h2rad = h2deg*deg2rad ## conversion factor h -> rad\n",
    "\n",
    "## convert the RA of the stars and the convergence point to radians\n",
    "RA_star_rad = np.multiply(h2rad,RA_star)\n",
    "RA_cp_rad = np.multiply(h2rad,RA_cp) ## enter the appropriate quantities in the paranthesis\n",
    "RA_cp_err_rad = np.multiply(h2rad,RA_cp_err)\n",
    "\n",
    "## convert Dec from deg to radians\n",
    "Dec_star_rad = np.multiply(deg2rad,Dec_star)\n",
    "Dec_cp_rad = np.multiply(deg2rad,Dec_cp) ## enter the appropriate quantities in the paranthesis\n",
    "Dec_cp_err_rad = np.multiply(deg2rad,Dec_cp_err)\n",
    "\n",
    "## print out the comptued values\n",
    "## TAKE NOTE OF HOW TO PRINT OUT THE COMPUTED VALUES\n",
    "print('Central position of Hyades = Mean RA, Dec of the ten stars [radians]')\n",
    "print('Mean RA: %.6f' % (np.mean(RA_star_rad)))\n",
    "print('Mean Dec: %.6f' % (np.mean(Dec_star_rad)))\n",
    "print('')\n",
    "print('Convergence Point')\n",
    "print('RA: %.6f' % ((RA_cp_rad)))\n",
    "print('Dec: %.6f' % ((Dec_cp_rad)))\n"
   ]
  },
  {
   "cell_type": "markdown",
   "metadata": {},
   "source": [
    "**CHECK YOUR ANSWERS**\n",
    "If you have done the measurements and calculations properly, your answers should be _close_ to these values. There is always measurement errors, so the answers will not match perfectly!\n",
    "\n",
    "Central position of Hyades, RA, Dec = (1.165, 0.28) [radians]\n",
    "\n",
    "Convergence Point, RA, Dec = (1.686, 0.1012) [radians]"
   ]
  },
  {
   "cell_type": "markdown",
   "metadata": {},
   "source": [
    "## **Use spherical trigonometry to calculate the angle of sight**\n",
    "We will now use a formula from spherical trigonometry to calculate the angles between the stars positions and the convergence point. This is referred to as the **angle of sight** in the lab manual (top of page 35, and $\\theta_A$, $\\theta_B$ in Figure 5.4(b))\n",
    "\n",
    "**Refer to the Wikipedia article: [angular distance](https://en.wikipedia.org/wiki/Angular_distance)**\n",
    "\n",
    "<span style=\" font-size: 2em;\">\n",
    "cos($\\theta$) = sin($\\delta$)*sin($\\delta_{cp}$) + cos($\\delta$)*cos($\\delta_{cp}$)*cos($\\alpha$ - $\\alpha_{cp}$)\n",
    "</span>\n",
    "\n",
    "In the formula, $\\alpha$ and $\\delta$ refer to RA and Dec (in radians). The subscript, cp refers to convergence point. On the LHS, the $\\theta$ refers to the angle of sight.\n",
    "\n",
    "**For these calculations, we will use the trigonometric functions available in the _Numpy_ package**\n",
    "To find the sin and cos of any angle theta (in radians)\n",
    "\n",
    "sin_theta = np.sin(theta)\n",
    "\n",
    "cos_theta = np.cos(theta)"
   ]
  },
  {
   "cell_type": "code",
   "execution_count": 44,
   "metadata": {},
   "outputs": [
    {
     "name": "stdout",
     "output_type": "stream",
     "text": [
      "mean(cos_theta) = 0.922321\n",
      "mean(theta) = 0.386861\n"
     ]
    }
   ],
   "source": [
    "## Calculate all the sin and cos terms needed for the formula above\n",
    "## FOR YOUR CONVENIENCE, ALL THE STEPS OF THIS CALCULATION HAVE BEEN PROVIDED\n",
    "sin_delta = np.sin(Dec_star_rad)\n",
    "sin_delta_cp = np.sin(Dec_cp_rad)\n",
    "\n",
    "cos_delta = np.cos(Dec_star_rad)\n",
    "cos_delta_cp = np.cos(Dec_cp_rad)\n",
    "alpha_alpha_cp = RA_star_rad - RA_cp_rad\n",
    "cos_alpha_alpha_cp = np.cos(alpha_alpha_cp)\n",
    "\n",
    "## multiply these terms as given in the formula to get the LHS\n",
    "Term1 = np.multiply(sin_delta,sin_delta_cp)\n",
    "Term2 = np.multiply(cos_delta,cos_delta_cp)\n",
    "Term2 = np.multiply(Term2,cos_alpha_alpha_cp)\n",
    "\n",
    "cos_theta = Term1 + Term2\n",
    "\n",
    "## Print out the mean value of cos_theta to check your answer\n",
    "print('mean(cos_theta) = %.6f' % (np.mean(cos_theta)))\n",
    "\n",
    "# now use inverse cosine to find theta\n",
    "theta = np.arccos(cos_theta)\n",
    "\n",
    "\n",
    "## Print out the mean value of theta to check your answer\n",
    "print('mean(theta) = %.6f' % (np.mean(theta)))\n"
   ]
  },
  {
   "cell_type": "markdown",
   "metadata": {},
   "source": [
    "**CHECK YOUR ANSWERS** If you have done the calculations properly, your answers should be close to these values. There is always measurement errors, so the answers will not match perfectly!\n",
    "\n",
    "cos_theta = 0.87\n",
    "\n",
    "theta = 0.511 radian"
   ]
  },
  {
   "cell_type": "markdown",
   "metadata": {},
   "source": [
    "## **Question 2**\n",
    "\n",
    "What are the values of $\\theta$ for each star? Print out the results in a column format.\n",
    "\n",
    "**NOTE** We have given you a sample code snippet to do this. Use this and learn how to print results out neatly and use it later. You can change the format, '%.6f' to some other value if you wish more or less precision (_sigfig_)"
   ]
  },
  {
   "cell_type": "code",
   "execution_count": 45,
   "metadata": {},
   "outputs": [
    {
     "name": "stdout",
     "output_type": "stream",
     "text": [
      "The calculated values for theta are:\n",
      "0.550\n",
      "0.483\n",
      "0.442\n",
      "0.432\n",
      "0.418\n",
      "0.367\n",
      "0.334\n",
      "0.304\n",
      "0.300\n",
      "0.239\n",
      "The calculated values for cos theta are: \n",
      "0.85\n",
      "0.89\n",
      "0.90\n",
      "0.91\n",
      "0.91\n",
      "0.93\n",
      "0.94\n",
      "0.95\n",
      "0.96\n",
      "0.97\n"
     ]
    },
    {
     "data": {
      "text/plain": [
       "array([ 0.8522827 ,  0.8854391 ,  0.90393205,  0.90801024,  0.91395419,\n",
       "        0.93352272,  0.9447872 ,  0.95422468,  0.95537443,  0.97167833])"
      ]
     },
     "execution_count": 45,
     "metadata": {},
     "output_type": "execute_result"
    }
   ],
   "source": [
    "print('The calculated values for theta are:')\n",
    "for theta_value in theta:\n",
    "   print('%.3f' % (theta_value))\n",
    "print('The calculated values for cos theta are: ')\n",
    "for cos_value in cos_theta:\n",
    "   print('%.2f' % cos_value)\n",
    "#or print out the array, as below\n",
    "cos_theta\n",
    "    "
   ]
  },
  {
   "cell_type": "markdown",
   "metadata": {},
   "source": [
    "## **Step 3: Calculate the distance to Hyades using the radial velocities and proper motions** \n",
    "\n",
    "Use the radial velocities and proper motions of these ten stars given in Table 5.1, and the Equation (5.3) to calculate the distance to Hyades."
   ]
  },
  {
   "cell_type": "code",
   "execution_count": 46,
   "metadata": {},
   "outputs": [
    {
     "name": "stdout",
     "output_type": "stream",
     "text": [
      "mean distance = 31.620\n"
     ]
    }
   ],
   "source": [
    "# Use Equation (5.3) to calculate the distance with the radial velocity and proper motion values given in Table 5.1\n",
    "# FOR YOUR CONVENIENCE, the values of the radial velocities \n",
    "## and proper motions have been entered in these two lists\n",
    "## IF YOU HAVE DONE ALL THE PREVIOUS STEPS, \n",
    "## YOU CAN JUST RUN THIS CELL TO COMPUTE THE DISTANCE TO HYADES!\n",
    "\n",
    "rad_vel = [31.6,31.0,36.6,38.3,43.8,38.2,39.3,38.6,43.6,38.8] ## km.s-1\n",
    "prop_mtn = [0.147,0.1278,0.1267,0.1115,0.1029,0.0886,0.0998,0.0880,0.0801,0.0640] # arc.sec/y\n",
    "\n",
    "tan_theta = np.tan(theta)\n",
    "numer = np.multiply(rad_vel,tan_theta)\n",
    "denom = np.multiply(4.74,prop_mtn)\n",
    "dist_pc = np.divide(numer,denom)\n",
    "\n",
    "## Print out the mean distance to Hyades\n",
    "print('mean distance = %.3f' % (np.mean(dist_pc)))\n"
   ]
  },
  {
   "cell_type": "markdown",
   "metadata": {},
   "source": [
    "**CHECK YOUR ANSWERS**\n",
    "\n",
    "For comparison, the distance to Hyades from published literature = 46.34 +/- 0.27 pc [Perryman et.al., 1998, A&A, 331]"
   ]
  },
  {
   "cell_type": "markdown",
   "metadata": {},
   "source": [
    "## **Question 3**\n",
    "\n",
    "What are your distances to each star? Print out the results in a column format.\n",
    "\n",
    "**NOTE** Use the code segment in the previous cell for theta, and change the name of the variable to dist_pc. You can change the format, '%.6f' to some other value if you wish more or less precision (_sigfig_)"
   ]
  },
  {
   "cell_type": "code",
   "execution_count": 47,
   "metadata": {},
   "outputs": [
    {
     "name": "stdout",
     "output_type": "stream",
     "text": [
      "The distances to each star are:\n",
      "27.834\n",
      "26.861\n",
      "28.834\n",
      "33.436\n",
      "39.874\n",
      "34.933\n",
      "28.814\n",
      "29.005\n",
      "35.507\n",
      "31.105\n"
     ]
    }
   ],
   "source": [
    "## Print out the distances to each star.\n",
    "print('The distances to each star are:')\n",
    "for dist_value in dist_pc:\n",
    "    print('%0.3f' % dist_value)"
   ]
  },
  {
   "cell_type": "markdown",
   "metadata": {},
   "source": [
    "## **Step 4: Estimate the uncertainties**\n",
    "\n",
    "For _at least one_ of the stars estimate the uncertainty in the distance due to the uncertainty in the radial velocity, the uncertainty in the proper motion, and your inability to precisely determine the convergent point. \n",
    "\n",
    "Since you are using this program for your computations, you can easily estimate the uncertainties for all the stars!\n",
    "\n",
    "## **Question 4**\n",
    "\n",
    "Print out these uncertainties in a neat column format. Which of these uncertainties causes the largest uncertainty in the distance? Which of these uncertainties will affect the distances in a random manner? Which will be a systematic error?\n",
    "\n",
    "**Use the cell below to print out the uncertainties. Type out the answers to the questions in this cell itself**"
   ]
  },
  {
   "cell_type": "markdown",
   "metadata": {},
   "source": [
    "Star 5 was used to measure the uncerainty due to three factors: the uncertainty due to position of the convergence point, the uncertainty due to the radial velocity, and the uncertainty due to the proper motion. We can see from the changes in the values as the uncertainty for each individual factor is altered that the position of the convergence point has the greatest impact on the distance measurement. As we found the convergence point in part 1 of the procedure, we can expect a large systematic error due to our inability to correctly pinpoint the apparent point of convergence."
   ]
  },
  {
   "cell_type": "code",
   "execution_count": 56,
   "metadata": {},
   "outputs": [
    {
     "name": "stdout",
     "output_type": "stream",
     "text": [
      "Star five has measured distance in pc:\n",
      "39.87\n",
      "When the position is +0.067/-3: 43.337 pc\n",
      "When the positionis -0.067/+3: 37.060 pc\n",
      "The value of star five when the radial velocity was increased +0.5km/s: 40.329 pc\n",
      "When the radial velocity was decreased -0.5km/s: 39.419 pc\n",
      "When the proper motion was increased +0.0008\"/yr: 39.566 pc \n",
      "When the proper motion was decreased -0.0008\"/yr: 40.186 pc\n"
     ]
    }
   ],
   "source": [
    "## Print out the uncertainty in the distance from each of the parameters specified above (use a formatted column).\n",
    "\n",
    "print('Star five has measured distance in pc:')\n",
    "print('%0.2f' % dist_pc[4])\n",
    "print('When the position is +0.067/-3: 43.337 pc')\n",
    "print('When the positionis -0.067/+3: 37.060 pc')\n",
    "\n",
    "print('The value of star five when the radial velocity was increased +0.5km/s: 40.329 pc')\n",
    "print('When the radial velocity was decreased -0.5km/s: 39.419 pc')\n",
    "print('When the proper motion was increased +0.0008\"/yr: 39.566 pc ')\n",
    "print('When the proper motion was decreased -0.0008\"/yr: 40.186 pc')\n"
   ]
  },
  {
   "cell_type": "markdown",
   "metadata": {},
   "source": [
    "## **Step 5: Find the mean and standard deviation of the calculated distances**\n",
    "\n",
    "The average (mean) of the distances was calculated to be 31.620 pc, with a standard deviation of 4.179. Using the uncertainty in the Right Ascension of +/- 0.067 and Declination of +/- 3, we are able to calculate an upper bound of 34.329pc and a lower bound of 29.621pc for the mean distance. The average of the differences between the lower and upper bound and the mean is equal to +/- 2.354pc. \n",
    "\n",
    "\n",
    "\n",
    "\n",
    "## **Question 5**\n",
    "The distance to stars 1,3,4,6,7,8,9, & 10 are within one standard deviation of the mean. According to definition of random error, for the amount of measurements taken, these 8 stars which fall within one standard deviation of the mean are percise in the sense that they accumulate close to the mean value, however the values themselves and the mean deviate greatly from the accepted value of 46.34 pc. This indicates a systematic error (the results are inaccurate). \n",
    "\n"
   ]
  },
  {
   "cell_type": "markdown",
   "metadata": {},
   "source": [
    "## **ADDITIONAL QUESTIONS:**\n",
    "(**DO EXTRA REFERENCES AND ANSWER THESE QUESTIONS AT HOME. YOU CAN TYPE YOUR ANSWERS HERE OR ON A SEPARATE SHEET OF PAPER, AS YOU WISH. CITE ALL YOUR REFERENCES!**)\n",
    "\n",
    "**Question 1. What is the mean distance in light years to the Hyades? Compare to the value given by the HIPPARCOS satellite of 151 +/- 1 light years.**\n",
    "\n",
    "Converting the parsecs into meters and then into light years, we get 31.602 pc x (3.086x10^16m/pc) x (1.057x10^-16 ly / m) = 103.071 light years, which is a significant underestimate compared to the accepted value. Performing a consistency check, we find the range of error for the mean is +2.709pc / -1.999pc, averaging +/- 2.354pc. The upper and lower values of the mean fall beneath the range of acceptable error for the distance to Hyades cluster, which ranges between 46.07 and 46.61 pc, or 150 and 152 ly. \n",
    "\n",
    "**Question 2. What assumptions have you made concerning the method in general? (In particular, consider several reasons why the distances to the individual stars differ from each other.) Are these uncertainties quantified in your errors?**\n",
    "\n",
    "A general assumption must be made that all stars are moving at a common space velocity, and for the parallax method to give a viable approximation, the cluster must be within a few hundred parsecs of Earth (the observation point), and tightly bound in order to maximize its luminosity and make it bright enough to measure in the night sky. [3] \n",
    "In reality, stars in clusters are acted upon by gravitational forces from their companions and vary in mass, affecting their individual motions. There are other factors which act upon the motion of the individual stars; they are affected by gravity of nearby stars, they may have binary companions, and just like our own sun, they are affected by supermassive objects such as the center of the Milky Way galaxy. Stars also have their individual rotations and random motions which affect the calculation. The angular size measured on the night sky must be large enough to determine a convergence point. These assumptions and contributions to the error in the moving cluster method are quantified in this experiment; the proper motions in the chart can be extended, but there is no concrete convergence point—it is within some error, more so in the declination as was found. This component in turn will affect the calculation of angle theta. We can determine from the equation (assuming vr to be a value from the chart) how theta impacts the distance calculation: smaller values of theta plugged into tan(theta) result in a greater number than a tan of a smaller theta. Compare an arbitrary theta value of 0.8 and 0.008 radians: tan(0.8) = 0.0139, while tan(0.008) = 1.40x10^-4. So a greater theta will result in a larger numerator, and a larger distance, and vice versa with a smaller theta. For that reason as well systematic errors will have a significant impact on the accuracy of the measurement as repeatedly large or small distances will result in an average, which, as in our case, is a severe underestimate. \n",
    "\n",
    "\n",
    "\n",
    "\n",
    "**Question 3: The cluster of stars has an extent up-down, left-right, and front-back. What are these values (in pc or ly)? Is the cluster spherical?**\n",
    "\n",
    "According to the paper published by Perryman et. al., the Hyades cluster has a core radius of about 10 light years. It is not, however, classified as a spherical cluster. The radius of the cluster is not sufficient information to deduce whether Hyades is a spherical or open cluster. Globular clusters tend to have characteristic features which can be examined on an H-R diagram. These features include age, as globular clusters appear older, and consist of many yellow-orange and red stars (signifying their antiquity) which are densely packed. Globular clusters are also marked by their metallicity content, which is significantly lower than that of open clusters. [5]\n",
    "\n",
    "**Question 4: Will the cluster ever reach its convergent point? Why or why not?**\n",
    "\n",
    "The cluster will not reach its convergence point because the random motions of individual stars and differences in actual radial and transverse velocities will not coincide at a particular point—much like the railroad track, the convergence of the stars is apparent. \n",
    "\n",
    "**Question 5: The HIPPARCOS value was calculated using annual parallaxes. Which method do you think is more accurate? Why?**\n",
    "\n",
    "The HIPPARCOS is able to obtained a well-defined distance of 1 AU between the perihelion and aphelion of the Earth’s orbit, allowing it a greater estimate of the angle due to parallax and therefore the distance. HIPPARCOS’ advantage comes from its ability to measure the entire sky, being in space, and its ability to measure fainter stars than those found in parallax catalogues [6]. For those reasons, annual parallax is a more accurate method of measuring the distance to a cluster than the moving cluster method. "
   ]
  },
  {
   "cell_type": "markdown",
   "metadata": {},
   "source": [
    "## **DISCUSSIONS**\n",
    "   In this lab exercise, we examined the moving cluster method to estimate the distance to the Hyades cluster. The method uses parallax trigonometry to determine the components of the cluster's space velocity, namely radial and tranverse velocity. By determining the convergence point of the stars, we are able to get a measurement of the right ascention and the declination within an error box (the error can be expected to be considerably high as the choice of stars and their apparent point of convergence will vary on perspective/be biased). This measurement can then be used to measure the angle for each star to the point of convergence (after the RA and Dec values have been converted to units of degrees and decimal hours). The distance to the cluster can then be determined by using the calculated angle, theta, with the known radial velocities and proper motion given in table 5.1[1]. \n",
    "   \n",
    "   The mean value of theta was found to be 0.41521 radians. Performing a consistency check with the accepted value of theta = 0.511 radian, |0.415-0.511|/0.511 * 100% = %18.79. This is quite a considerable percent error, and as will become evident in the following analysis, will significantly impact our final result for the distance to Hyades. Using the relation vt (transverse velocity) = vr tan $\\theta$, the program is able to use values from table 5.1 for the radial velocities and proper motion and plug them into equation 5.3, giving a mean distance of 34.329pc. Performing a consistency check with the literature [Perryman et.al., 1998, A&A, 331], we find that |34.329-46.34|/46.34 * 100% = 25.92%, once again a considerable percentage error, and indeed we find that the value acquired by this method is a severe underestimate in comparison to the accepted value. The literature value's uncertainty lies within +/- 0.27pc, and the measured value is not within that range. \n",
    "   \n",
    "   The assumption that the stars lie at approximately the same distance may have impacted the end value; when extending the tangential lines, there does not appear to be a clear convergence point; there is an ‘uncertainty box’ surrounding the area in which the paths appear to converge. This error box was manually calculated to have the following dimensions; 0.067 decimal hours by 3 decimal degrees. Evidently there is a greater margin of error in the declination (vertical value). Comparing the mean declination point, 0.269, for the central position with the accepted values, we see that |0.269-0.28|/0.269*100% = 4.09% we are dealing with an underestimate for the declination. Comparing the declination of our convergence point with the accepted convergence point, we find that |0.162-0.1012|/0.162 * 100% = 37.53% the overestimate in the declination is significantly more severe just by analyzing the percentage error. This is indicative of a systematic error, which propagates to affect the accuracy of the end result. The systematic error could have been reduced at the preliminary stages of the experiment by a) taking more measurements of stars on the periphery and in the center of the Hyades stars, b) using greater precision (this pertains both the method of measuring and the tool of measurement, which in this case was a 100cm ruler with a percentage error of 0.05cm) when drawing the tangential lines, and c) more accurate scaling of the error box (it has, after all, been done manually and may not reflect the actual range of error in either direction—the error in RA and Dec could be smaller or larger). \n",
    "   \n",
    "   In section 4, we can observe that the greatest impact on the measurement of the distance (using star five for reference) is the point of convergence. When the radial velocity was altered, the distance deviated from a value of 39.874 between 39.419 and 40.329 pc. When the proper motion was altered, the distance deviated towards 39.566 and 40.186. When, however, we altered the position, the distances changed from the initial value towards 37.060 and 43.337 pc. This is an indication of systematic error in the measurement of the convergence point itself, as that appears to be the error that has the greatest impact on the overall calculation of both the mean and the individual positions of the star. \n"
   ]
  },
  {
   "cell_type": "markdown",
   "metadata": {},
   "source": [
    "## **CONCLUSIONS**\n",
    "\n",
    "The mean distance to the Hyades cluster was found to be 31.62 pc, which proved to be inaccurate with the literature value of 46.34 pc. The large percentage in uncertainties as shown by the consistency checks above indicate towards a systematic error which greatly reduced the accuracy of the results. The location of the convergence point included two values, the RA and Dec, with respectable uncertainties of 0.067 decimal hours and 3 decimal degrees. Substituting the upper and lower bounds allowed us to calculate the uncertainties for the distances to each star, which in turn required the literature values of the proper motion and radial velocity in order to determine the value of theta used in the distance calculation. \n",
    "Examining the impact of the uncertainties due to three factors, the proper motion, the radial velocity, and the position of the convergence point, we find that the latter has the greatest impact on the final calculation of the distance. In other words, it indicates to a systematic error which greatly reduces the accuracy of our calculation.\n"
   ]
  },
  {
   "cell_type": "markdown",
   "metadata": {},
   "source": [
    "## **REFERENCES**\n",
    "(_Include all your references here, using any standard citation style_.)"
   ]
  },
  {
   "cell_type": "markdown",
   "metadata": {},
   "source": [
    "[1] Laboratory Manual Astronomy 250, First Edition, Sakari & Robb (2011), revised, Thanjavur & Berg (2016), Department of Physics and Astronomy, University of Victoria.\n",
    "\n",
    "[2] Stellar Parallax, Wikipedia, last edited 25/09/18, https://en.wikipedia.org/wiki/Stellar_parallax\n",
    "\n",
    "[3] Moving Cluster Method, Wikipedia, last edited 13/07/18, https://en.wikipedia.org/wiki/Moving-cluster_method\n",
    "\n",
    "[4] EGA Presentation, Rung 2--Moving Cluster Method, Aparna V, Spring 2018, http://www.astro.gsu.edu/~crenshaw/Moving_Clusters.pdf![image.png](attachment:image.png)\n",
    "\n",
    "[5] Globular Clusters, Wikipedia, last edited 19/07/18, https://en.wikipedia.org/wiki/Globular_cluster![image.png](attachment:image.png)\n",
    "\n",
    "[6] 'Parallax is Great! GAIA will expand our view', Richmond, Michael, http://spiff.rit.edu/classes/ladder/lectures/parallax/parallax.html![image.png](attachment:image.png)"
   ]
  },
  {
   "cell_type": "code",
   "execution_count": null,
   "metadata": {},
   "outputs": [],
   "source": []
  }
 ],
 "metadata": {
  "kernelspec": {
   "display_name": "Python 3",
   "language": "python",
   "name": "python3"
  },
  "language_info": {
   "codemirror_mode": {
    "name": "ipython",
    "version": 3
   },
   "file_extension": ".py",
   "mimetype": "text/x-python",
   "name": "python",
   "nbconvert_exporter": "python",
   "pygments_lexer": "ipython3",
   "version": "3.7.3"
  }
 },
 "nbformat": 4,
 "nbformat_minor": 2
}

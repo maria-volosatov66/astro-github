{
 "cells": [
  {
   "cell_type": "markdown",
   "metadata": {},
   "source": [
    "# **Characteristics of a CCD**\n",
    "\n",
    "# **PROCEDURE: PART 2**\n"
   ]
  },
  {
   "cell_type": "markdown",
   "metadata": {},
   "source": [
    "## **Load Python modules/packages**\n",
    "\n",
    "Run the following cell to load all the Python 3 modules and packages needed for this lab. In this introductory lab, we do not expect you to understand the steps involved in importing packages. If interested, you may refer to the extensive documentation related to Python 3 available online. \n",
    "\n",
    "To run (=execute) a cell, press the *SHIFT* and *ENTER* keys simultaneously on the keyboard. This works for both Markdown and Code cells."
   ]
  },
  {
   "cell_type": "code",
   "execution_count": 4,
   "metadata": {},
   "outputs": [
    {
     "name": "stdout",
     "output_type": "stream",
     "text": [
      "============================= test session starts ==============================\n",
      "platform linux -- Python 3.6.4, pytest-3.5.0, py-1.5.3, pluggy-0.6.0\n",
      "\n",
      "Running tests with photutils version 0.5.\n",
      "Running tests in .local/lib/python3.6/site-packages/photutils.\n",
      "\n",
      "Date: 2018-10-16T01:58:41\n",
      "\n",
      "Platform: Linux-4.4.128-1.el7.elrepo.x86_64-x86_64-with-debian-9.4\n",
      "\n",
      "Executable: /opt/conda/bin/python\n",
      "\n",
      "Full Python Version: \n",
      "3.6.4 |Anaconda, Inc.| (default, Jan 16 2018, 18:10:19) \n",
      "[GCC 7.2.0]\n",
      "\n",
      "encodings: sys: utf-8, locale: UTF-8, filesystem: utf-8\n",
      "byteorder: little\n",
      "float info: dig: 15, mant_dig: 15\n",
      "\n",
      "Numpy: 1.12.1\n",
      "Scipy: 1.0.1\n",
      "Matplotlib: 2.2.2\n",
      "Cython: 0.25.2\n",
      "Astropy: 3.0.1\n",
      "scikit-image: 0.12.3\n",
      "scikit-learn: 0.19.1\n",
      "Using Astropy options: remote_data: none.\n",
      "\n",
      "rootdir: /home/mvolab66, inifile:\n",
      "plugins: remotedata-0.2.0, openfiles-0.2.0, doctestplus-0.1.2, arraydiff-0.2\n",
      "collected 1164 items\n",
      "\n",
      ".local/lib/python3.6/site-packages/photutils/aperture/tests/test_aperture_photometry.py . [  0%]\n",
      "........................................s................                [  4%]\n",
      ".local/lib/python3.6/site-packages/photutils/aperture/tests/test_bounding_box.py . [  5%]\n",
      ".........                                                                [  5%]\n",
      ".local/lib/python3.6/site-packages/photutils/aperture/tests/test_mask.py . [  5%]\n",
      "...........                                                              [  6%]\n",
      ".local/lib/python3.6/site-packages/photutils/background/tests/test_background_2d.py . [  6%]\n",
      "......................                                                   [  8%]\n",
      ".local/lib/python3.6/site-packages/photutils/background/tests/test_core.py . [  8%]\n",
      ".....................                                                    [ 10%]\n",
      ".local/lib/python3.6/site-packages/photutils/centroids/tests/test_core.py . [ 10%]\n",
      "........................                                                 [ 12%]\n",
      ".local/lib/python3.6/site-packages/photutils/datasets/tests/test_load.py . [ 12%]\n",
      ".s                                                                       [ 13%]\n",
      ".local/lib/python3.6/site-packages/photutils/datasets/tests/test_make.py . [ 13%]\n",
      "..............                                                           [ 14%]\n",
      ".local/lib/python3.6/site-packages/photutils/detection/tests/test_core.py . [ 14%]\n",
      ".........................                                                [ 16%]\n",
      ".local/lib/python3.6/site-packages/photutils/detection/tests/test_findstars.py . [ 16%]\n",
      ".......................                                                  [ 18%]\n",
      ".local/lib/python3.6/site-packages/photutils/geometry/tests/test_circular_overlap_grid.py . [ 18%]\n",
      ".....................................................                    [ 23%]\n",
      ".local/lib/python3.6/site-packages/photutils/geometry/tests/test_elliptical_overlap_grid.py . [ 23%]\n",
      "........................................................................ [ 29%]\n",
      "........................................................................ [ 35%]\n",
      "........................................................................ [ 42%]\n",
      "........................................................................ [ 48%]\n",
      "........................................................................ [ 54%]\n",
      "........................................................................ [ 60%]\n",
      ".....................................................                    [ 65%]\n",
      ".local/lib/python3.6/site-packages/photutils/geometry/tests/test_rectangular_overlap_grid.py . [ 65%]\n",
      "........................................................................ [ 71%]\n",
      "........                                                                 [ 72%]\n",
      ".local/lib/python3.6/site-packages/photutils/isophote/tests/test_angles.py . [ 72%]\n",
      "                                                                         [ 72%]\n",
      ".local/lib/python3.6/site-packages/photutils/isophote/tests/test_ellipse.py s [ 72%]\n",
      "......s                                                                  [ 72%]\n",
      ".local/lib/python3.6/site-packages/photutils/isophote/tests/test_fitter.py . [ 72%]\n",
      "......sss                                                                [ 73%]\n",
      ".local/lib/python3.6/site-packages/photutils/isophote/tests/test_geometry.py . [ 73%]\n",
      ".........                                                                [ 74%]\n",
      ".local/lib/python3.6/site-packages/photutils/isophote/tests/test_harmonics.py . [ 74%]\n",
      "......                                                                   [ 75%]\n",
      ".local/lib/python3.6/site-packages/photutils/isophote/tests/test_integrator.py s [ 75%]\n",
      "sssssss                                                                  [ 75%]\n",
      ".local/lib/python3.6/site-packages/photutils/isophote/tests/test_isophote.py s [ 75%]\n",
      "ss.....                                                                  [ 76%]\n",
      ".local/lib/python3.6/site-packages/photutils/isophote/tests/test_model.py s [ 76%]\n",
      ".                                                                        [ 76%]\n",
      ".local/lib/python3.6/site-packages/photutils/isophote/tests/test_regression.py s [ 76%]\n",
      "                                                                         [ 76%]\n",
      ".local/lib/python3.6/site-packages/photutils/isophote/tests/test_sample.py . [ 76%]\n",
      ".....                                                                    [ 77%]\n",
      ".local/lib/python3.6/site-packages/photutils/morphology/tests/test_core.py . [ 77%]\n",
      "                                                                         [ 77%]\n",
      ".local/lib/python3.6/site-packages/photutils/morphology/tests/test_non_parametric.py . [ 77%]\n",
      "                                                                         [ 77%]\n",
      ".local/lib/python3.6/site-packages/photutils/psf/matching/tests/test_fourier.py . [ 77%]\n",
      "..                                                                       [ 77%]\n",
      ".local/lib/python3.6/site-packages/photutils/psf/matching/tests/test_windows.py . [ 77%]\n",
      ".......                                                                  [ 78%]\n",
      ".local/lib/python3.6/site-packages/photutils/psf/tests/test_epsf.py ...  [ 78%]\n",
      ".local/lib/python3.6/site-packages/photutils/psf/tests/test_funcs.py .   [ 78%]\n",
      ".local/lib/python3.6/site-packages/photutils/psf/tests/test_groupstars.py . [ 78%]\n",
      ".............                                                            [ 79%]\n",
      ".local/lib/python3.6/site-packages/photutils/psf/tests/test_imagemodel.py . [ 80%]\n",
      "..                                                                       [ 80%]\n",
      ".local/lib/python3.6/site-packages/photutils/psf/tests/test_misc.py .... [ 80%]\n",
      "...........                                                              [ 81%]\n",
      ".local/lib/python3.6/site-packages/photutils/psf/tests/test_photometry.py . [ 81%]\n",
      "..xx..................                                                   [ 83%]\n",
      ".local/lib/python3.6/site-packages/photutils/psf/tests/test_prf_adapter.py . [ 83%]\n",
      ".......                                                                  [ 84%]\n",
      ".local/lib/python3.6/site-packages/photutils/psf/tests/test_sandbox.py . [ 84%]\n",
      "....                                                                     [ 84%]\n",
      ".local/lib/python3.6/site-packages/photutils/segmentation/tests/test_core.py . [ 84%]\n",
      "....................................                                     [ 87%]\n",
      ".local/lib/python3.6/site-packages/photutils/segmentation/tests/test_deblend.py . [ 87%]\n",
      "..................                                                       [ 89%]\n",
      ".local/lib/python3.6/site-packages/photutils/segmentation/tests/test_detect.py . [ 89%]\n",
      ".................                                                        [ 90%]\n",
      ".local/lib/python3.6/site-packages/photutils/segmentation/tests/test_properties.py . [ 91%]\n",
      "..................................................                       [ 95%]\n",
      ".local/lib/python3.6/site-packages/photutils/utils/tests/test_colormaps.py . [ 95%]\n",
      "                                                                         [ 95%]\n",
      ".local/lib/python3.6/site-packages/photutils/utils/tests/test_cutouts.py . [ 95%]\n",
      "....                                                                     [ 95%]\n",
      ".local/lib/python3.6/site-packages/photutils/utils/tests/test_errors.py . [ 95%]\n",
      "..........                                                               [ 96%]\n",
      ".local/lib/python3.6/site-packages/photutils/utils/tests/test_interpolation.py . [ 96%]\n",
      "........................                                                 [ 98%]\n",
      ".local/lib/python3.6/site-packages/photutils/utils/tests/test_moments.py . [ 99%]\n",
      "...                                                                      [ 99%]\n",
      ".local/lib/python3.6/site-packages/photutils/utils/tests/test_random_state.py . [ 99%]\n",
      ".....                                                                    [ 99%]\n",
      ".local/lib/python3.6/site-packages/photutils/utils/tests/test_stats.py . [ 99%]\n",
      ".                                                                        [100%]\n",
      "\n",
      "=============================== warnings summary ===============================\n",
      ".local/lib/python3.6/site-packages/photutils/aperture/tests/test_aperture_photometry.py::test_outside_array[RectangularAperture-params4]\n",
      "  /home/mvolab66/.local/lib/python3.6/site-packages/photutils/aperture/core.py:112: AstropyUserWarning: The \"exact\" method is not yet implemented for rectangular apertures -- using \"subpixel\" method with \"subpixels=32\"\n",
      "    'with \"subpixels=32\"', AstropyUserWarning)\n",
      "\n",
      ".local/lib/python3.6/site-packages/photutils/aperture/tests/test_aperture_photometry.py::test_outside_array[RectangularAnnulus-params5]\n",
      "  /home/mvolab66/.local/lib/python3.6/site-packages/photutils/aperture/core.py:112: AstropyUserWarning: The \"exact\" method is not yet implemented for rectangular apertures -- using \"subpixel\" method with \"subpixels=32\"\n",
      "    'with \"subpixels=32\"', AstropyUserWarning)\n",
      "\n",
      ".local/lib/python3.6/site-packages/photutils/aperture/tests/test_aperture_photometry.py::test_inside_array_simple[RectangularAperture-params4]\n",
      "  /home/mvolab66/.local/lib/python3.6/site-packages/photutils/aperture/core.py:112: AstropyUserWarning: The \"exact\" method is not yet implemented for rectangular apertures -- using \"subpixel\" method with \"subpixels=32\"\n",
      "    'with \"subpixels=32\"', AstropyUserWarning)\n",
      "\n",
      ".local/lib/python3.6/site-packages/photutils/aperture/tests/test_aperture_photometry.py::test_inside_array_simple[RectangularAnnulus-params5]\n",
      "  /home/mvolab66/.local/lib/python3.6/site-packages/photutils/aperture/core.py:112: AstropyUserWarning: The \"exact\" method is not yet implemented for rectangular apertures -- using \"subpixel\" method with \"subpixels=32\"\n",
      "    'with \"subpixels=32\"', AstropyUserWarning)\n",
      "\n",
      ".local/lib/python3.6/site-packages/photutils/aperture/tests/test_aperture_photometry.py::TestRectangularAperture::()::test_scalar_error\n",
      "  /home/mvolab66/.local/lib/python3.6/site-packages/photutils/aperture/core.py:112: AstropyUserWarning: The \"exact\" method is not yet implemented for rectangular apertures -- using \"subpixel\" method with \"subpixels=32\"\n",
      "    'with \"subpixels=32\"', AstropyUserWarning)\n",
      "\n",
      ".local/lib/python3.6/site-packages/photutils/aperture/tests/test_aperture_photometry.py::TestRectangularAperture::()::test_array_error\n",
      "  /home/mvolab66/.local/lib/python3.6/site-packages/photutils/aperture/core.py:112: AstropyUserWarning: The \"exact\" method is not yet implemented for rectangular apertures -- using \"subpixel\" method with \"subpixels=32\"\n",
      "    'with \"subpixels=32\"', AstropyUserWarning)\n",
      "\n",
      ".local/lib/python3.6/site-packages/photutils/aperture/tests/test_aperture_photometry.py::TestRectangularAnnulus::()::test_scalar_error\n",
      "  /home/mvolab66/.local/lib/python3.6/site-packages/photutils/aperture/core.py:112: AstropyUserWarning: The \"exact\" method is not yet implemented for rectangular apertures -- using \"subpixel\" method with \"subpixels=32\"\n",
      "    'with \"subpixels=32\"', AstropyUserWarning)\n",
      "\n",
      ".local/lib/python3.6/site-packages/photutils/aperture/tests/test_aperture_photometry.py::TestRectangularAnnulus::()::test_array_error\n",
      "  /home/mvolab66/.local/lib/python3.6/site-packages/photutils/aperture/core.py:112: AstropyUserWarning: The \"exact\" method is not yet implemented for rectangular apertures -- using \"subpixel\" method with \"subpixels=32\"\n",
      "    'with \"subpixels=32\"', AstropyUserWarning)\n",
      "\n",
      ".local/lib/python3.6/site-packages/photutils/aperture/tests/test_aperture_photometry.py::TestInputHDUList::()::test_basic_circular_aperture_photometry\n",
      "  /home/mvolab66/.local/lib/python3.6/site-packages/photutils/aperture/core.py:691: AstropyUserWarning: Input data is a HDUList object, photometry is run only for the 0 HDU.\n",
      "    .format(i), AstropyUserWarning)\n",
      "\n",
      ".local/lib/python3.6/site-packages/photutils/aperture/tests/test_aperture_photometry.py::TestInputHDUDifferentBUNIT::()::test_basic_circular_aperture_photometry\n",
      "  /home/mvolab66/.local/lib/python3.6/site-packages/photutils/aperture/core.py:730: AstropyUserWarning: The input unit does not agree with the data unit.\n",
      "    'unit.', AstropyUserWarning)\n",
      "\n",
      ".local/lib/python3.6/site-packages/photutils/aperture/tests/test_aperture_photometry.py::TestInputNDData::()::test_basic_circular_aperture_photometry\n",
      "  /opt/conda/lib/python3.6/site-packages/astropy/nddata/decorators.py:232: AstropyUserWarning: Property unit has been passed explicitly and as an NDData property, using explicitly specified value\n",
      "    AstropyUserWarning)\n",
      "\n",
      ".local/lib/python3.6/site-packages/photutils/background/tests/test_background_2d.py::TestBackground2D::()::test_background[filter_size2-interpolator2]\n",
      "  /opt/conda/lib/python3.6/importlib/_bootstrap.py:219: RuntimeWarning: numpy.dtype size changed, may indicate binary incompatibility. Expected 96, got 88\n",
      "    return f(*args, **kwds)\n",
      "\n",
      ".local/lib/python3.6/site-packages/photutils/centroids/tests/test_core.py::test_centroids_nan_withmask[False]\n",
      "  /home/mvolab66/.local/lib/python3.6/site-packages/photutils/centroids/core.py:113: AstropyUserWarning: Input data contains input values (e.g. NaNs or infs), which were automatically masked.\n",
      "    'which were automatically masked.', AstropyUserWarning)\n",
      "  /home/mvolab66/.local/lib/python3.6/site-packages/photutils/centroids/core.py:293: AstropyUserWarning: Input data contains input values (e.g. NaNs or infs), which were automatically masked.\n",
      "    'which were automatically masked.', AstropyUserWarning)\n",
      "  /home/mvolab66/.local/lib/python3.6/site-packages/photutils/centroids/core.py:210: AstropyUserWarning: Input data contains input values (e.g. NaNs or infs), which were automatically masked.\n",
      "    'which were automatically masked.', AstropyUserWarning)\n",
      "\n",
      ".local/lib/python3.6/site-packages/photutils/centroids/tests/test_core.py::test_gaussian1d_moments\n",
      "  /home/mvolab66/.local/lib/python3.6/site-packages/photutils/centroids/core.py:149: AstropyUserWarning: Input data contains input values (e.g. NaNs or infs), which were automatically masked.\n",
      "    'which were automatically masked.', AstropyUserWarning)\n",
      "\n",
      ".local/lib/python3.6/site-packages/photutils/detection/tests/test_core.py::TestFindPeaks::()::test_subpixel_regionsize\n",
      "  /home/mvolab66/.local/lib/python3.6/site-packages/photutils/detection/core.py:302: AstropyDeprecationWarning: The subpixel keyword is deprecated and will be removed in a future version.  The centroid_func keyword can be used to calculate centroid positions.\n",
      "    AstropyDeprecationWarning)\n",
      "  /home/mvolab66/.local/lib/python3.6/site-packages/photutils/detection/core.py:311: AstropyDeprecationWarning: The cutout_footprint function is deprecated and may be removed in a future version.\n",
      "    footprint=footprint, mask=mask, error=error)\n",
      "\n",
      ".local/lib/python3.6/site-packages/photutils/detection/tests/test_core.py::TestFindPeaks::()::test_border_width\n",
      "  /home/mvolab66/.local/lib/python3.6/site-packages/photutils/detection/core.py:268: AstropyUserWarning: No local peaks were found.\n",
      "    warnings.warn('No local peaks were found.', AstropyUserWarning)\n",
      "\n",
      ".local/lib/python3.6/site-packages/photutils/detection/tests/test_core.py::TestFindPeaks::()::test_zerodet\n",
      "  /home/mvolab66/.local/lib/python3.6/site-packages/photutils/detection/core.py:268: AstropyUserWarning: No local peaks were found.\n",
      "    warnings.warn('No local peaks were found.', AstropyUserWarning)\n",
      "\n",
      ".local/lib/python3.6/site-packages/photutils/detection/tests/test_core.py::TestFindPeaks::()::test_wcs\n",
      "  /home/mvolab66/.local/lib/python3.6/site-packages/photutils/detection/core.py:302: AstropyDeprecationWarning: The subpixel keyword is deprecated and will be removed in a future version.  The centroid_func keyword can be used to calculate centroid positions.\n",
      "    AstropyDeprecationWarning)\n",
      "  /home/mvolab66/.local/lib/python3.6/site-packages/photutils/detection/core.py:311: AstropyDeprecationWarning: The cutout_footprint function is deprecated and may be removed in a future version.\n",
      "    footprint=footprint, mask=mask, error=error)\n",
      "  /opt/conda/lib/python3.6/site-packages/astropy/modeling/fitting.py:771: AstropyUserWarning: The fit may be unsuccessful; check fit_info['message'] for more information.\n",
      "    AstropyUserWarning)\n",
      "  /home/mvolab66/.local/lib/python3.6/site-packages/photutils/detection/core.py:311: AstropyDeprecationWarning: The cutout_footprint function is deprecated and may be removed in a future version.\n",
      "    footprint=footprint, mask=mask, error=error)\n",
      "  /opt/conda/lib/python3.6/site-packages/astropy/modeling/fitting.py:771: AstropyUserWarning: The fit may be unsuccessful; check fit_info['message'] for more information.\n",
      "    AstropyUserWarning)\n",
      "  /home/mvolab66/.local/lib/python3.6/site-packages/photutils/detection/core.py:311: AstropyDeprecationWarning: The cutout_footprint function is deprecated and may be removed in a future version.\n",
      "    footprint=footprint, mask=mask, error=error)\n",
      "  /opt/conda/lib/python3.6/site-packages/astropy/modeling/fitting.py:771: AstropyUserWarning: The fit may be unsuccessful; check fit_info['message'] for more information.\n",
      "    AstropyUserWarning)\n",
      "\n",
      ".local/lib/python3.6/site-packages/photutils/detection/tests/test_core.py::TestFindPeaks::()::test_no_peaks\n",
      "  /home/mvolab66/.local/lib/python3.6/site-packages/photutils/detection/core.py:268: AstropyUserWarning: No local peaks were found.\n",
      "    warnings.warn('No local peaks were found.', AstropyUserWarning)\n",
      "  /home/mvolab66/.local/lib/python3.6/site-packages/photutils/detection/core.py:268: AstropyUserWarning: No local peaks were found.\n",
      "    warnings.warn('No local peaks were found.', AstropyUserWarning)\n",
      "  /home/mvolab66/.local/lib/python3.6/site-packages/photutils/detection/core.py:268: AstropyUserWarning: No local peaks were found.\n",
      "    warnings.warn('No local peaks were found.', AstropyUserWarning)\n",
      "  /home/mvolab66/.local/lib/python3.6/site-packages/photutils/detection/core.py:268: AstropyUserWarning: No local peaks were found.\n",
      "    warnings.warn('No local peaks were found.', AstropyUserWarning)\n",
      "  /home/mvolab66/.local/lib/python3.6/site-packages/photutils/detection/core.py:268: AstropyUserWarning: No local peaks were found.\n",
      "    warnings.warn('No local peaks were found.', AstropyUserWarning)\n",
      "  /home/mvolab66/.local/lib/python3.6/site-packages/photutils/detection/core.py:268: AstropyUserWarning: No local peaks were found.\n",
      "    warnings.warn('No local peaks were found.', AstropyUserWarning)\n",
      "\n",
      ".local/lib/python3.6/site-packages/photutils/detection/tests/test_findstars.py::TestDAOStarFinder::()::test_daofind_nosources\n",
      "  /home/mvolab66/.local/lib/python3.6/site-packages/photutils/detection/core.py:268: AstropyUserWarning: No local peaks were found.\n",
      "    warnings.warn('No local peaks were found.', AstropyUserWarning)\n",
      "  /home/mvolab66/.local/lib/python3.6/site-packages/photutils/detection/findstars.py:893: AstropyUserWarning: No sources were found.\n",
      "    warnings.warn('No sources were found.', AstropyUserWarning)\n",
      "\n",
      ".local/lib/python3.6/site-packages/photutils/detection/tests/test_findstars.py::TestDAOStarFinder::()::test_daofind_sharpness\n",
      "  /home/mvolab66/.local/lib/python3.6/site-packages/photutils/detection/findstars.py:920: AstropyUserWarning: Sources were found, but none pass the sharpness and roundness criteria.\n",
      "    'and roundness criteria.', AstropyUserWarning)\n",
      "\n",
      ".local/lib/python3.6/site-packages/photutils/detection/tests/test_findstars.py::TestDAOStarFinder::()::test_daofind_roundness\n",
      "  /home/mvolab66/.local/lib/python3.6/site-packages/photutils/detection/findstars.py:920: AstropyUserWarning: Sources were found, but none pass the sharpness and roundness criteria.\n",
      "    'and roundness criteria.', AstropyUserWarning)\n",
      "\n",
      ".local/lib/python3.6/site-packages/photutils/detection/tests/test_findstars.py::TestIRAFStarFinder::()::test_irafstarfind_nosources\n",
      "  /home/mvolab66/.local/lib/python3.6/site-packages/photutils/detection/core.py:268: AstropyUserWarning: No local peaks were found.\n",
      "    warnings.warn('No local peaks were found.', AstropyUserWarning)\n",
      "  /home/mvolab66/.local/lib/python3.6/site-packages/photutils/detection/findstars.py:1078: AstropyUserWarning: No sources were found.\n",
      "    warnings.warn('No sources were found.', AstropyUserWarning)\n",
      "\n",
      ".local/lib/python3.6/site-packages/photutils/detection/tests/test_findstars.py::TestIRAFStarFinder::()::test_irafstarfind_sharpness\n",
      "  /home/mvolab66/.local/lib/python3.6/site-packages/photutils/detection/findstars.py:1103: AstropyUserWarning: Sources were found, but none pass the sharpness and roundness criteria.\n",
      "    'and roundness criteria.', AstropyUserWarning)\n",
      "\n",
      ".local/lib/python3.6/site-packages/photutils/detection/tests/test_findstars.py::TestIRAFStarFinder::()::test_irafstarfind_roundness\n",
      "  /home/mvolab66/.local/lib/python3.6/site-packages/photutils/detection/findstars.py:1103: AstropyUserWarning: Sources were found, but none pass the sharpness and roundness criteria.\n",
      "    'and roundness criteria.', AstropyUserWarning)\n",
      "\n",
      ".local/lib/python3.6/site-packages/photutils/detection/tests/test_findstars.py::TestIRAFStarFinder::()::test_irafstarfind_largesky\n",
      "  /home/mvolab66/.local/lib/python3.6/site-packages/photutils/detection/findstars.py:1103: AstropyUserWarning: Sources were found, but none pass the sharpness and roundness criteria.\n",
      "    'and roundness criteria.', AstropyUserWarning)\n",
      "\n",
      ".local/lib/python3.6/site-packages/photutils/isophote/tests/test_ellipse.py::TestEllipse::()::test_offcenter_fail\n",
      "  /home/mvolab66/.local/lib/python3.6/site-packages/photutils/isophote/ellipse.py:379: AstropyUserWarning: No meaningful fit was possible.\n",
      "    AstropyUserWarning)\n",
      "\n",
      ".local/lib/python3.6/site-packages/photutils/psf/matching/tests/test_windows.py::test_tukey_scipy\n",
      "  /opt/conda/lib/python3.6/importlib/_bootstrap.py:219: RuntimeWarning: numpy.dtype size changed, may indicate binary incompatibility. Expected 96, got 88\n",
      "    return f(*args, **kwds)\n",
      "  /opt/conda/lib/python3.6/importlib/_bootstrap.py:219: RuntimeWarning: numpy.dtype size changed, may indicate binary incompatibility. Expected 96, got 88\n",
      "    return f(*args, **kwds)\n",
      "  /opt/conda/lib/python3.6/importlib/_bootstrap.py:219: RuntimeWarning: numpy.dtype size changed, may indicate binary incompatibility. Expected 96, got 88\n",
      "    return f(*args, **kwds)\n",
      "\n",
      ".local/lib/python3.6/site-packages/photutils/psf/tests/test_epsf.py::TestEPSFBuild::()::test_extract_stars\n",
      "  /home/mvolab66/.local/lib/python3.6/site-packages/photutils/psf/epsf_stars.py:710: AstropyUserWarning: 2 star(s) were not extracted because their cutout region extended beyond the input image.\n",
      "    .format(n_excluded), AstropyUserWarning)\n",
      "\n",
      ".local/lib/python3.6/site-packages/photutils/psf/tests/test_epsf.py::TestEPSFBuild::()::test_epsf_build\n",
      "  /home/mvolab66/.local/lib/python3.6/site-packages/photutils/psf/epsf_stars.py:710: AstropyUserWarning: 2 star(s) were not extracted because their cutout region extended beyond the input image.\n",
      "    .format(n_excluded), AstropyUserWarning)\n",
      "\n",
      ".local/lib/python3.6/site-packages/photutils/psf/tests/test_photometry.py::test_psf_photometry_oneiter[2-sources0]\n",
      "  /home/mvolab66/.local/lib/python3.6/site-packages/photutils/psf/photometry.py:259: AstropyUserWarning: Both init_guesses and finder are different than None, which is ambiguous. finder is going to be ignored.\n",
      "    'going to be ignored.', AstropyUserWarning)\n",
      "  /home/mvolab66/.local/lib/python3.6/site-packages/photutils/psf/photometry.py:259: AstropyUserWarning: Both init_guesses and finder are different than None, which is ambiguous. finder is going to be ignored.\n",
      "    'going to be ignored.', AstropyUserWarning)\n",
      "  /home/mvolab66/.local/lib/python3.6/site-packages/photutils/detection/core.py:268: AstropyUserWarning: No local peaks were found.\n",
      "    warnings.warn('No local peaks were found.', AstropyUserWarning)\n",
      "  /home/mvolab66/.local/lib/python3.6/site-packages/photutils/detection/findstars.py:893: AstropyUserWarning: No sources were found.\n",
      "    warnings.warn('No sources were found.', AstropyUserWarning)\n",
      "  /home/mvolab66/.local/lib/python3.6/site-packages/photutils/psf/photometry.py:259: AstropyUserWarning: Both init_guesses and finder are different than None, which is ambiguous. finder is going to be ignored.\n",
      "    'going to be ignored.', AstropyUserWarning)\n",
      "  /home/mvolab66/.local/lib/python3.6/site-packages/photutils/detection/core.py:268: AstropyUserWarning: No local peaks were found.\n",
      "    warnings.warn('No local peaks were found.', AstropyUserWarning)\n",
      "  /home/mvolab66/.local/lib/python3.6/site-packages/photutils/detection/findstars.py:893: AstropyUserWarning: No sources were found.\n",
      "    warnings.warn('No sources were found.', AstropyUserWarning)\n",
      "\n",
      ".local/lib/python3.6/site-packages/photutils/psf/tests/test_photometry.py::test_psf_photometry_oneiter[2-sources1]\n",
      "  /home/mvolab66/.local/lib/python3.6/site-packages/photutils/psf/photometry.py:259: AstropyUserWarning: Both init_guesses and finder are different than None, which is ambiguous. finder is going to be ignored.\n",
      "    'going to be ignored.', AstropyUserWarning)\n",
      "  /home/mvolab66/.local/lib/python3.6/site-packages/photutils/psf/photometry.py:259: AstropyUserWarning: Both init_guesses and finder are different than None, which is ambiguous. finder is going to be ignored.\n",
      "    'going to be ignored.', AstropyUserWarning)\n",
      "  /home/mvolab66/.local/lib/python3.6/site-packages/photutils/detection/core.py:268: AstropyUserWarning: No local peaks were found.\n",
      "    warnings.warn('No local peaks were found.', AstropyUserWarning)\n",
      "  /home/mvolab66/.local/lib/python3.6/site-packages/photutils/detection/findstars.py:893: AstropyUserWarning: No sources were found.\n",
      "    warnings.warn('No sources were found.', AstropyUserWarning)\n",
      "  /home/mvolab66/.local/lib/python3.6/site-packages/photutils/psf/photometry.py:259: AstropyUserWarning: Both init_guesses and finder are different than None, which is ambiguous. finder is going to be ignored.\n",
      "    'going to be ignored.', AstropyUserWarning)\n",
      "  /home/mvolab66/.local/lib/python3.6/site-packages/photutils/detection/core.py:268: AstropyUserWarning: No local peaks were found.\n",
      "    warnings.warn('No local peaks were found.', AstropyUserWarning)\n",
      "  /home/mvolab66/.local/lib/python3.6/site-packages/photutils/detection/findstars.py:893: AstropyUserWarning: No sources were found.\n",
      "    warnings.warn('No sources were found.', AstropyUserWarning)\n",
      "\n",
      ".local/lib/python3.6/site-packages/photutils/psf/tests/test_photometry.py::test_psf_photometry_oneiter[2.4-sources3]\n",
      "  /opt/conda/lib/python3.6/site-packages/astropy/modeling/fitting.py:771: AstropyUserWarning: The fit may be unsuccessful; check fit_info['message'] for more information.\n",
      "    AstropyUserWarning)\n",
      "\n",
      ".local/lib/python3.6/site-packages/photutils/psf/tests/test_photometry.py::test_aperture_radius\n",
      "  /opt/conda/lib/python3.6/site-packages/astropy/modeling/fitting.py:771: AstropyUserWarning: The fit may be unsuccessful; check fit_info['message'] for more information.\n",
      "    AstropyUserWarning)\n",
      "  /home/mvolab66/.local/lib/python3.6/site-packages/photutils/psf/photometry.py:434: RuntimeWarning: invalid value encountered in sqrt\n",
      "    self.fitter.fit_info['param_cov'])\n",
      "  /opt/conda/lib/python3.6/site-packages/astropy/modeling/fitting.py:771: AstropyUserWarning: The fit may be unsuccessful; check fit_info['message'] for more information.\n",
      "    AstropyUserWarning)\n",
      "  /opt/conda/lib/python3.6/site-packages/astropy/modeling/fitting.py:771: AstropyUserWarning: The fit may be unsuccessful; check fit_info['message'] for more information.\n",
      "    AstropyUserWarning)\n",
      "  /opt/conda/lib/python3.6/site-packages/astropy/modeling/fitting.py:771: AstropyUserWarning: The fit may be unsuccessful; check fit_info['message'] for more information.\n",
      "    AstropyUserWarning)\n",
      "  /opt/conda/lib/python3.6/site-packages/astropy/modeling/fitting.py:771: AstropyUserWarning: The fit may be unsuccessful; check fit_info['message'] for more information.\n",
      "    AstropyUserWarning)\n",
      "  /home/mvolab66/.local/lib/python3.6/site-packages/photutils/psf/photometry.py:434: RuntimeWarning: invalid value encountered in sqrt\n",
      "    self.fitter.fit_info['param_cov'])\n",
      "\n",
      ".local/lib/python3.6/site-packages/photutils/segmentation/tests/test_core.py::TestSegmentationImage::()::test_outline_segments\n",
      "  /opt/conda/lib/python3.6/importlib/_bootstrap.py:219: ImportWarning: can't resolve package from __spec__ or __package__, falling back on __name__ and __path__\n",
      "    return f(*args, **kwds)\n",
      "  /opt/conda/lib/python3.6/importlib/_bootstrap.py:219: ImportWarning: can't resolve package from __spec__ or __package__, falling back on __name__ and __path__\n",
      "    return f(*args, **kwds)\n",
      "  /opt/conda/lib/python3.6/importlib/_bootstrap.py:219: ImportWarning: can't resolve package from __spec__ or __package__, falling back on __name__ and __path__\n",
      "    return f(*args, **kwds)\n",
      "  /opt/conda/lib/python3.6/importlib/_bootstrap.py:219: ImportWarning: can't resolve package from __spec__ or __package__, falling back on __name__ and __path__\n",
      "    return f(*args, **kwds)\n",
      "  /opt/conda/lib/python3.6/importlib/_bootstrap.py:219: ImportWarning: can't resolve package from __spec__ or __package__, falling back on __name__ and __path__\n",
      "    return f(*args, **kwds)\n",
      "  /opt/conda/lib/python3.6/importlib/_bootstrap.py:219: ImportWarning: can't resolve package from __spec__ or __package__, falling back on __name__ and __path__\n",
      "    return f(*args, **kwds)\n",
      "  /opt/conda/lib/python3.6/importlib/_bootstrap.py:219: ImportWarning: can't resolve package from __spec__ or __package__, falling back on __name__ and __path__\n",
      "    return f(*args, **kwds)\n",
      "  /opt/conda/lib/python3.6/importlib/_bootstrap.py:219: ImportWarning: can't resolve package from __spec__ or __package__, falling back on __name__ and __path__\n",
      "    return f(*args, **kwds)\n",
      "  /opt/conda/lib/python3.6/importlib/_bootstrap.py:219: ImportWarning: can't resolve package from __spec__ or __package__, falling back on __name__ and __path__\n",
      "    return f(*args, **kwds)\n",
      "  /opt/conda/lib/python3.6/importlib/_bootstrap.py:219: ImportWarning: can't resolve package from __spec__ or __package__, falling back on __name__ and __path__\n",
      "    return f(*args, **kwds)\n",
      "  /opt/conda/lib/python3.6/importlib/_bootstrap.py:219: ImportWarning: can't resolve package from __spec__ or __package__, falling back on __name__ and __path__\n",
      "    return f(*args, **kwds)\n",
      "  /opt/conda/lib/python3.6/importlib/_bootstrap.py:219: ImportWarning: can't resolve package from __spec__ or __package__, falling back on __name__ and __path__\n",
      "    return f(*args, **kwds)\n",
      "  /opt/conda/lib/python3.6/importlib/_bootstrap.py:219: ImportWarning: can't resolve package from __spec__ or __package__, falling back on __name__ and __path__\n",
      "    return f(*args, **kwds)\n",
      "  /opt/conda/lib/python3.6/importlib/_bootstrap.py:219: ImportWarning: can't resolve package from __spec__ or __package__, falling back on __name__ and __path__\n",
      "    return f(*args, **kwds)\n",
      "  /opt/conda/lib/python3.6/importlib/_bootstrap.py:219: ImportWarning: can't resolve package from __spec__ or __package__, falling back on __name__ and __path__\n",
      "    return f(*args, **kwds)\n",
      "  /opt/conda/lib/python3.6/importlib/_bootstrap.py:219: ImportWarning: can't resolve package from __spec__ or __package__, falling back on __name__ and __path__\n",
      "    return f(*args, **kwds)\n",
      "  /opt/conda/lib/python3.6/importlib/_bootstrap.py:219: ImportWarning: can't resolve package from __spec__ or __package__, falling back on __name__ and __path__\n",
      "    return f(*args, **kwds)\n",
      "  /opt/conda/lib/python3.6/importlib/_bootstrap.py:219: ImportWarning: can't resolve package from __spec__ or __package__, falling back on __name__ and __path__\n",
      "    return f(*args, **kwds)\n",
      "  /opt/conda/lib/python3.6/importlib/_bootstrap.py:219: ImportWarning: can't resolve package from __spec__ or __package__, falling back on __name__ and __path__\n",
      "    return f(*args, **kwds)\n",
      "  /opt/conda/lib/python3.6/importlib/_bootstrap.py:219: ImportWarning: can't resolve package from __spec__ or __package__, falling back on __name__ and __path__\n",
      "    return f(*args, **kwds)\n",
      "  /opt/conda/lib/python3.6/importlib/_bootstrap.py:219: ImportWarning: can't resolve package from __spec__ or __package__, falling back on __name__ and __path__\n",
      "    return f(*args, **kwds)\n",
      "  /opt/conda/lib/python3.6/importlib/_bootstrap.py:219: ImportWarning: can't resolve package from __spec__ or __package__, falling back on __name__ and __path__\n",
      "    return f(*args, **kwds)\n",
      "  /opt/conda/lib/python3.6/importlib/_bootstrap.py:219: ImportWarning: can't resolve package from __spec__ or __package__, falling back on __name__ and __path__\n",
      "    return f(*args, **kwds)\n",
      "  /opt/conda/lib/python3.6/importlib/_bootstrap.py:219: ImportWarning: can't resolve package from __spec__ or __package__, falling back on __name__ and __path__\n",
      "    return f(*args, **kwds)\n",
      "  /opt/conda/lib/python3.6/importlib/_bootstrap.py:219: ImportWarning: can't resolve package from __spec__ or __package__, falling back on __name__ and __path__\n",
      "    return f(*args, **kwds)\n",
      "  /opt/conda/lib/python3.6/importlib/_bootstrap.py:219: ImportWarning: can't resolve package from __spec__ or __package__, falling back on __name__ and __path__\n",
      "    return f(*args, **kwds)\n",
      "\n",
      ".local/lib/python3.6/site-packages/photutils/segmentation/tests/test_deblend.py::TestDeblendSources::()::test_data_nan\n",
      "  /home/mvolab66/.local/lib/python3.6/site-packages/photutils/segmentation/detect.py:128: RuntimeWarning: invalid value encountered in greater\n",
      "    check_normalization=True) > threshold)\n",
      "  /home/mvolab66/.local/lib/python3.6/site-packages/photutils/segmentation/detect.py:128: RuntimeWarning: invalid value encountered in greater\n",
      "    check_normalization=True) > threshold)\n",
      "  /home/mvolab66/.local/lib/python3.6/site-packages/photutils/segmentation/detect.py:128: RuntimeWarning: invalid value encountered in greater\n",
      "    check_normalization=True) > threshold)\n",
      "  /home/mvolab66/.local/lib/python3.6/site-packages/photutils/segmentation/detect.py:128: RuntimeWarning: invalid value encountered in greater\n",
      "    check_normalization=True) > threshold)\n",
      "  /home/mvolab66/.local/lib/python3.6/site-packages/photutils/segmentation/detect.py:128: RuntimeWarning: invalid value encountered in greater\n",
      "    check_normalization=True) > threshold)\n",
      "  /home/mvolab66/.local/lib/python3.6/site-packages/photutils/segmentation/detect.py:128: RuntimeWarning: invalid value encountered in greater\n",
      "    check_normalization=True) > threshold)\n",
      "  /home/mvolab66/.local/lib/python3.6/site-packages/photutils/segmentation/detect.py:128: RuntimeWarning: invalid value encountered in greater\n",
      "    check_normalization=True) > threshold)\n",
      "  /home/mvolab66/.local/lib/python3.6/site-packages/photutils/segmentation/detect.py:128: RuntimeWarning: invalid value encountered in greater\n",
      "    check_normalization=True) > threshold)\n",
      "  /home/mvolab66/.local/lib/python3.6/site-packages/photutils/segmentation/detect.py:128: RuntimeWarning: invalid value encountered in greater\n",
      "    check_normalization=True) > threshold)\n",
      "  /home/mvolab66/.local/lib/python3.6/site-packages/photutils/segmentation/detect.py:128: RuntimeWarning: invalid value encountered in greater\n",
      "    check_normalization=True) > threshold)\n",
      "  /home/mvolab66/.local/lib/python3.6/site-packages/photutils/segmentation/detect.py:128: RuntimeWarning: invalid value encountered in greater\n",
      "    check_normalization=True) > threshold)\n",
      "  /home/mvolab66/.local/lib/python3.6/site-packages/photutils/segmentation/detect.py:128: RuntimeWarning: invalid value encountered in greater\n",
      "    check_normalization=True) > threshold)\n",
      "  /home/mvolab66/.local/lib/python3.6/site-packages/photutils/segmentation/detect.py:128: RuntimeWarning: invalid value encountered in greater\n",
      "    check_normalization=True) > threshold)\n",
      "  /home/mvolab66/.local/lib/python3.6/site-packages/photutils/segmentation/detect.py:128: RuntimeWarning: invalid value encountered in greater\n",
      "    check_normalization=True) > threshold)\n",
      "  /home/mvolab66/.local/lib/python3.6/site-packages/photutils/segmentation/detect.py:128: RuntimeWarning: invalid value encountered in greater\n",
      "    check_normalization=True) > threshold)\n",
      "  /home/mvolab66/.local/lib/python3.6/site-packages/photutils/segmentation/detect.py:128: RuntimeWarning: invalid value encountered in greater\n",
      "    check_normalization=True) > threshold)\n",
      "  /home/mvolab66/.local/lib/python3.6/site-packages/photutils/segmentation/detect.py:128: RuntimeWarning: invalid value encountered in greater\n",
      "    check_normalization=True) > threshold)\n",
      "  /home/mvolab66/.local/lib/python3.6/site-packages/photutils/segmentation/detect.py:128: RuntimeWarning: invalid value encountered in greater\n",
      "    check_normalization=True) > threshold)\n",
      "  /home/mvolab66/.local/lib/python3.6/site-packages/photutils/segmentation/detect.py:128: RuntimeWarning: invalid value encountered in greater\n",
      "    check_normalization=True) > threshold)\n",
      "  /home/mvolab66/.local/lib/python3.6/site-packages/photutils/segmentation/detect.py:128: RuntimeWarning: invalid value encountered in greater\n",
      "    check_normalization=True) > threshold)\n",
      "  /home/mvolab66/.local/lib/python3.6/site-packages/photutils/segmentation/detect.py:128: RuntimeWarning: invalid value encountered in greater\n",
      "    check_normalization=True) > threshold)\n",
      "  /home/mvolab66/.local/lib/python3.6/site-packages/photutils/segmentation/detect.py:128: RuntimeWarning: invalid value encountered in greater\n",
      "    check_normalization=True) > threshold)\n",
      "  /home/mvolab66/.local/lib/python3.6/site-packages/photutils/segmentation/detect.py:128: RuntimeWarning: invalid value encountered in greater\n",
      "    check_normalization=True) > threshold)\n",
      "  /home/mvolab66/.local/lib/python3.6/site-packages/photutils/segmentation/detect.py:128: RuntimeWarning: invalid value encountered in greater\n",
      "    check_normalization=True) > threshold)\n",
      "  /home/mvolab66/.local/lib/python3.6/site-packages/photutils/segmentation/detect.py:128: RuntimeWarning: invalid value encountered in greater\n",
      "    check_normalization=True) > threshold)\n",
      "  /home/mvolab66/.local/lib/python3.6/site-packages/photutils/segmentation/detect.py:128: RuntimeWarning: invalid value encountered in greater\n",
      "    check_normalization=True) > threshold)\n",
      "  /home/mvolab66/.local/lib/python3.6/site-packages/photutils/segmentation/detect.py:128: RuntimeWarning: invalid value encountered in greater\n",
      "    check_normalization=True) > threshold)\n",
      "  /home/mvolab66/.local/lib/python3.6/site-packages/photutils/segmentation/detect.py:128: RuntimeWarning: invalid value encountered in greater\n",
      "    check_normalization=True) > threshold)\n",
      "  /home/mvolab66/.local/lib/python3.6/site-packages/photutils/segmentation/detect.py:128: RuntimeWarning: invalid value encountered in greater\n",
      "    check_normalization=True) > threshold)\n",
      "  /home/mvolab66/.local/lib/python3.6/site-packages/photutils/segmentation/detect.py:128: RuntimeWarning: invalid value encountered in greater\n",
      "    check_normalization=True) > threshold)\n",
      "  /home/mvolab66/.local/lib/python3.6/site-packages/photutils/segmentation/detect.py:128: RuntimeWarning: invalid value encountered in greater\n",
      "    check_normalization=True) > threshold)\n",
      "  /home/mvolab66/.local/lib/python3.6/site-packages/photutils/segmentation/detect.py:128: RuntimeWarning: invalid value encountered in greater\n",
      "    check_normalization=True) > threshold)\n",
      "\n",
      ".local/lib/python3.6/site-packages/photutils/segmentation/tests/test_properties.py::TestSourceProperties::()::test_to_table\n",
      "  /home/mvolab66/.local/lib/python3.6/site-packages/photutils/segmentation/tests/test_properties.py:91: AstropyDeprecationWarning: The properties_table function is deprecated and may be removed in a future version.\n",
      "          Use SourceCatalog.to_table() instead.\n",
      "    t2 = properties_table(props)\n",
      "\n",
      ".local/lib/python3.6/site-packages/photutils/segmentation/tests/test_properties.py::TestSourcePropertiesFunctionInputs::()::test_invalidlabels\n",
      "  /home/mvolab66/.local/lib/python3.6/site-packages/photutils/segmentation/properties.py:1227: AstropyUserWarning: label -1 is not in the segmentation image.\n",
      "    .format(label), AstropyUserWarning)\n",
      "\n",
      ".local/lib/python3.6/site-packages/photutils/segmentation/tests/test_properties.py::TestSourcePropertiesFunction::()::test_filtering\n",
      "  /home/mvolab66/.local/lib/python3.6/site-packages/photutils/utils/convolution.py:56: AstropyUserWarning: The kernel is not normalized.\n",
      "    AstropyUserWarning)\n",
      "\n",
      ".local/lib/python3.6/site-packages/photutils/segmentation/tests/test_properties.py::TestSourcePropertiesFunction::()::test_filtering_kernel\n",
      "  /home/mvolab66/.local/lib/python3.6/site-packages/photutils/utils/convolution.py:56: AstropyUserWarning: The kernel is not normalized.\n",
      "    AstropyUserWarning)\n",
      "\n",
      ".local/lib/python3.6/site-packages/photutils/segmentation/tests/test_properties.py::TestSourceCatalog::()::test_table_empty_props\n",
      "  /home/mvolab66/.local/lib/python3.6/site-packages/photutils/segmentation/properties.py:1227: AstropyUserWarning: label -1 is not in the segmentation image.\n",
      "    .format(label), AstropyUserWarning)\n",
      "\n",
      ".local/lib/python3.6/site-packages/photutils/segmentation/tests/test_properties.py::TestSourceCatalog::()::test_table_wcs\n",
      "  /opt/conda/lib/python3.6/site-packages/astropy/utils/decorators.py:708: AstropyDeprecationWarning: The icrs_centroid function is deprecated and may be removed in a future version.\n",
      "          Use sky_centroid_icrs instead.\n",
      "    val = self.fget(obj)\n",
      "  /opt/conda/lib/python3.6/site-packages/astropy/utils/decorators.py:708: AstropyDeprecationWarning: The ra_icrs_centroid function is deprecated and may be removed in a future version.\n",
      "          Use sky_centroid_icrs.ra instead.\n",
      "    val = self.fget(obj)\n",
      "  /opt/conda/lib/python3.6/site-packages/astropy/utils/decorators.py:708: AstropyDeprecationWarning: The dec_icrs_centroid function is deprecated and may be removed in a future version.\n",
      "          Use sky_centroid_icrs.dec instead.\n",
      "    val = self.fget(obj)\n",
      "  /opt/conda/lib/python3.6/site-packages/astropy/utils/decorators.py:708: AstropyDeprecationWarning: The icrs_centroid function is deprecated and may be removed in a future version.\n",
      "          Use sky_centroid_icrs instead.\n",
      "    val = self.fget(obj)\n",
      "  /opt/conda/lib/python3.6/site-packages/astropy/utils/decorators.py:708: AstropyDeprecationWarning: The ra_icrs_centroid function is deprecated and may be removed in a future version.\n",
      "          Use sky_centroid_icrs.ra instead.\n",
      "    val = self.fget(obj)\n",
      "  /opt/conda/lib/python3.6/site-packages/astropy/utils/decorators.py:708: AstropyDeprecationWarning: The dec_icrs_centroid function is deprecated and may be removed in a future version.\n",
      "          Use sky_centroid_icrs.dec instead.\n",
      "    val = self.fget(obj)\n",
      "\n",
      ".local/lib/python3.6/site-packages/photutils/segmentation/tests/test_properties.py::TestPropertiesTable::()::test_properties_table\n",
      "  /home/mvolab66/.local/lib/python3.6/site-packages/photutils/segmentation/tests/test_properties.py:419: AstropyDeprecationWarning: The properties_table function is deprecated and may be removed in a future version.\n",
      "          Use SourceCatalog.to_table() instead.\n",
      "    t = properties_table(props)\n",
      "\n",
      ".local/lib/python3.6/site-packages/photutils/segmentation/tests/test_properties.py::TestPropertiesTable::()::test_properties_table_include\n",
      "  /home/mvolab66/.local/lib/python3.6/site-packages/photutils/segmentation/tests/test_properties.py:426: AstropyDeprecationWarning: The properties_table function is deprecated and may be removed in a future version.\n",
      "          Use SourceCatalog.to_table() instead.\n",
      "    t = properties_table(props, columns=columns)\n",
      "\n",
      ".local/lib/python3.6/site-packages/photutils/segmentation/tests/test_properties.py::TestPropertiesTable::()::test_properties_table_include_invalidname\n",
      "  /home/mvolab66/.local/lib/python3.6/site-packages/photutils/segmentation/tests/test_properties.py:435: AstropyDeprecationWarning: The properties_table function is deprecated and may be removed in a future version.\n",
      "          Use SourceCatalog.to_table() instead.\n",
      "    properties_table(props, columns=columns)\n",
      "\n",
      ".local/lib/python3.6/site-packages/photutils/segmentation/tests/test_properties.py::TestPropertiesTable::()::test_properties_table_exclude\n",
      "  /home/mvolab66/.local/lib/python3.6/site-packages/photutils/segmentation/tests/test_properties.py:440: AstropyDeprecationWarning: The properties_table function is deprecated and may be removed in a future version.\n",
      "          Use SourceCatalog.to_table() instead.\n",
      "    t = properties_table(props, exclude_columns=exclude)\n",
      "\n",
      ".local/lib/python3.6/site-packages/photutils/segmentation/tests/test_properties.py::TestPropertiesTable::()::test_properties_table_empty_props\n",
      "  /home/mvolab66/.local/lib/python3.6/site-packages/photutils/segmentation/properties.py:1227: AstropyUserWarning: label -1 is not in the segmentation image.\n",
      "    .format(label), AstropyUserWarning)\n",
      "  /home/mvolab66/.local/lib/python3.6/site-packages/photutils/segmentation/tests/test_properties.py:449: AstropyDeprecationWarning: The properties_table function is deprecated and may be removed in a future version.\n",
      "          Use SourceCatalog.to_table() instead.\n",
      "    properties_table(props)\n",
      "\n",
      ".local/lib/python3.6/site-packages/photutils/segmentation/tests/test_properties.py::TestPropertiesTable::()::test_properties_table_empty_list\n",
      "  /home/mvolab66/.local/lib/python3.6/site-packages/photutils/segmentation/tests/test_properties.py:453: AstropyDeprecationWarning: The properties_table function is deprecated and may be removed in a future version.\n",
      "          Use SourceCatalog.to_table() instead.\n",
      "    properties_table([])\n",
      "\n",
      ".local/lib/python3.6/site-packages/photutils/segmentation/tests/test_properties.py::TestPropertiesTable::()::test_properties_table_wcs\n",
      "  /home/mvolab66/.local/lib/python3.6/site-packages/photutils/segmentation/tests/test_properties.py:467: AstropyDeprecationWarning: The properties_table function is deprecated and may be removed in a future version.\n",
      "          Use SourceCatalog.to_table() instead.\n",
      "    t = properties_table(props, columns=columns)\n",
      "  /home/mvolab66/.local/lib/python3.6/site-packages/photutils/segmentation/properties.py:1619: AstropyDeprecationWarning: The icrs_centroid property is deprecated and may be removed in a future version.  Use sky_centroid_icrs instead\n",
      "    AstropyDeprecationWarning)\n",
      "  /home/mvolab66/.local/lib/python3.6/site-packages/photutils/segmentation/properties.py:1625: AstropyDeprecationWarning: The ra_icrs_centroid property is deprecated and may be removed in a future version.  Use sky_centroid_icrs.ra instead\n",
      "    AstropyDeprecationWarning)\n",
      "  /home/mvolab66/.local/lib/python3.6/site-packages/photutils/segmentation/properties.py:1631: AstropyDeprecationWarning: The dec_icrs_centroid property is deprecated and may be removed in a future version.  Use sky_centroid_icrs.dec instead\n",
      "    AstropyDeprecationWarning)\n",
      "\n",
      ".local/lib/python3.6/site-packages/photutils/utils/tests/test_cutouts.py::TestCutoutFootprint::()::test_dataonly\n",
      "  /home/mvolab66/.local/lib/python3.6/site-packages/photutils/utils/tests/test_cutouts.py:25: AstropyDeprecationWarning: The cutout_footprint function is deprecated and may be removed in a future version.\n",
      "    result1 = cutout_footprint(data, position, 3)\n",
      "  /home/mvolab66/.local/lib/python3.6/site-packages/photutils/utils/tests/test_cutouts.py:26: AstropyDeprecationWarning: The cutout_footprint function is deprecated and may be removed in a future version.\n",
      "    result2 = cutout_footprint(data, position, footprint=np.ones((3, 3)))\n",
      "\n",
      ".local/lib/python3.6/site-packages/photutils/utils/tests/test_cutouts.py::TestCutoutFootprint::()::test_mask_error\n",
      "  /home/mvolab66/.local/lib/python3.6/site-packages/photutils/utils/tests/test_cutouts.py:40: AstropyDeprecationWarning: The cutout_footprint function is deprecated and may be removed in a future version.\n",
      "    error=error)\n",
      "  /home/mvolab66/.local/lib/python3.6/site-packages/photutils/utils/tests/test_cutouts.py:42: AstropyDeprecationWarning: The cutout_footprint function is deprecated and may be removed in a future version.\n",
      "    error=error)\n",
      "  /home/mvolab66/.local/lib/python3.6/site-packages/photutils/utils/tests/test_cutouts.py:45: AstropyDeprecationWarning: The cutout_footprint function is deprecated and may be removed in a future version.\n",
      "    error=error)\n",
      "\n",
      ".local/lib/python3.6/site-packages/photutils/utils/tests/test_cutouts.py::TestCutoutFootprint::()::test_position_len\n",
      "  /home/mvolab66/.local/lib/python3.6/site-packages/photutils/utils/tests/test_cutouts.py:52: AstropyDeprecationWarning: The cutout_footprint function is deprecated and may be removed in a future version.\n",
      "    cutout_footprint(np.ones((3, 3)), [1])\n",
      "\n",
      ".local/lib/python3.6/site-packages/photutils/utils/tests/test_cutouts.py::TestCutoutFootprint::()::test_nofootprint\n",
      "  /home/mvolab66/.local/lib/python3.6/site-packages/photutils/utils/tests/test_cutouts.py:57: AstropyDeprecationWarning: The cutout_footprint function is deprecated and may be removed in a future version.\n",
      "    footprint=None)\n",
      "\n",
      ".local/lib/python3.6/site-packages/photutils/utils/tests/test_cutouts.py::TestCutoutFootprint::()::test_wrongboxsize\n",
      "  /home/mvolab66/.local/lib/python3.6/site-packages/photutils/utils/tests/test_cutouts.py:61: AstropyDeprecationWarning: The cutout_footprint function is deprecated and may be removed in a future version.\n",
      "    cutout_footprint(np.ones((3, 3)), (1, 1), box_size=(1, 2, 3))\n",
      "\n",
      ".local/lib/python3.6/site-packages/photutils/utils/tests/test_interpolation.py::TestInterpolateMaskedData::()::test_error_shape\n",
      "  /home/mvolab66/.local/lib/python3.6/site-packages/photutils/utils/tests/test_interpolation.py:128: AstropyDeprecationWarning: The interpolate_masked_data function is deprecated and may be removed in a future version.\n",
      "    interpolate_masked_data(DATA, MASK, error=WRONG_SHAPE)\n",
      "\n",
      ".local/lib/python3.6/site-packages/photutils/utils/tests/test_interpolation.py::TestInterpolateMaskedData::()::test_background_shape\n",
      "  /home/mvolab66/.local/lib/python3.6/site-packages/photutils/utils/tests/test_interpolation.py:132: AstropyDeprecationWarning: The interpolate_masked_data function is deprecated and may be removed in a future version.\n",
      "    interpolate_masked_data(DATA, MASK, background=WRONG_SHAPE)\n",
      "\n",
      ".local/lib/python3.6/site-packages/photutils/utils/tests/test_interpolation.py::TestInterpolateMaskedData::()::test_interpolation\n",
      "  /home/mvolab66/.local/lib/python3.6/site-packages/photutils/utils/tests/test_interpolation.py:142: AstropyDeprecationWarning: The interpolate_masked_data function is deprecated and may be removed in a future version.\n",
      "    data2, MASK, error=error2, background=background2)\n",
      "\n",
      ".local/lib/python3.6/site-packages/photutils/utils/tests/test_interpolation.py::TestInterpolateMaskedData::()::test_interpolation_larger_mask\n",
      "  /home/mvolab66/.local/lib/python3.6/site-packages/photutils/utils/tests/test_interpolation.py:157: AstropyDeprecationWarning: The interpolate_masked_data function is deprecated and may be removed in a future version.\n",
      "    data2, MASK, error=error2, background=background2)\n",
      "\n",
      "-- Docs: http://doc.pytest.org/en/latest/warnings.html\n",
      "====== 1142 passed, 20 skipped, 2 xfailed, 162 warnings in 160.14 seconds ======\n"
     ]
    },
    {
     "data": {
      "text/plain": [
       "0"
      ]
     },
     "execution_count": 4,
     "metadata": {},
     "output_type": "execute_result"
    },
    {
     "data": {
      "image/png": "[encoded data removed]",
      "text/plain": [
       "<Figure size 576x432 with 1 Axes>"
      ]
     },
     "metadata": {},
     "output_type": "display_data"
    }
   ],
   "source": [
    "## Import all the needed packeages\n",
    "import os\n",
    "from astropy import *\n",
    "import numpy as np\n",
    "import astropy.io.fits as pyfits\n",
    "import photutils\n",
    "import matplotlib.pyplot as plt\n",
    "from astropy.visualization import astropy_mpl_style\n",
    "import urllib, zipfile, tarfile\n",
    "from urllib.request import urlretrieve\n",
    "plt.style.use(astropy_mpl_style)\n",
    "\n",
    "## uncomment and run the following command once to test photutils\n",
    "photutils.test()"
   ]
  },
  {
   "cell_type": "markdown",
   "metadata": {},
   "source": [
    "## **Load all the data**\n",
    "\n",
    "The following cell retrieves all the data needed for this lab from the web. Just run the cell without any changes.\n",
    "\n",
    "We first check if a Data directory exists in your Home/ directory, else we create it. Then the lab data is downloaded as a compressed (tarball) file and is saved in that directory. Finally, the tarball is uncompressed into individual files which you will use in this exercise. After you execute the following cell, go to the Data directory and check to make sure you have all the needed files (your TA will guide you in doing this)."
   ]
  },
  {
   "cell_type": "code",
   "execution_count": 7,
   "metadata": {},
   "outputs": [
    {
     "name": "stdout",
     "output_type": "stream",
     "text": [
      "CCD Lab data dir:  CCDLab_data\n",
      "List of available files:\n",
      "56076p.fits\n",
      "56070o.fits\n",
      "56071o.fits\n",
      "56077p.fits\n",
      "56074p.fits\n",
      "56072o.fits\n",
      "56078p.fits\n",
      "56068o.fits\n",
      "56073o.fits\n",
      "56075p.fits\n",
      "Sample1p.fits\n",
      "Dark.fits\n",
      "56069o.fits\n",
      "56078o.fits\n",
      "Flat.fits\n",
      "56074o.fits\n",
      "56072p.fits\n",
      "56068p.fits\n",
      "Bias.fits\n",
      "56073p.fits\n",
      "56075o.fits\n",
      "Sample1o.fits\n",
      "56069p.fits\n",
      "Sample2o.fits\n",
      "56076o.fits\n",
      "56070p.fits\n",
      "Flat_norm.fits\n",
      "56071p.fits\n",
      "56077o.fits\n"
     ]
    }
   ],
   "source": [
    "## IMPORTANT!!\n",
    "## RUN THIS STEP ONLY ONCE FOR YOUR CCD LAB TO OBTAIN AND SAVE ALL THE RAW DATA\n",
    "## >>>>>>>> ONCE YOU HAVE THE DATA, NO NEED TO RE-RUN THIS STEP <<<<<<<<<<<<\n",
    "\n",
    "# retrieve the data as a tarball from the UVic website, and untar in home dir\n",
    "Lab1_datadir = 'CCDLab_data'\n",
    "\n",
    "# Check if data dir exists, else retrieve data from UVic website\n",
    "if not(os.path.exists(Lab1_datadir) and os.path.isdir(Lab1_datadir)):\n",
    "    url = 'http://astrowww.phys.uvic.ca/~karun/UVicAstrLabs/A250/CCDlab/'\n",
    "    tgz = Lab1_datadir+'.tgz'\n",
    "    outfile = tgz\n",
    "    urlretrieve(url+tgz, filename=outfile)\n",
    "    tar = tarfile.open(outfile)\n",
    "    tar.extractall()\n",
    "    tar.close()\n",
    "\n",
    "print('CCD Lab data dir: ',Lab1_datadir)\n",
    "print('List of available files:')\n",
    "file_list = os.listdir(Lab1_datadir)\n",
    "for file in file_list:\n",
    "    print(file)"
   ]
  },
  {
   "cell_type": "markdown",
   "metadata": {},
   "source": [
    "## **Here is where the lab exercise begins**\n",
    "\n",
    "## **Step 0: Prep files**\n",
    "\n",
    "**Accessing the data (images) and getting basic info** \n",
    "\n",
    "Let us first get familiar with accessing the data files (= images from the telescope) and getting some basic information. On a sheet of paper, write down the names of all the data files in the data directory, _Data/CCDlab_\n",
    "\n",
    "**NOTES** \n",
    "1. The unprocessed images (_raw_) are named 560??o.fits. \n",
    "2. Bias.fits is the _Bias_ image.\n",
    "3. Flat.fits is the _Flat Field_ image.\n",
    "4. Dark.fits is the _Dark_ image. \n",
    "\n",
    "These are the images you will work with.\n",
    "The next cell loads a sample file, 'Sample1o.fits', and gets some basic info regarding the image. "
   ]
  },
  {
   "cell_type": "code",
   "execution_count": 9,
   "metadata": {},
   "outputs": [
    {
     "name": "stdout",
     "output_type": "stream",
     "text": [
      "Filename: CCDLab_data/Sample1o.fits\n",
      "No.    Name      Ver    Type      Cards   Dimensions   Format\n",
      "  0  PRIMARY       1 PrimaryHDU      30   (384, 576)   float32   \n"
     ]
    }
   ],
   "source": [
    "Lab1_datadir = 'CCDLab_data'\n",
    "fits_filename = 'Sample1o.fits'\n",
    "# create a path to the fits file\n",
    "infits = os.path.join(Lab1_datadir,fits_filename)\n",
    "# get and print out basic info regarding the fits file\n",
    "pyfits.info(infits)"
   ]
  },
  {
   "cell_type": "markdown",
   "metadata": {},
   "source": [
    "**Exercise 1**\n",
    "In the following cell, replace the sample filename with one of the other filenames in your list, and run it. Do you get similar info regarding the image? "
   ]
  },
  {
   "cell_type": "code",
   "execution_count": 10,
   "metadata": {},
   "outputs": [
    {
     "name": "stdout",
     "output_type": "stream",
     "text": [
      "Filename: CCDLab_data/56068o.fits\n",
      "No.    Name      Ver    Type      Cards   Dimensions   Format\n",
      "  0  PRIMARY       1 PrimaryHDU      35   (384, 576)   float32   \n"
     ]
    }
   ],
   "source": [
    "# Try different filenames from your list and re-run this cell\n",
    "fits_filename = '56068o.fits'\n",
    "infits = os.path.join(Lab1_datadir,fits_filename)\n",
    "pyfits.info(infits)"
   ]
  },
  {
   "cell_type": "markdown",
   "metadata": {},
   "source": [
    "Next, we will learn to access the _fits header_ information which contains important information such as the size of the image, exposure time, etc."
   ]
  },
  {
   "cell_type": "code",
   "execution_count": 11,
   "metadata": {},
   "outputs": [
    {
     "name": "stdout",
     "output_type": "stream",
     "text": [
      "Filename       X-size  Y-size  Exp Time[s]\n",
      "56077o.fits   384     576      26.0\n"
     ]
    }
   ],
   "source": [
    "print('Filename       X-size  Y-size  Exp Time[s]')\n",
    "fits_filename = '56077o.fits'\n",
    "infits = os.path.join(Lab1_datadir,fits_filename)\n",
    "image_header = pyfits.getheader(infits, ext=0) ## this header info is needed for later\n",
    "naxis1 = image_header['NAXIS1'] ## GETS THE X-DIMENSION OF THE IMAGE\n",
    "naxis2 = image_header['NAXIS2'] ## GETS THE Y-DIMENSION\n",
    "etime = image_header['INTTIME'] ## GETS THE EXPOSURE TIME FROM THE HEADER\n",
    "print('%s %5d %7d %9.1f' % (fits_filename,naxis1,naxis2,etime))"
   ]
  },
  {
   "cell_type": "markdown",
   "metadata": {},
   "source": [
    "**Exercise 2**\n",
    "In the following cell, create a list of filenames for the raw images, and get the x, y sizes and exposure times. The first line creates a list. Fill in the rest of the code. "
   ]
  },
  {
   "cell_type": "code",
   "execution_count": 12,
   "metadata": {},
   "outputs": [
    {
     "name": "stdout",
     "output_type": "stream",
     "text": [
      "Filename       X-size  Y-size  Exp Time[s]\n",
      "56068o.fits     384     576       0.0\n",
      "56069o.fits     384     576       0.1\n",
      "56070o.fits     384     576       0.2\n",
      "56071o.fits     384     576       0.4\n",
      "56072o.fits     384     576       0.8\n",
      "56073o.fits     384     576       1.6\n",
      "56074o.fits     384     576       3.2\n",
      "56075o.fits     384     576       6.4\n",
      "56076o.fits     384     576      13.0\n",
      "56077o.fits     384     576      26.0\n",
      "56078o.fits     384     576      52.0\n"
     ]
    }
   ],
   "source": [
    "filename_list = []\n",
    "for file_num in range(68,79):\n",
    "    filename_list.append('560'+str(file_num)+'o.fits')\n",
    "\n",
    "## NOTE: The same can be achieved in a more elegant form using the following single line of code\n",
    "## filename_list = ['560'+str(file_num)+'o.fits' for file_num in range(68,79)]\n",
    "\n",
    "## Use the file list to get the X, Y sizes and the exposure times for all the images\n",
    "## from their fits headers\n",
    "print('Filename       X-size  Y-size  Exp Time[s]')\n",
    "for fits_filename in filename_list:\n",
    "\n",
    "    ## FILL IN THE REQUIRED CODE HERE TO GET X,Y SIZES AND EXPOSURE TIME\n",
    "    infits = os.path.join(Lab1_datadir,fits_filename)\n",
    "    image_header = pyfits.getheader(infits, ext=0) ## this header info is needed for later\n",
    "    naxis1 = image_header['NAXIS1'] ## GETS THE X-DIMENSION OF THE IMAGE\n",
    "    naxis2 = image_header['NAXIS2'] ## GETS THE Y-DIMENSION\n",
    "    etime = image_header['INTTIME'] ## GETS THE EXPOSURE TIME FROM THE HEADER\n",
    "\n",
    "    ## PRINT OUT THE VALUES\n",
    "    print('%s %7d %7d %9.1f' % (fits_filename,naxis1,naxis2,etime))\n"
   ]
  },
  {
   "cell_type": "markdown",
   "metadata": {},
   "source": [
    "## **Step 1: Reading in an image** \n",
    "\n",
    "Before we can process an image, it has to be read into a numerical array. Then we can carry out arithmetic and statistical operations on it. \n",
    "\n",
    "In the first part, we read in an image into a 2D array variable, *image_data*. Then, we get the (x,y) size of the image, and print it out to screen. as well as the mean and standard deviation of the pixel values. First, we estimate the statistics of the whole image, and then, we estiamte the mean and standard deviation of only a sub-region (also called subraster). \n",
    "\n",
    "**Exercise 2** Enter one of your filenames on the second line, uncomment it and then re-run this cell. Do you get the same image size?\n",
    "\n",
    "**NOTE** The first number in the size refers to the number of rows, and the second to the columns (Python is row justified) "
   ]
  },
  {
   "cell_type": "code",
   "execution_count": 13,
   "metadata": {},
   "outputs": [
    {
     "name": "stdout",
     "output_type": "stream",
     "text": [
      "Name of image:  CCDLab_data/Sample1o.fits\n",
      "Size of array:  (576, 384)\n",
      "Number of rows: 576\n",
      "Number of columns: 384\n"
     ]
    }
   ],
   "source": [
    "# read the image data into a two-dimensional (x,y) array\n",
    "fits_filename = 'Sample1o.fits'\n",
    "## fits_filename = \n",
    "infits = os.path.join(Lab1_datadir,fits_filename)\n",
    "\n",
    "## >>>>>>> IMPORTANT LINE <<<<<<<<<<<<\n",
    "## THIS READS THE IMAGE INTO AN ARRAY\n",
    "image_data = pyfits.getdata(infits, ext=0)\n",
    "#allows us to read the fits image\n",
    "\n",
    "# get the x,y size of the image\n",
    "array_size = image_data.shape\n",
    "\n",
    "print('Name of image: ',infits)\n",
    "print('Size of array: ',array_size)\n",
    "print('Number of rows: %d'% (array_size[0])) ## USES FANCY FORMATTING\n",
    "print('Number of columns: %d' % (array_size[1]))\n"
   ]
  },
  {
   "cell_type": "markdown",
   "metadata": {},
   "source": [
    "## **Step 1 (contd.): Processing an image [IMPORTANT STEP]** \n",
    "\n",
    "Now that we have the image data in a numerical array, we can do mathematical operations on it. \n",
    "\n",
    "Steps to be done:\n",
    "1. Subtract the *Bias* from each image\n",
    "2. Divide each image by the *Flat Field*\n",
    "\n",
    "Your TA will talk to you about what these steps mean. Use the example given and carry out these two steps on all the other images. The bias image and the flat field image are provided to you in Lab1_datadir."
   ]
  },
  {
   "cell_type": "code",
   "execution_count": 14,
   "metadata": {},
   "outputs": [
    {
     "name": "stdout",
     "output_type": "stream",
     "text": [
      "Processed image: Sample1o.fits\n",
      "Output image: CCDLab_data/Sample1p.fits\n"
     ]
    }
   ],
   "source": [
    "# read in the bias image\n",
    "bias_image = os.path.join(Lab1_datadir,'Bias.fits')\n",
    "bias_data = pyfits.getdata(bias_image, ext=0)\n",
    "# read in the flat field image\n",
    "ff_image = os.path.join(Lab1_datadir,'Flat_norm.fits')\n",
    "ff_data = pyfits.getdata(ff_image, ext=0)\n",
    "\n",
    "## Now process each image\n",
    "fits_filename = 'Sample1o.fits'\n",
    "infits = os.path.join(Lab1_datadir,fits_filename)\n",
    "image_data = pyfits.getdata(infits, ext=0)\n",
    "image_header = pyfits.getheader(infits, ext=0) ## this header info is needed for later\n",
    "## subtract the bias\n",
    "image_data_b = image_data - bias_data\n",
    "## divide by the flat field\n",
    "image_data_ff = image_data_b/ff_data\n",
    "\n",
    "## save the image under a new name\n",
    "outfits_name = 'Sample1p.fits' ## the 'p' represents 'processed'\n",
    "outfits = os.path.join(Lab1_datadir,outfits_name)\n",
    "pyfits.writeto(outfits,image_data_ff,header=image_header,overwrite=True)\n",
    "\n",
    "## Print out \n",
    "print('Processed image: %s' % (fits_filename))\n",
    "print('Output image: %s' % (outfits))"
   ]
  },
  {
   "cell_type": "markdown",
   "metadata": {},
   "source": [
    "**Exercise 3**\n",
    "\n",
    "In the code cell below, use another fits_filename from your list, then copy and paste the code to process that image. Run the cell and check if your new fits file has been successfully created."
   ]
  },
  {
   "cell_type": "code",
   "execution_count": 15,
   "metadata": {},
   "outputs": [
    {
     "name": "stdout",
     "output_type": "stream",
     "text": [
      "Processed image: 56068o.fits\n",
      "Output image: CCDLab_data/56068p.fits\n"
     ]
    }
   ],
   "source": [
    "## Use this code cell to process one of your images\n",
    "## copy and paste the required code lines from the cell above \n",
    "\n",
    "bias_image = os.path.join(Lab1_datadir,'Bias.fits')\n",
    "bias_data = pyfits.getdata(bias_image, ext=0)\n",
    "# read in the flat field image\n",
    "ff_image = os.path.join(Lab1_datadir,'Flat_norm.fits')\n",
    "ff_data = pyfits.getdata(ff_image, ext=0)\n",
    "\n",
    "## Now process each image\n",
    "fits_filename = '56068o.fits'\n",
    "infits = os.path.join(Lab1_datadir,fits_filename)\n",
    "image_data = pyfits.getdata(infits, ext=0)\n",
    "image_header = pyfits.getheader(infits, ext=0) ## this header info is needed for later\n",
    "## subtract the bias\n",
    "image_data_b = image_data - bias_data\n",
    "## divide by the flat field\n",
    "image_data_ff = image_data_b/ff_data\n",
    "\n",
    "## save the image under a new name\n",
    "outfits_name = '56068p.fits' ## the 'p' represents 'processed'\n",
    "outfits = os.path.join(Lab1_datadir,outfits_name)\n",
    "pyfits.writeto(outfits,image_data_ff,header=image_header,overwrite=True)\n",
    "\n",
    "## Print out \n",
    "print('Processed image: %s' % (fits_filename))\n",
    "print('Output image: %s' % (outfits))\n",
    "\n",
    "\n",
    "## (remember the bias and flat field have already been read in)"
   ]
  },
  {
   "cell_type": "markdown",
   "metadata": {},
   "source": [
    "## **Step 1 (contd.): Processing several images **\n",
    "\n",
    "Processing one image at a time is tedious >:(\n",
    "Here is a way of doing several images simultaneously \n",
    "\n",
    "**NOTE: This can be done more elegantly using a user-defined function, but that is a more advanced topic.**\n"
   ]
  },
  {
   "cell_type": "code",
   "execution_count": 16,
   "metadata": {},
   "outputs": [
    {
     "name": "stdout",
     "output_type": "stream",
     "text": [
      "Sample1o\n",
      "Sample1p\n"
     ]
    }
   ],
   "source": [
    "## THIS CELL IS JUST A SIMPLE PYTHON TUTORIAL TO SHOW HOW WE CAN GENERATE THE OUTPUT FILENAME\n",
    "## FROM ANY GIVEN INPUT FILENAME\n",
    "fits_filename = 'Sample1o.fits'\n",
    "[file_base,file_end] = fits_filename.split('.')\n",
    "print(file_base)\n",
    "file_base = file_base[:-1]+'p'\n",
    "print(file_base)"
   ]
  },
  {
   "cell_type": "code",
   "execution_count": 17,
   "metadata": {},
   "outputs": [
    {
     "name": "stdout",
     "output_type": "stream",
     "text": [
      "Number of images to process: 11\n",
      "Processed image: 56068o.fits -> CCDLab_data/56068p.fits\n",
      "Processed image: 56069o.fits -> CCDLab_data/56069p.fits\n",
      "Processed image: 56070o.fits -> CCDLab_data/56070p.fits\n",
      "Processed image: 56071o.fits -> CCDLab_data/56071p.fits\n",
      "Processed image: 56072o.fits -> CCDLab_data/56072p.fits\n",
      "Processed image: 56073o.fits -> CCDLab_data/56073p.fits\n",
      "Processed image: 56074o.fits -> CCDLab_data/56074p.fits\n",
      "Processed image: 56075o.fits -> CCDLab_data/56075p.fits\n",
      "Processed image: 56076o.fits -> CCDLab_data/56076p.fits\n",
      "Processed image: 56077o.fits -> CCDLab_data/56077p.fits\n",
      "Processed image: 56078o.fits -> CCDLab_data/56078p.fits\n"
     ]
    }
   ],
   "source": [
    "## THIS CODE SEGEMENT WILL PROCESS ALL THE IMAGES GIVEN IN THE filename_list \n",
    "## WE CREATED THIS LIST A COUPLE OF CELLS BACK\n",
    "image_list = filename_list\n",
    "output_list = []\n",
    "n_images = len(image_list)\n",
    "print('Number of images to process: %d' % (n_images))\n",
    "for fits_filename in image_list:\n",
    "    infits = os.path.join(Lab1_datadir,fits_filename)\n",
    "    image_data = pyfits.getdata(infits, ext=0)\n",
    "    image_header = pyfits.getheader(infits, ext=0) ## this header info is needed for later\n",
    "    ## subtract the bias\n",
    "    image_data_b = image_data - bias_data\n",
    "    ## divide by the flat field\n",
    "    image_data_ff = image_data_b/ff_data\n",
    "\n",
    "    ## save the image under a new name\n",
    "    [file_base,file_end] = fits_filename.split('.')\n",
    "    file_base = file_base[:-1]+'p' ## A bit of string manipulation\n",
    "    outfits_name = file_base+'.'+file_end ## creates the output filename from the input name\n",
    "    output_list.append(outfits_name) ## The list of output names is saved for later use\n",
    "    outfits = os.path.join(Lab1_datadir,outfits_name)\n",
    "    pyfits.writeto(outfits,image_data_ff,header=image_header,overwrite=True)\n",
    "    print('Processed image: %s -> %s' % (fits_filename,outfits))\n",
    "    \n",
    "## print(output_list)"
   ]
  },
  {
   "cell_type": "markdown",
   "metadata": {},
   "source": [
    "## **Step 2: Find the mean and standard deviation of counts in the processed images **\n",
    "\n",
    "Next we will do statistics on the processed images. For this we will use only a sub-section of the image (called *image slicing*)"
   ]
  },
  {
   "cell_type": "code",
   "execution_count": 18,
   "metadata": {},
   "outputs": [
    {
     "name": "stdout",
     "output_type": "stream",
     "text": [
      "Statistics of a list of images:\n",
      "Image Name,    ETime,  Mean,   Std Dev\n",
      "56068p.fits  0.00    2.899    1.701\n",
      "56069p.fits  0.10    7.006    2.012\n",
      "56070p.fits  0.20   10.584    1.868\n",
      "56071p.fits  0.40   17.612    2.116\n",
      "56072p.fits  0.80   32.237    1.971\n",
      "56073p.fits  1.60   60.501    2.530\n",
      "56074p.fits  3.20  117.926    3.136\n",
      "56075p.fits  6.40  233.554    3.987\n",
      "56076p.fits 13.00  467.349    5.165\n",
      "56077p.fits 26.00  926.806    8.072\n",
      "56078p.fits 52.00 1842.418   12.403\n"
     ]
    }
   ],
   "source": [
    "## REMEMBER TO RUN THE PREVIOUS CELL BEFORE RUNNING THIS ONE\n",
    "\n",
    "## create a list to hold the output stats values\n",
    "mu_vect = []\n",
    "sdev_vect = []\n",
    "etime_vect = []\n",
    "print('Statistics of a list of images:')\n",
    "\n",
    "print('Image Name,    ETime,  Mean,   Std Dev')\n",
    "for pfits_filename in output_list:\n",
    "    pfits = os.path.join(Lab1_datadir,pfits_filename)\n",
    "    image_data = pyfits.getdata(pfits, ext=0)\n",
    "    image_header = pyfits.getheader(pfits, ext=0) ## this header info is needed for later\n",
    "    mu = np.mean(image_data[100:120,100:120]) ## THIS CALCULATES THE MEAN OF A FIXED IMAGE SLICE\n",
    "    sdev = np.std(image_data[100:120,100:120]) ## THIS CALCULATES THE STANDARD DEVIATION\n",
    "    etime = image_header['INTTIME'] ## THIS GETS THE EXPOSURE TIME FROM THE HEADER\n",
    "    print('%s %5.2f %8.3f %8.3f' % (pfits_filename,etime,mu,sdev))\n",
    "    mu_vect.append(float(mu))\n",
    "    sdev_vect.append(float(sdev))\n",
    "    etime_vect.append(float(etime))"
   ]
  },
  {
   "cell_type": "markdown",
   "metadata": {},
   "source": [
    "## **Question 1:**\n",
    "\n",
    "Based on the values you determined in the previous step, do the values agree with what you would expect for a Poissonian distribution? Explain.\n",
    "\n",
    "Poissonian distribution would be evident if the standard deviation was the square root of the mean value. We see for this set of data that it is not the case. When the average of events, N, is large, the signal to noise ratio is also large. "
   ]
  },
  {
   "cell_type": "markdown",
   "metadata": {},
   "source": [
    "## **Step 3: Test the linearity of the CCD**\n",
    "\n",
    "We will plot the mean number of counts (y-axis) versus the exposure time (x-axis). We will use a log-log plot for this.\n"
   ]
  },
  {
   "cell_type": "code",
   "execution_count": 40,
   "metadata": {},
   "outputs": [
    {
     "data": {
      "text/plain": [
       "[<matplotlib.lines.Line2D at 0x7f687ea88c88>]"
      ]
     },
     "execution_count": 40,
     "metadata": {},
     "output_type": "execute_result"
    },
    {
     "data": {
      "image/png": "[encoded data removed]",
      "text/plain": [
       "<Figure size 432x288 with 1 Axes>"
      ]
     },
     "metadata": {},
     "output_type": "display_data"
    }
   ],
   "source": [
    "plt.figure()\n",
    "plt.title('Figure 1: CCD linearity')\n",
    "plt.xlabel('Exp Time [s]')\n",
    "plt.ylabel('Mean counts [adu]')\n",
    "\n",
    "## THIS CREATES A SIMPLE SCATTER PLOT\n",
    "## plt.scatter(etime_vect,mu_vect) \n",
    "\n",
    "## THIS CREATES A LOG-LOG PLOT\n",
    "plt.loglog(etime_vect,mu_vect,'bo--', linewidth=2, markersize=6) \n",
    "\n",
    "## NOTE THE LINEAR SECTION AND WHERE THAT LINEAR SECTION BREAKS DOWN \n",
    "## DISCUSS YOUR REASONS IN THE CELL BELOW\n"
   ]
  },
  {
   "cell_type": "markdown",
   "metadata": {},
   "source": [
    "## **Question 2:**\n",
    "\n",
    "Is the graph linear? Where and why does this linearity break down? What is the slope of this line? What does the slope tell you?\n",
    "\n",
    "The graphs appears linear at larger exposures, however at low exposure time, the linearity is inconsistent. The slope represents S, or the number of electrons per second. Where non-linearity occurs, we can expect pixel saturation and charge overflow. In the case of our CCD, the nonlinearity occurs at lower exposure times, which may be corrected for as it is likely related to instances of lower illumination. [7]"
   ]
  },
  {
   "cell_type": "markdown",
   "metadata": {},
   "source": [
    "## **Step 3a: Determine the gain of the CCD**\n",
    "\n",
    "**NOTE: THIS IS GIVEN AS STEP 7 IN YOUR LAB MANUAL**\n",
    "\n",
    "We will plot the mean number of counts (x-axis) versus the variance (y-axis). Refer to the equations given under Step 7 in the lab manual. After plotting, use the linear part to find the gain (images with longer exposure times)."
   ]
  },
  {
   "cell_type": "code",
   "execution_count": 20,
   "metadata": {},
   "outputs": [
    {
     "name": "stdout",
     "output_type": "stream",
     "text": [
      "Gain value: 12.19\n"
     ]
    },
    {
     "data": {
      "image/png": "[encoded data removed]",
      "text/plain": [
       "<Figure size 432x288 with 1 Axes>"
      ]
     },
     "metadata": {},
     "output_type": "display_data"
    }
   ],
   "source": [
    "variance = np.multiply(sdev_vect,sdev_vect)\n",
    "\n",
    "plt.figure()\n",
    "plt.title('Figure 2: CCD Gain')\n",
    "plt.xlabel('Mean Counts [ADU]')\n",
    "plt.ylabel('Variance [ADU]')\n",
    "plt.plot(mu_vect,variance,'bo--', linewidth=2, markersize=6) \n",
    "\n",
    "## Calculate the gain using 'rise over run'\n",
    "## IMPORTANT: We are using only the last three data points (high S/N points)\n",
    "SLOPE = (variance[-1]-variance[0])/(mu_vect[-1]-mu_vect[0])\n",
    "GAIN_VALUE = 1./SLOPE\n",
    "print('Gain value: %.2f' % GAIN_VALUE)"
   ]
  },
  {
   "cell_type": "code",
   "execution_count": 37,
   "metadata": {},
   "outputs": [
    {
     "name": "stdout",
     "output_type": "stream",
     "text": [
      "Gain value [FIT]: 12.57\n"
     ]
    },
    {
     "data": {
      "text/plain": [
       "[<matplotlib.lines.Line2D at 0x7f6872f65588>]"
      ]
     },
     "execution_count": 37,
     "metadata": {},
     "output_type": "execute_result"
    },
    {
     "data": {
      "image/png": "[encoded data removed]",
      "text/plain": [
       "<Figure size 432x288 with 1 Axes>"
      ]
     },
     "metadata": {},
     "output_type": "display_data"
    }
   ],
   "source": [
    "## We will also do a linear fit to the data to determine the gain\n",
    "(SLOPE_FIT,INTERCEPT) = np.polyfit(mu_vect,variance,1)\n",
    "GAIN_VALUE_FIT = 1./SLOPE_FIT\n",
    "print('Gain value [FIT]: %.2f' % GAIN_VALUE_FIT)\n",
    "\n",
    "## Also replot the CCD Gain plot with the fit overplotted\n",
    "plt.figure()\n",
    "plt.title('Figure 2a: CCD Gain as fitted')\n",
    "plt.xlabel('Mean Counts [ADU]')\n",
    "plt.ylabel('Variance [ADU]')\n",
    "plt.plot(mu_vect,variance,'bo--', linewidth=2, markersize=6) \n",
    "\n",
    "## Use the fitted parameters to generate the fitted line\n",
    "mu_gen = np.arange(mu_vect[0],mu_vect[-1],25)\n",
    "var_gen = np.multiply(SLOPE_FIT,mu_gen) + INTERCEPT\n",
    "plt.plot(mu_gen,var_gen,'g--', linewidth=2, markersize=6) \n"
   ]
  },
  {
   "cell_type": "markdown",
   "metadata": {},
   "source": [
    "## **Step 4: Examine the noise**\n",
    "\n",
    "First convert the mean and standard deviation from counts to electrons by multiplying by the _gain_. Then plot the _signal_ (N_e), versus the _noise_ (S_e). Use a log-log plot.\n",
    "\n",
    "**NOTE** \n",
    "1. Here we are using S_e to refer to the noise, $\\sigma$_e in Equation 5.4\n",
    "2. You have to complete the cells above and Figure 2 in order to determine the value of _gain_.\n",
    "\n"
   ]
  },
  {
   "cell_type": "code",
   "execution_count": 35,
   "metadata": {},
   "outputs": [
    {
     "data": {
      "text/plain": [
       "[<matplotlib.lines.Line2D at 0x7f6873173668>]"
      ]
     },
     "execution_count": 35,
     "metadata": {},
     "output_type": "execute_result"
    },
    {
     "data": {
      "image/png": "[encoded data removed]",
      "text/plain": [
       "<Figure size 432x288 with 1 Axes>"
      ]
     },
     "metadata": {},
     "output_type": "display_data"
    }
   ],
   "source": [
    "## ENTER THE CORRECT VALUE OF GAIN IN THE LINE BELOW BEFORE RUNNING THIS CELL\n",
    "GAIN_VALUE = 12.57\n",
    "\n",
    "N_e = np.multiply(mu_vect, GAIN_VALUE) ## THIS IS THE SIGNAL\n",
    "S_e = np.multiply(sdev_vect, GAIN_VALUE) ## THIS IS THE NOISE\n",
    "\n",
    "## create a log-log plot of signal, N_e versus noise, S_e. \n",
    "## Use the template given above for creating this plot\n",
    "## Use the proper axis labels and title\n",
    "\n",
    "plt.figure()\n",
    "plt.title('Figure 3: Signal to Noise plot')\n",
    "plt.xlabel('N_e [e-]')\n",
    "plt.ylabel('S_e [e-]')\n",
    "\n",
    "## THIS CREATES A SIMPLE SCATTER PLOT\n",
    "## plt.scatter(etime_vect,mu_vect) \n",
    "\n",
    "## THIS CREATES A LOG-LOG PLOT\n",
    "plt.loglog(N_e,S_e,'bo--', linewidth=2, markersize=6) \n",
    "\n"
   ]
  },
  {
   "cell_type": "markdown",
   "metadata": {},
   "source": [
    "## **Question 3:**\n",
    "\n",
    "**NOTE** YOU HAVE TO COMPLETE THE PLOT IN THE PREVIOUS CELL BEFORE YOU CAN ANSWER THIS QUESTION!\n",
    "\n",
    "What value did you use for the gain? What are your values for N_e and S_e? (use a print statement in the cell below to print out these values neatly)\n"
   ]
  },
  {
   "cell_type": "code",
   "execution_count": 23,
   "metadata": {},
   "outputs": [
    {
     "name": "stdout",
     "output_type": "stream",
     "text": [
      "Gain value [FIT]: 12.57\n",
      "N_e values:\n",
      "[    35.32389593     85.38698112    128.98807947    214.63392383\n",
      "    392.8714411     737.31461723   1437.15200151   2846.28963774\n",
      "   5695.51441481  11294.84388202  22453.27891119]\n",
      "S_e values:\n",
      "[  20.72889132   24.52504324   22.76958657   25.7874737    24.0203192\n",
      "   30.82910643   38.21419357   48.59083174   62.95013487   98.36858974\n",
      "  151.15436464]\n"
     ]
    }
   ],
   "source": [
    "print('Gain value [FIT]: %.2f' % GAIN_VALUE_FIT)\n",
    "print('N_e values:')\n",
    "print(N_e)\n",
    "print('S_e values:')\n",
    "print(S_e)\n"
   ]
  },
  {
   "cell_type": "code",
   "execution_count": 18,
   "metadata": {},
   "outputs": [],
   "source": [
    "## USE A FOR LOOP TO PRINT OUT EACH VALUE OF N_e AND S_e SIDE BY SIDE\n",
    "## USE A FORMATTED PRINT STATEMENT (SEE CODE STATEMENTS ABOVE)"
   ]
  },
  {
   "cell_type": "markdown",
   "metadata": {},
   "source": [
    "In the Signal-to-Noise, plot we notice two regimes, a flat section which is noise dominated, and a linear section which is signal dominated. Let us study what these sections represent.\n",
    "\n",
    "In this log-log plot, Figure 3, the relation between N_e and S_e in these two regions appears to be linear. Therefore, let us fit a straight line through the points in each region. \n",
    "\n",
    "**HINT** Refer to Equation 5.4 in the lab manual. Assume that the dark current is negligible."
   ]
  },
  {
   "cell_type": "code",
   "execution_count": 41,
   "metadata": {},
   "outputs": [
    {
     "name": "stdout",
     "output_type": "stream",
     "text": [
      "Slope and intercept of low SN region: 0.11 1.17\n",
      "Slope and intercept of high SN region: 0.40 0.34\n"
     ]
    }
   ],
   "source": [
    "## We will do a linear fit in the noise dominated (low signal) region\n",
    "mu_lowSN = np.log10(N_e[0:4])\n",
    "sdev_lowSN = np.log10(S_e[0:4])\n",
    "(SLOPE_FIT_lowSN,INTERCEPT_lowSN) = np.polyfit(mu_lowSN,sdev_lowSN,1)\n",
    "print('Slope and intercept of low SN region: %.2f %.2f' % (SLOPE_FIT_lowSN,INTERCEPT_lowSN))\n",
    "\n",
    "## We will do a linear fit in the signal dominated region (high signal)\n",
    "mu_highSN = np.log10(N_e[4:-1])\n",
    "sdev_highSN = np.log10(S_e[4:-1])\n",
    "(SLOPE_FIT_highSN,INTERCEPT_highSN) = np.polyfit(mu_highSN,sdev_highSN,1)\n",
    "print('Slope and intercept of high SN region: %.2f %.2f' % (SLOPE_FIT_highSN,INTERCEPT_highSN))\n"
   ]
  },
  {
   "cell_type": "markdown",
   "metadata": {},
   "source": [
    "## **Question 4:**\n",
    "\n",
    "What is the log-log plot of N_e versus S_e showing, qualitatively? (i.e. , exposure time?) \n",
    " \n",
    "The graph represents a signal-to-noise graph; with greater signal, the noise also increases, however between the range of 100 and 1000 noise input, the noise oscillates slightly. \n",
    "\n",
    "**ESTIMATE THE READ NOISE**\n",
    "Assuming that the _dark current_ is negligible, use this graph and Equation (4.4) in your lab manual to estimate the read noise. Explain your reasoning.\n",
    "\n",
    "Read noise = 2.11"
   ]
  },
  {
   "cell_type": "markdown",
   "metadata": {},
   "source": [
    "## **Step 5: Examine the relative noise (i.e. the S/N in Equation 5.5)**\n",
    "\n",
    "**Calculate the Signal to Noise ratio, SNR** (given as S/N in Equation 5.5, and N/S in Step 5 in your manual)\n",
    "\n"
   ]
  },
  {
   "cell_type": "code",
   "execution_count": 26,
   "metadata": {},
   "outputs": [
    {
     "name": "stdout",
     "output_type": "stream",
     "text": [
      "[   1.70408998    3.48162408    5.66492848    8.32318537   16.35579602\n",
      "   23.91618515   37.60780661   58.57668074   90.47660385  114.82165101\n",
      "  148.54535603]\n",
      "[    35.32389593     85.38698112    128.98807947    214.63392383\n",
      "    392.8714411     737.31461723   1437.15200151   2846.28963774\n",
      "   5695.51441481  11294.84388202  22453.27891119]\n"
     ]
    },
    {
     "data": {
      "image/png": "[encoded data removed]",
      "text/plain": [
       "<Figure size 432x288 with 1 Axes>"
      ]
     },
     "metadata": {},
     "output_type": "display_data"
    }
   ],
   "source": [
    "# calculate the signal-to-noise ratio\n",
    "SNR = N_e/S_e\n",
    "\n",
    "## Create a log-log plot of SNR versus signal, N_e. \n",
    "## Use the template given above for creating this plot\n",
    "## Use the proper axis labels and title\n",
    "\n",
    "## THIS CREATES A LOG-LOG PLOT\n",
    "plt.figure()\n",
    "plt.title('Figure 3: SNR plot')\n",
    "plt.xlabel('N_e [e-]')\n",
    "plt.ylabel('SNR [-]')\n",
    "plt.loglog(N_e,SNR,'bo--', linewidth=2, markersize=6) \n",
    "print(SNR)\n",
    "print(N_e)"
   ]
  },
  {
   "cell_type": "markdown",
   "metadata": {},
   "source": [
    "## **Question 5:**\n",
    "\n",
    "**NOTE** YOU HAVE TO COMPLETE THE PLOT IN THE PREVIOUS CELL BEFORE YOU CAN ANSWER QUESTION 5!\n",
    "\n",
    "Qualitatively, what is this plot showing? Use a print statement (in the cell below) to print out the corresponding values of SNR and N_e . \n",
    "\n",
    "The plot shows the signal-to-noise ratio as photons hit the detector each second vs the noise from various sources. \n",
    "\n",
    "**ADDITIONAL QUESTION (1)** How many photons would need to hit the detector in order to get SNR = 100? Show your calculation in the cell below and explain. (HINT: Use the SNR plot and Equation 4.5)\n",
    "From the plot, we may observe that when SNR = 100, N_e is approximately 11294.8 electrons. "
   ]
  },
  {
   "cell_type": "code",
   "execution_count": 33,
   "metadata": {},
   "outputs": [
    {
     "name": "stdout",
     "output_type": "stream",
     "text": [
      "SNR values\n",
      "[   1.70408998    3.48162408    5.66492848    8.32318537   16.35579602\n",
      "   23.91618515   37.60780661   58.57668074   90.47660385  114.82165101\n",
      "  148.54535603]\n",
      "N_e values\n",
      "[    35.32389593     85.38698112    128.98807947    214.63392383\n",
      "    392.8714411     737.31461723   1437.15200151   2846.28963774\n",
      "   5695.51441481  11294.84388202  22453.27891119]\n"
     ]
    }
   ],
   "source": [
    "print('SNR values')\n",
    "print(SNR) \n",
    "print('N_e values')\n",
    "print(N_e)\n",
    "## USE A FORMATTED PRINT STATEMENT (SEE CODE STATEMENTS ABOVE)"
   ]
  },
  {
   "cell_type": "markdown",
   "metadata": {},
   "source": [
    "## **Step 6: Calculate the theoretical noise**\n",
    "\n",
    "Calculate the theoretical noise using Equation (4.4) given in your lab manual. Neglect the dark current term, Dt = 0\n",
    "\n",
    "**NOTE** You have to determine the value of _read noise, R_ using the plot in Figure 3.\n"
   ]
  },
  {
   "cell_type": "code",
   "execution_count": 46,
   "metadata": {},
   "outputs": [
    {
     "name": "stdout",
     "output_type": "stream",
     "text": [
      "[ 2.11  2.11  2.11  2.11  2.11  2.11  2.11  2.11  2.11  2.11  2.11]\n",
      "[   6.39425963    9.61891846   11.7258467    15.02777345   20.24043388\n",
      "   27.65768265   38.55887999   54.22386221   76.6748315   107.9555396\n",
      "  152.19608241]\n",
      "[  21.38059419   25.29609466   23.48544757   26.59821511   24.77550241\n",
      "   31.79835349   39.41562297   50.1184959    64.92924618  101.46123425\n",
      "  155.90655959]\n"
     ]
    }
   ],
   "source": [
    "## Theoretical noise using Equation 4.4\n",
    "R=np.sqrt((S_e_theo*S_e_theo)-N_e)\n",
    "\n",
    "## NOTE: YOU NEED TO ENTER THE CORRECT VALUE OF READ NOISE HERE\n",
    "print(R)\n",
    "\n",
    "S_e_theo = np.sqrt(N_e + R*R)\n",
    "\n",
    "## USE A FOR LOOP TO PRINT OUT EACH VALUE OF S_e_theo AND \n",
    "## THE MEASURED NOISE VALUE, S_e SIDE BY SIDE\n",
    "## USE A FORMATTED PRINT STATEMENT (SEE CODE STATEMENTS ABOVE)\n",
    "print(S_e_theo)\n",
    "print(S_e)"
   ]
  },
  {
   "cell_type": "markdown",
   "metadata": {},
   "source": [
    "## **Question 6:**\n",
    "\n",
    "Print out the theoretical noise values, S_e_theo, and the corresponding measured noise values, S_e,  in the code cell above. How do they compare to the measured values? Is there a trend with exposure time? What does this discrepancy imply? Do you think including dark current would make a difference?\n",
    "\n",
    "\n",
    "At lower exposure times, there is a much more significant deviation in the actual values when compared to the expected/theoretical values. As the values tend towards higher exposure times, the deviation, while still being present, is not as significant. At the earliest exposure, the expected value is 6.31, however the actual read noise value is 20.7, which is almost 3 times as large. This implies that a combination of noise factors, such as the relatively low sensitivity, and high read noise of the device itself causes a more dominating read noise at lower exposures. The read noise limits the signal-to-noise ratio, which is generally desired to be high (implying there is little discrepancy and so the signal outweighs the noise). Dark current affects the CCD whether or not it is beinge exposed to light, and therefore the exposure time will not matter. The effects of dark current can be reduced by cooling the CCD. "
   ]
  },
  {
   "cell_type": "markdown",
   "metadata": {},
   "source": [
    "## **Step 7: Verify the gain of the detector**\n",
    "\n",
    "**NOTE: WE HAVE ALREADY COMPLETED THIS SECTION, SO THERE IS NO NEED TO DO THIS AGAIN**\n"
   ]
  },
  {
   "cell_type": "markdown",
   "metadata": {},
   "source": [
    "## **Question 7:**\n",
    "\n",
    "Based on all your results so far, is this a Poissonian distribution? Explain\n",
    "\n",
    "Based on the calculated values of the S_e_theo and S_e, the values of S_e_theo does not appear to be the square root of the S_e vlaue, which implies it is not Poissonian distribution. Poissonian distribution occurs when photons arrive at random on the surface of the detector, and the Poissonian distribution gives the probability of the photon's arrival at the detector as a function of time. If there were no other contributions of noise, the noise $\\sigma$ would be given by the square root of the number of electrons. Evidently, there are additional and more significant sources of noise in this device."
   ]
  },
  {
   "cell_type": "markdown",
   "metadata": {},
   "source": [
    "## **Question 8:**\n",
    "\n",
    "**NOTE** YOU HAVE TO COMPLETE THE PLOTS IN THE PREVIOUS CELLS BEFORE YOU CAN ANSWER QUESTION 8!\n",
    "\n",
    "What value do you calculate for the gain? Does this agree with what you expect? Discuss.\n",
    "\n",
    "The calculated value for the gain from the plot is 12.19 e-/ADU. Given that the gain can be obtained by taking the number of electrons N_e and dividing it by the number of counts for that exposure time, we can take a few measurements of the expected gain, for example, for the 52 s exposure: the ADU value is 2714, and the N_e is 22453, so the gain = 22453/2714 = 8.27. Similarily for the 26 s exposure; g = 11294/1360 = 8.31. We can therefore say that the expected gain is around 8.3. A greater value for the gain implies a greater ratio of the analog charge measurement over the assigned data number. In this case, the calculated value of the gain exceeds the expected value; this indicates that the amount of photons quantized into electrons was greater than expected over the number of counts. [8]\n",
    "\n"
   ]
  },
  {
   "cell_type": "markdown",
   "metadata": {},
   "source": [
    "# **ADDITIONAL QUESTIONS**\n",
    "\n",
    "Answer the three additional questions in code cells below (INSERT NEW CODE CELLS AS NEEDED) or on a separate sheet of paper and submit it along with the marking rubric for marking.\n"
   ]
  },
  {
   "cell_type": "code",
   "execution_count": 58,
   "metadata": {
    "scrolled": true
   },
   "outputs": [
    {
     "name": "stdout",
     "output_type": "stream",
     "text": [
      "1.   We want to obtain S/N = 100 in our observations. How many electrons do we need to collect for this S/N?\n",
      "let N_e equal x\n",
      "Rearranging equation 4.5, we let SNR=100, and R=2.11, and neglect Dt:\n",
      "(x^2-10422x+44521)\n",
      "x=10417.726 electrons are needed for an S/N ratio of 100.\n"
     ]
    }
   ],
   "source": [
    "print('1.   We want to obtain S/N = 100 in our observations. How many electrons do we need to collect for this S/N?')\n",
    "print('let N_e equal x')\n",
    "print('Rearranging equation 4.5, we let SNR=100, and R=2.11, and neglect Dt:')\n",
    "print('(x^2-10422x+44521)')\n",
    "print('x=10417.726 electrons are needed for an S/N ratio of 100.')"
   ]
  },
  {
   "cell_type": "markdown",
   "metadata": {},
   "source": []
  }
 ],
 "metadata": {
  "kernelspec": {
   "display_name": "Python 3",
   "language": "python",
   "name": "python3"
  },
  "language_info": {
   "codemirror_mode": {
    "name": "ipython",
    "version": 3
   },
   "file_extension": ".py",
   "mimetype": "text/x-python",
   "name": "python",
   "nbconvert_exporter": "python",
   "pygments_lexer": "ipython3",
   "version": "3.7.3"
  }
 },
 "nbformat": 4,
 "nbformat_minor": 2
}

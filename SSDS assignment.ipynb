{
 "cells": [
  {
   "cell_type": "markdown",
   "metadata": {},
   "source": [
    "# Coma Cluster"
   ]
  },
  {
   "cell_type": "code",
   "execution_count": 1,
   "metadata": {},
   "outputs": [],
   "source": [
    "import pandas as pd\n",
    "import os"
   ]
  },
  {
   "cell_type": "code",
   "execution_count": 2,
   "metadata": {},
   "outputs": [],
   "source": [
    "coma = pd.read_csv('SSDS_COMA.csv', delimiter=',', nrows=764, skiprows=[0])\n",
    "#coma = pd.read_csv(r\"/home/jupyter/Astronomy 303/SSDS_COMA.csv\")\n",
    "#coma.head()"
   ]
  },
  {
   "cell_type": "code",
   "execution_count": 3,
   "metadata": {},
   "outputs": [
    {
     "data": {
      "text/html": [
       "<div>\n",
       "<style scoped>\n",
       "    .dataframe tbody tr th:only-of-type {\n",
       "        vertical-align: middle;\n",
       "    }\n",
       "\n",
       "    .dataframe tbody tr th {\n",
       "        vertical-align: top;\n",
       "    }\n",
       "\n",
       "    .dataframe thead th {\n",
       "        text-align: right;\n",
       "    }\n",
       "</style>\n",
       "<table border=\"1\" class=\"dataframe\">\n",
       "  <thead>\n",
       "    <tr style=\"text-align: right;\">\n",
       "      <th></th>\n",
       "      <th>objID</th>\n",
       "      <th>ra</th>\n",
       "      <th>dec</th>\n",
       "      <th>modelMag_r</th>\n",
       "      <th>modelMagErr_r</th>\n",
       "      <th>extinction_r</th>\n",
       "      <th>class</th>\n",
       "      <th>redshift</th>\n",
       "      <th>zerr</th>\n",
       "      <th>velDisp</th>\n",
       "      <th>velDisperr</th>\n",
       "    </tr>\n",
       "  </thead>\n",
       "  <tbody>\n",
       "    <tr>\n",
       "      <td>0</td>\n",
       "      <td>1237667322724024468</td>\n",
       "      <td>194.976396</td>\n",
       "      <td>26.819967</td>\n",
       "      <td>15.87394</td>\n",
       "      <td>0.003323</td>\n",
       "      <td>0.021009</td>\n",
       "      <td>GALAXY</td>\n",
       "      <td>0.026741</td>\n",
       "      <td>0.000017</td>\n",
       "      <td>24.52307</td>\n",
       "      <td>13.338430</td>\n",
       "    </tr>\n",
       "    <tr>\n",
       "      <td>1</td>\n",
       "      <td>1237667442974982311</td>\n",
       "      <td>195.019097</td>\n",
       "      <td>27.032470</td>\n",
       "      <td>16.73576</td>\n",
       "      <td>0.006262</td>\n",
       "      <td>0.022530</td>\n",
       "      <td>GALAXY</td>\n",
       "      <td>0.023210</td>\n",
       "      <td>0.000031</td>\n",
       "      <td>45.74616</td>\n",
       "      <td>14.019450</td>\n",
       "    </tr>\n",
       "    <tr>\n",
       "      <td>2</td>\n",
       "      <td>1237667322724024401</td>\n",
       "      <td>195.014696</td>\n",
       "      <td>26.898107</td>\n",
       "      <td>13.49986</td>\n",
       "      <td>0.001930</td>\n",
       "      <td>0.022515</td>\n",
       "      <td>GALAXY</td>\n",
       "      <td>0.019764</td>\n",
       "      <td>0.000008</td>\n",
       "      <td>125.55930</td>\n",
       "      <td>2.994381</td>\n",
       "    </tr>\n",
       "    <tr>\n",
       "      <td>3</td>\n",
       "      <td>1237667323798159456</td>\n",
       "      <td>196.046867</td>\n",
       "      <td>27.490444</td>\n",
       "      <td>14.87960</td>\n",
       "      <td>0.002653</td>\n",
       "      <td>0.024423</td>\n",
       "      <td>GALAXY</td>\n",
       "      <td>0.017770</td>\n",
       "      <td>0.000012</td>\n",
       "      <td>72.12569</td>\n",
       "      <td>5.633148</td>\n",
       "    </tr>\n",
       "    <tr>\n",
       "      <td>4</td>\n",
       "      <td>1237667323798159557</td>\n",
       "      <td>196.068599</td>\n",
       "      <td>27.506385</td>\n",
       "      <td>16.19275</td>\n",
       "      <td>0.006796</td>\n",
       "      <td>0.024259</td>\n",
       "      <td>GALAXY</td>\n",
       "      <td>0.023533</td>\n",
       "      <td>0.000036</td>\n",
       "      <td>19.52088</td>\n",
       "      <td>20.236960</td>\n",
       "    </tr>\n",
       "    <tr>\n",
       "      <td>...</td>\n",
       "      <td>...</td>\n",
       "      <td>...</td>\n",
       "      <td>...</td>\n",
       "      <td>...</td>\n",
       "      <td>...</td>\n",
       "      <td>...</td>\n",
       "      <td>...</td>\n",
       "      <td>...</td>\n",
       "      <td>...</td>\n",
       "      <td>...</td>\n",
       "      <td>...</td>\n",
       "    </tr>\n",
       "    <tr>\n",
       "      <td>756</td>\n",
       "      <td>1237667444585988288</td>\n",
       "      <td>196.153757</td>\n",
       "      <td>28.250510</td>\n",
       "      <td>16.53448</td>\n",
       "      <td>0.004102</td>\n",
       "      <td>0.018968</td>\n",
       "      <td>GALAXY</td>\n",
       "      <td>0.018743</td>\n",
       "      <td>0.000015</td>\n",
       "      <td>45.99926</td>\n",
       "      <td>5.679860</td>\n",
       "    </tr>\n",
       "    <tr>\n",
       "      <td>757</td>\n",
       "      <td>1237667444585988306</td>\n",
       "      <td>196.173652</td>\n",
       "      <td>28.227532</td>\n",
       "      <td>16.94125</td>\n",
       "      <td>0.006289</td>\n",
       "      <td>0.018940</td>\n",
       "      <td>GALAXY</td>\n",
       "      <td>0.024035</td>\n",
       "      <td>0.000028</td>\n",
       "      <td>22.59061</td>\n",
       "      <td>17.630390</td>\n",
       "    </tr>\n",
       "    <tr>\n",
       "      <td>758</td>\n",
       "      <td>1237667444586053729</td>\n",
       "      <td>196.302131</td>\n",
       "      <td>28.152430</td>\n",
       "      <td>15.92908</td>\n",
       "      <td>0.003446</td>\n",
       "      <td>0.021361</td>\n",
       "      <td>GALAXY</td>\n",
       "      <td>0.021729</td>\n",
       "      <td>0.000013</td>\n",
       "      <td>81.73788</td>\n",
       "      <td>4.994911</td>\n",
       "    </tr>\n",
       "    <tr>\n",
       "      <td>759</td>\n",
       "      <td>1237667444586119179</td>\n",
       "      <td>196.453582</td>\n",
       "      <td>28.106538</td>\n",
       "      <td>15.50194</td>\n",
       "      <td>0.002891</td>\n",
       "      <td>0.024498</td>\n",
       "      <td>GALAXY</td>\n",
       "      <td>0.024408</td>\n",
       "      <td>0.000010</td>\n",
       "      <td>183.26830</td>\n",
       "      <td>4.156258</td>\n",
       "    </tr>\n",
       "    <tr>\n",
       "      <td>760</td>\n",
       "      <td>1237667444586119281</td>\n",
       "      <td>196.472871</td>\n",
       "      <td>28.112437</td>\n",
       "      <td>14.97591</td>\n",
       "      <td>0.003384</td>\n",
       "      <td>0.025202</td>\n",
       "      <td>GALAXY</td>\n",
       "      <td>0.024611</td>\n",
       "      <td>0.000009</td>\n",
       "      <td>42.24094</td>\n",
       "      <td>9.302522</td>\n",
       "    </tr>\n",
       "  </tbody>\n",
       "</table>\n",
       "<p>761 rows × 11 columns</p>\n",
       "</div>"
      ],
      "text/plain": [
       "                   objID          ra        dec  modelMag_r  modelMagErr_r  \\\n",
       "0    1237667322724024468  194.976396  26.819967    15.87394       0.003323   \n",
       "1    1237667442974982311  195.019097  27.032470    16.73576       0.006262   \n",
       "2    1237667322724024401  195.014696  26.898107    13.49986       0.001930   \n",
       "3    1237667323798159456  196.046867  27.490444    14.87960       0.002653   \n",
       "4    1237667323798159557  196.068599  27.506385    16.19275       0.006796   \n",
       "..                   ...         ...        ...         ...            ...   \n",
       "756  1237667444585988288  196.153757  28.250510    16.53448       0.004102   \n",
       "757  1237667444585988306  196.173652  28.227532    16.94125       0.006289   \n",
       "758  1237667444586053729  196.302131  28.152430    15.92908       0.003446   \n",
       "759  1237667444586119179  196.453582  28.106538    15.50194       0.002891   \n",
       "760  1237667444586119281  196.472871  28.112437    14.97591       0.003384   \n",
       "\n",
       "     extinction_r   class  redshift      zerr    velDisp  velDisperr  \n",
       "0        0.021009  GALAXY  0.026741  0.000017   24.52307   13.338430  \n",
       "1        0.022530  GALAXY  0.023210  0.000031   45.74616   14.019450  \n",
       "2        0.022515  GALAXY  0.019764  0.000008  125.55930    2.994381  \n",
       "3        0.024423  GALAXY  0.017770  0.000012   72.12569    5.633148  \n",
       "4        0.024259  GALAXY  0.023533  0.000036   19.52088   20.236960  \n",
       "..            ...     ...       ...       ...        ...         ...  \n",
       "756      0.018968  GALAXY  0.018743  0.000015   45.99926    5.679860  \n",
       "757      0.018940  GALAXY  0.024035  0.000028   22.59061   17.630390  \n",
       "758      0.021361  GALAXY  0.021729  0.000013   81.73788    4.994911  \n",
       "759      0.024498  GALAXY  0.024408  0.000010  183.26830    4.156258  \n",
       "760      0.025202  GALAXY  0.024611  0.000009   42.24094    9.302522  \n",
       "\n",
       "[761 rows x 11 columns]"
      ]
     },
     "execution_count": 3,
     "metadata": {},
     "output_type": "execute_result"
    }
   ],
   "source": [
    "coma"
   ]
  },
  {
   "cell_type": "code",
   "execution_count": 4,
   "metadata": {},
   "outputs": [],
   "source": [
    "import matplotlib.pyplot as plt\n",
    "import numpy as np"
   ]
  },
  {
   "cell_type": "code",
   "execution_count": 5,
   "metadata": {},
   "outputs": [],
   "source": [
    "ra1 = []\n",
    "dec1 = []\n",
    "rmag1 = []\n",
    "z1 = []\n",
    "for n in range(0,761):\n",
    "    ra1.append(coma['ra'][n])\n",
    "    dec1.append(coma['dec'][n])\n",
    "    rmag1.append(coma['modelMag_r'][n])\n",
    "    z1.append(coma['redshift'][n])"
   ]
  },
  {
   "cell_type": "code",
   "execution_count": 6,
   "metadata": {},
   "outputs": [
    {
     "data": {
      "text/plain": [
       "[<matplotlib.lines.Line2D at 0x7ffa50a32e10>]"
      ]
     },
     "execution_count": 6,
     "metadata": {},
     "output_type": "execute_result"
    },
    {
     "data": {
      "image/png": "[encoded data removed]",
      "text/plain": [
       "<Figure size 576x576 with 1 Axes>"
      ]
     },
     "metadata": {
      "needs_background": "light"
     },
     "output_type": "display_data"
    }
   ],
   "source": [
    "plt.figure(figsize=(8,8))\n",
    "\n",
    "plt.title('Coma Cluster RA vs Dec')\n",
    "plt.xlabel('RA')\n",
    "plt.ylabel('Dec')\n",
    "#axes.set_xlim([193,197])\n",
    "#axes.set_ylim([26.5,29.5])\n",
    "plt.plot(ra1,dec1,'co')\n"
   ]
  },
  {
   "cell_type": "code",
   "execution_count": 7,
   "metadata": {},
   "outputs": [],
   "source": [
    "import numpy as np\n",
    "\n",
    "#############################\n",
    "# want weight to come from the bright galaxies\n",
    "#m = M + 2.5*np.log(f)\n",
    "#############################\n",
    "M = 4.76\n",
    "m = np.asarray(rmag1)\n",
    "#print(rmag)\n",
    "f =10**((M-m)/2.5)\n",
    "#print(f) "
   ]
  },
  {
   "cell_type": "code",
   "execution_count": 8,
   "metadata": {},
   "outputs": [
    {
     "name": "stdout",
     "output_type": "stream",
     "text": [
      "0.05695395374851722\n",
      "194.88691385268973 27.958158901876946\n"
     ]
    },
    {
     "data": {
      "text/plain": [
       "<Figure size 576x576 with 0 Axes>"
      ]
     },
     "metadata": {},
     "output_type": "display_data"
    }
   ],
   "source": [
    "\n",
    "#### most of the weight should come from the bright galaxies! \n",
    "\n",
    "plt.figure(figsize=(8,8))\n",
    "\n",
    "print(f.sum())\n",
    "A = (f*ra1).sum()/f.sum()\n",
    "B = (f*dec1).sum()/f.sum()\n",
    "print(A, B)\n",
    "\n",
    "for i in range(0,761): #range(0,761)\n",
    "    a = ((f[i]*ra1[i]).sum()/f.sum())\n",
    "    b = ((f[i]*dec1[i]).sum()/f.sum())\n",
    "    #print(a,b)    \n",
    "\n",
    "#for i in coma:\n",
    " #   num = (f[i]*ra[i])\n",
    "  #  div = f.sum()\n",
    "   # RA = num/div\n",
    "    #nom = (f[i]*dec[i])\n",
    "    #DEC = nom/div\n",
    "    #plt.xlabel('RA')\n",
    "    #plt.ylabel('DEC')\n",
    "    #plt.scatter(RA,DEC)\n"
   ]
  },
  {
   "cell_type": "markdown",
   "metadata": {},
   "source": [
    "### 4. Next, create a histogram of the galaxies’ redshifts. Plot this redshift histogram. \n",
    "The redshift range, 0.005 ≤ z ≤ 0.05 used for our search sets the max and min values. Suggested bin size is\n",
    "∆z = 0.001, which still gives enough galaxies in the central bins. The clearly noticeable peak in\n",
    "the histogram corresponds to the redshift of Coma cluster! Fit a gaussian function to this redshift\n",
    "histogram. The central value of the fitted gaussian is the redshift of Coma, and the standard deviation\n",
    "is the 1σ uncertainty."
   ]
  },
  {
   "cell_type": "code",
   "execution_count": 9,
   "metadata": {},
   "outputs": [
    {
     "data": {
      "image/png": "[encoded data removed]",
      "text/plain": [
       "<Figure size 576x576 with 1 Axes>"
      ]
     },
     "metadata": {
      "needs_background": "light"
     },
     "output_type": "display_data"
    },
    {
     "name": "stdout",
     "output_type": "stream",
     "text": [
      "mean= 0.0235 simga= 0.0044\n"
     ]
    }
   ],
   "source": [
    "#  do not fit a normalized pdf. \n",
    "\n",
    "from astropy.visualization import hist\n",
    "from scipy.optimize import curve_fit\n",
    "\n",
    "import numpy as np\n",
    "import matplotlib.mlab as mlab\n",
    "import matplotlib.pyplot as plt\n",
    "import math\n",
    "\n",
    "plt.figure(figsize=(8,8))\n",
    "width = 0.001\n",
    "\n",
    "n = math.ceil((coma['redshift'].max() - coma['redshift'].min())/width)\n",
    "ax = plt.hist(coma['redshift'], bins = n, histtype='bar', ec='y', color='cornflowerblue')\n",
    "\n",
    "plt.title('Coma Redshifts')\n",
    "plt.ylabel('Density')\n",
    "plt.xlabel('Redshifts')\n",
    "plt.grid(1)\n",
    "\n",
    "##########################################\n",
    "import statistics as stat\n",
    "z = np.asarray(z1)\n",
    "\n",
    "mu = stat.median(z)\n",
    "sigma = stat.stdev(z)\n",
    "\n",
    "##########################################\n",
    "\n",
    "a = 1 / (np.sqrt(2 * np.pi) * np.sqrt(sigma))\n",
    "\n",
    "def Gauss(z, a, mu, sigma):\n",
    "    return a*(np.exp(-((z - mu)**2 / (2 * sigma))))\n",
    "\n",
    "bin_heights, bin_borders, _ = ax\n",
    "bin_centers = bin_borders[:-1] + np.diff(bin_borders) / 2\n",
    "popt, _ = curve_fit(Gauss, bin_centers, bin_heights, p0=[1., 0., 1.])\n",
    "\n",
    "x_interval_for_fit = np.linspace(bin_borders[0], bin_borders[-1], 10000)\n",
    "plt.plot(x_interval_for_fit, Gauss(x_interval_for_fit, *popt),'r--',label='fit')\n",
    "plt.legend()\n",
    "\n",
    "#######################################\n",
    "plt.show()\n",
    "print('mean=','%.4f' % mu,'simga=','%.4f' % sigma)\n",
    "\n",
    "#####################################\n",
    "\n",
    "#y = mlab.fit( bins, mu, sigma)\n",
    "#l = plt.plot(bins, y, 'r--', linewidth=2)\n"
   ]
  },
  {
   "cell_type": "markdown",
   "metadata": {},
   "source": [
    "### 5. Using the redshift of Coma, calculate the recessional velocity of the cluster (using the Doppler shift\n",
    "formula). Then use the Hubble’s Law to convert the recessional velocity to the distance to the cluster\n",
    "(in Mpc). Use the value of Hubble’s constant as determined by the Planck mission (given in Table 1).\n",
    "\n",
    "$$v_{r}=H_{0}D\\ $$\n",
    "$$ z = v_{r}/c $$"
   ]
  },
  {
   "cell_type": "code",
   "execution_count": 10,
   "metadata": {},
   "outputs": [
    {
     "name": "stdout",
     "output_type": "stream",
     "text": [
      "𝑣𝑟 = 7049.50994864 km/s\n",
      "Distance= 103.97507298879057 Mpc\n"
     ]
    }
   ],
   "source": [
    "vr = mu*299792\n",
    "print('𝑣𝑟 =',vr,'km/s')\n",
    "R = vr/ 67.8 \n",
    "print('Distance=',R,'Mpc')\n",
    "#km.s−1.Mpc−1"
   ]
  },
  {
   "cell_type": "code",
   "execution_count": 11,
   "metadata": {},
   "outputs": [],
   "source": [
    "#Distance to each galaxy based on z\n",
    "import numpy as np\n",
    "z = np.asarray(z1)\n",
    "R2 = np.asarray(z*299892)/(67.8)\n",
    "#print(R2)\n",
    "\n",
    "#vr1 = z*299792\n",
    "#R2 = vr1 // 67.8\n",
    "#print(R2)#MPc"
   ]
  },
  {
   "cell_type": "markdown",
   "metadata": {},
   "source": [
    "# CHECK NUMBERS\n",
    "\n",
    "\n",
    "\n",
    "\n",
    "\n",
    "### 6. Using the RA, Dec positions of all the galaxies, calculate their projected radial distances from the center\n",
    "of Coma, as determined in Step 3.\n",
    "\n",
    "**Important note**: To calculate the projected radial distance, use the small angle formula (given\n",
    "the low redshift of Coma, we will assume Euclidean (flat) geometry and neglect any corrections for\n",
    "cosmology). Here the small angle refers to the angular separation in RA and Dec between each galaxy\n",
    "and central position of Coma. Remember to apply the cos(Dec) correction for RA offsets;\n",
    "also use proper angular units!"
   ]
  },
  {
   "cell_type": "markdown",
   "metadata": {},
   "source": [
    "$$ cos 𝜃 = sin(𝛿)sin(𝛿𝑔)+cos(𝛿)cos(𝛿𝑔)sin(𝛼−𝛼𝑔) $$\n",
    "$$ 𝛼,𝛿 = center coordinates $$\n",
    "$$ 𝛼𝑔,𝛿𝑔  = galaxy coordinates $$\n",
    "$$ 𝑟=𝐷tan(𝜃)≃𝐷𝜃 $$"
   ]
  },
  {
   "cell_type": "code",
   "execution_count": 12,
   "metadata": {},
   "outputs": [],
   "source": [
    "# RA --> (Galaxy ra - center coordinates ra) == delta RA \n",
    "# DEC --> (GALAXY dec - center coordinates dec)\n",
    "\n",
    "# separation in RA = delta RA*(cos avg.Dec) (in degrees) --> need arcsec\n",
    "# separation in DEC = > dec (no correction) --> need arcseconds\n",
    "# avg dec = Galaxy dec + center dec /2 \n",
    "\n",
    "### Total distance == sqrt ((separation in RA)^2 + (separation in DEC)^2) = separation "
   ]
  },
  {
   "cell_type": "code",
   "execution_count": 13,
   "metadata": {},
   "outputs": [
    {
     "name": "stdout",
     "output_type": "stream",
     "text": [
      "3.401418315779983 0.487961925633515\n"
     ]
    }
   ],
   "source": [
    "# Converting Ra & dec from degress into radians & arcseconds\n",
    "ã = A*(np.pi/180)\n",
    "ß = B*(np.pi/180)\n",
    "print(ã, ß) #coordinates of cluster center in radians"
   ]
  },
  {
   "cell_type": "code",
   "execution_count": 14,
   "metadata": {},
   "outputs": [],
   "source": [
    "### cos (dec) correction\n",
    "\n",
    "#ra2,dec2 = [],[]\n",
    "ra2 = np.asarray(ra1)\n",
    "dec2 = np.asarray(dec1)\n",
    "\n",
    "#ra2 = (ra-A)*(np.pi/180)\n",
    "#dec2 = (dec-B)*np.pi/180\n",
    "\n",
    "########\n",
    "#dec_av =[]\n",
    "dec_av = (((dec2**2)+(B**2))/2)*(np.pi/180)\n",
    "#print(dec_av)\n",
    "\n",
    "\n",
    "    \n",
    "𝛼𝑔 = (ra2*(np.cos(dec_av))) ## RA == alpha\n",
    "𝛿𝑔 = dec2 ## DEC == delta\n",
    "##\n",
    "#print(𝛼𝑔,𝛿𝑔)\n",
    "#######\n"
   ]
  },
  {
   "cell_type": "code",
   "execution_count": 15,
   "metadata": {},
   "outputs": [
    {
     "name": "stdout",
     "output_type": "stream",
     "text": [
      "194.88691385268973 27.958158901876946\n",
      "761 761\n"
     ]
    }
   ],
   "source": [
    "print(A,B) #(ra, dec)\n",
    "dec_av = (((dec2**2)+(B**2))/2)\n",
    "𝛼𝑔 = (ra2*(np.cos(dec_av))) ## RA == alpha\n",
    "\n",
    "#arc = (A-ra)*np.cos(dec)\n",
    "########################## ************* ############################## THIS IS IT ################\n",
    "𝜃 = np.arccos(np.sin(B)*np.sin(dec2)+np.cos(B)*np.cos(dec2)*np.cos(A-𝛼𝑔))\n",
    "thet = 𝜃*(np.pi/180)*(206265)\n",
    "par2 = R2*(10**6)\n",
    "par = 103970000\n",
    "#round(1.4756,2)\n",
    "p = np.round((par*thet)*4.848e-12,1)\n",
    "#print(p)\n",
    "\n",
    "print(len(p),len(thet))\n",
    "#print(p[10:60],'Mpc')\n",
    "#print('theta',thet[10:60])\n"
   ]
  },
  {
   "cell_type": "markdown",
   "metadata": {},
   "source": [
    "### 7. **Select all the galaxies within a radial distance of 1.5Mpc from the center of the cluster**,\n",
    "and with redshifts within ±3σ from the redshift of Coma as galaxies belonging to the\n",
    "Coma Cluster. These are referred as the member galaxies."
   ]
  },
  {
   "cell_type": "code",
   "execution_count": 16,
   "metadata": {},
   "outputs": [
    {
     "name": "stdout",
     "output_type": "stream",
     "text": [
      "1.2\n",
      "1.3\n",
      "0.3\n",
      "0.2\n",
      "1.0\n",
      "1.0\n",
      "1.5\n",
      "1.4\n",
      "1.3\n",
      "1.5\n",
      "0.6\n",
      "0.7\n",
      "0.5\n",
      "1.4\n",
      "1.0\n",
      "0.4\n",
      "1.2\n",
      "1.5\n",
      "1.2\n",
      "1.0\n",
      "1.3\n",
      "1.2\n",
      "0.3\n",
      "1.5\n",
      "1.3\n",
      "0.7\n",
      "0.8\n",
      "0.4\n",
      "1.4\n",
      "1.3\n",
      "1.5\n",
      "1.5\n",
      "1.3\n",
      "1.2\n",
      "1.1\n",
      "1.2\n",
      "1.5\n",
      "0.6\n",
      "0.4\n",
      "0.6\n",
      "1.0\n",
      "0.6\n",
      "1.4\n",
      "0.6\n",
      "0.6\n",
      "1.1\n",
      "1.2\n",
      "0.7\n",
      "0.8\n",
      "1.5\n",
      "1.5\n",
      "1.1\n",
      "1.5\n",
      "0.8\n",
      "0.8\n",
      "1.3\n",
      "1.1\n",
      "1.1\n",
      "1.1\n",
      "1.3\n",
      "1.4\n",
      "1.2\n",
      "0.5\n",
      "1.4\n",
      "1.2\n",
      "0.6\n",
      "1.5\n",
      "0.6\n",
      "0.4\n",
      "1.5\n",
      "1.5\n",
      "0.6\n",
      "0.9\n",
      "0.7\n",
      "0.6\n",
      "1.3\n",
      "1.3\n",
      "0.9\n",
      "1.3\n",
      "1.1\n",
      "1.5\n",
      "1.3\n",
      "1.3\n",
      "1.4\n",
      "1.0\n",
      "1.3\n",
      "1.2\n",
      "0.8\n",
      "1.4\n",
      "0.3\n",
      "1.2\n",
      "0.7\n",
      "0.4\n",
      "1.3\n",
      "1.5\n",
      "0.6\n",
      "0.8\n",
      "1.1\n",
      "0.7\n",
      "0.7\n",
      "1.5\n",
      "0.8\n",
      "0.8\n",
      "0.8\n",
      "1.3\n",
      "1.3\n",
      "0.5\n",
      "0.9\n",
      "1.5\n",
      "0.1\n",
      "0.4\n",
      "1.0\n",
      "1.1\n",
      "1.0\n",
      "1.3\n",
      "1.2\n",
      "0.5\n",
      "0.4\n",
      "0.6\n",
      "0.4\n",
      "0.6\n",
      "0.3\n",
      "1.3\n",
      "0.9\n",
      "1.0\n",
      "0.9\n",
      "1.3\n",
      "1.5\n",
      "1.5\n",
      "1.4\n",
      "1.0\n",
      "0.9\n",
      "1.4\n",
      "0.9\n",
      "1.3\n",
      "1.3\n",
      "1.5\n",
      "1.1\n",
      "1.5\n",
      "0.6\n",
      "0.9\n",
      "1.0\n",
      "0.9\n",
      "0.6\n",
      "1.2\n",
      "0.2\n",
      "0.2\n",
      "0.2\n",
      "1.3\n",
      "0.3\n",
      "1.3\n",
      "0.4\n",
      "1.2\n",
      "0.3\n",
      "1.0\n",
      "1.5\n",
      "0.4\n",
      "0.4\n",
      "0.5\n",
      "0.3\n",
      "0.1\n",
      "0.3\n",
      "1.4\n",
      "0.7\n",
      "1.1\n",
      "0.8\n",
      "0.8\n",
      "0.6\n",
      "0.5\n"
     ]
    }
   ],
   "source": [
    "for item in p: #select to see all projected distance values that are <= to 1.5 Mpc\n",
    "\n",
    "    if item <= 1.5:\n",
    "        print(item)       "
   ]
  },
  {
   "cell_type": "code",
   "execution_count": 17,
   "metadata": {},
   "outputs": [
    {
     "name": "stdout",
     "output_type": "stream",
     "text": [
      "169 values are <=1.5\n",
      "These values are [1.2 1.3 0.3 0.2 1.  1.  1.5 1.4 1.3 1.5 0.6 0.7 0.5 1.4 1.  0.4 1.2 1.5\n",
      " 1.2 1.  1.3 1.2 0.3 1.5 1.3 0.7 0.8 0.4 1.4 1.3 1.5 1.5 1.3 1.2 1.1 1.2\n",
      " 1.5 0.6 0.4 0.6 1.  0.6 1.4 0.6 0.6 1.1 1.2 0.7 0.8 1.5 1.5 1.1 1.5 0.8\n",
      " 0.8 1.3 1.1 1.1 1.1 1.3 1.4 1.2 0.5 1.4 1.2 0.6 1.5 0.6 0.4 1.5 1.5 0.6\n",
      " 0.9 0.7 0.6 1.3 1.3 0.9 1.3 1.1 1.5 1.3 1.3 1.4 1.  1.3 1.2 0.8 1.4 0.3\n",
      " 1.2 0.7 0.4 1.3 1.5 0.6 0.8 1.1 0.7 0.7 1.5 0.8 0.8 0.8 1.3 1.3 0.5 0.9\n",
      " 1.5 0.1 0.4 1.  1.1 1.  1.3 1.2 0.5 0.4 0.6 0.4 0.6 0.3 1.3 0.9 1.  0.9\n",
      " 1.3 1.5 1.5 1.4 1.  0.9 1.4 0.9 1.3 1.3 1.5 1.1 1.5 0.6 0.9 1.  0.9 0.6\n",
      " 1.2 0.2 0.2 0.2 1.3 0.3 1.3 0.4 1.2 0.3 1.  1.5 0.4 0.4 0.5 0.3 0.1 0.3\n",
      " 1.4 0.7 1.1 0.8 0.8 0.6 0.5]\n",
      "the corresponding indeces are [3, 8, 27, 32, 33, 35, 37, 67, 68, 73, 75, 83, 86, 89, 91, 105, 107, 113, 123, 124, 132, 133, 138, 142, 143, 148, 154, 162, 165, 168, 174, 202, 218, 222, 234, 239, 240, 247, 250, 251, 253, 255, 257, 258, 259, 263, 266, 270, 271, 282, 287, 296, 298, 299, 300, 301, 304, 305, 309, 310, 313, 317, 320, 322, 325, 333, 339, 341, 351, 357, 359, 363, 369, 370, 382, 387, 402, 403, 406, 412, 416, 436, 462, 463, 464, 466, 469, 478, 481, 482, 494, 499, 501, 502, 505, 506, 514, 515, 522, 523, 527, 528, 529, 530, 537, 549, 551, 565, 566, 569, 571, 572, 573, 581, 583, 584, 589, 591, 594, 595, 597, 598, 601, 624, 636, 638, 639, 640, 643, 644, 646, 649, 650, 651, 652, 657, 659, 662, 668, 669, 671, 677, 679, 680, 681, 686, 687, 690, 691, 692, 694, 695, 697, 699, 700, 706, 708, 710, 713, 715, 719, 723, 729, 730, 736, 742, 748, 752, 760]\n",
      "0.022000000000000002\n"
     ]
    }
   ],
   "source": [
    "########## IMPORTANT CELL ###########\n",
    "\n",
    "# index of all values in p that are <=1.5\n",
    "def condition(x): return x <= 1.5\n",
    "output = [idx for idx, element in enumerate(p) if condition(element)]\n",
    "\n",
    "#print(output)\n",
    "print(len(output), 'values are <=1.5')\n",
    "print('These values are', p[output])\n",
    "print('the corresponding indeces are', output)\n",
    "\n",
    "\n",
    "#for redshift\n",
    "σ = np.asarray([])\n",
    "σ = 5*0.0044\n",
    "print(σ)\n",
    "#print(output)"
   ]
  },
  {
   "cell_type": "code",
   "execution_count": 18,
   "metadata": {},
   "outputs": [
    {
     "name": "stdout",
     "output_type": "stream",
     "text": [
      "0.01777024\n",
      "0.02002974\n",
      "0.02108984\n",
      "0.02068225\n",
      "0.02093789\n",
      "0.01661109\n",
      "0.02128608\n",
      "0.02129176\n",
      "0.02039584\n",
      "0.02155076\n",
      "0.02044867\n",
      "0.0191456\n",
      "0.02051797\n",
      "0.02144919\n",
      "0.01886249\n",
      "0.02015118\n",
      "0.01965179\n",
      "0.01820282\n",
      "0.01806066\n",
      "0.0210654\n",
      "0.01953211\n",
      "0.02190111\n",
      "0.01798755\n",
      "0.01718794\n",
      "0.02098727\n",
      "0.01816591\n",
      "0.01921797\n",
      "0.02185673\n",
      "0.02018797\n",
      "0.01738534\n",
      "0.01899429\n",
      "0.02083039\n",
      "0.01699532\n",
      "0.02170492\n",
      "0.01912005\n",
      "0.02047269\n",
      "0.01662251\n",
      "0.01935221\n",
      "0.01983889\n",
      "0.01655244\n",
      "0.01964111\n",
      "0.02022178\n",
      "0.02005155\n",
      "0.02090726\n",
      "0.01608296\n",
      "0.02080937\n",
      "0.02150175\n",
      "0.02124036\n",
      "0.02111432\n",
      "0.017733000000000002\n",
      "0.01935512\n",
      "[0, 4, 12, 16, 17, 21, 25, 27, 31, 35, 36, 39, 44, 45, 52, 53, 54, 56, 57, 60, 61, 62, 64, 66, 70, 75, 79, 81, 82, 84, 90, 91, 97, 102, 112, 114, 117, 120, 122, 125, 134, 135, 136, 137, 142, 145, 149, 150, 152, 153, 159]\n",
      "51 values are +/- 5σ 0.022000000000000002\n",
      "These values are [0.02674099 0.02353255 0.0260466  0.02404518 0.02031774 0.02531029\n",
      " 0.02366776 0.0282389  0.02615086 0.02250939 0.02626066 0.02092743\n",
      " 0.02694282 0.02453957 0.0274078  0.02323505 0.02291706 0.02210143\n",
      " 0.0238004  0.02373173 0.02499963 0.02536839 0.02385668 0.02485387\n",
      " 0.02587094 0.02698101 0.02682374 0.02713366 0.01828631 0.02364652\n",
      " 0.02627785 0.02227376 0.02867174 0.01875564 0.02076338 0.02351745\n",
      " 0.01693627 0.02343068 0.02531836 0.02447844 0.02543061 0.02570705\n",
      " 0.01761597 0.02653266 0.02767608 0.02362565 0.02470391 0.02341828\n",
      " 0.02616505 0.0256863  0.02730983]\n",
      "the corresponding indeces are [0, 4, 12, 16, 17, 21, 25, 27, 31, 35, 36, 39, 44, 45, 52, 53, 54, 56, 57, 60, 61, 62, 64, 66, 70, 75, 79, 81, 82, 84, 90, 91, 97, 102, 112, 114, 117, 120, 122, 125, 134, 135, 136, 137, 142, 145, 149, 150, 152, 153, 159]\n"
     ]
    }
   ],
   "source": [
    "#################### REDSHIFT WORKING ###########################\n",
    "#################### USED 5 SIGMA INSTEAD OF 3 ###########################\n",
    "\n",
    "#print(output,z[output])\n",
    "#print(-σ,σ)\n",
    "\n",
    "for item in z[output]:\n",
    "     if ((item<σ) and (item>-σ)) : print(item)\n",
    "            \n",
    "#################### REDSHIFT MIGHT BE WORKING ###########################\n",
    "def condition1(x1): return ((x1<σ) and (x1>-σ))\n",
    "OP = [idx1 for idx1, element in enumerate(z[output]) if condition1(element)]\n",
    "\n",
    "print(OP)\n",
    "\n",
    "print(len(OP), 'values are +/- 5σ',σ)\n",
    "print('These values are', z[OP])\n",
    "print('the corresponding indeces are', OP)\n",
    "\n",
    "    #if ((item<σ).any() and (item>-σ).any()) : print(item)\n",
    "    #print('redshift values between sigma and negative sigma',z[item])"
   ]
  },
  {
   "cell_type": "code",
   "execution_count": 19,
   "metadata": {},
   "outputs": [],
   "source": [
    "#for i in z[output]:\n",
    " #   if ((i<σ) and (i>-σ)): print(i)\n",
    "#for item in p:\n",
    " #   if item <= 1.5: print(item)\n"
   ]
  },
  {
   "cell_type": "code",
   "execution_count": 20,
   "metadata": {},
   "outputs": [
    {
     "name": "stdout",
     "output_type": "stream",
     "text": [
      "[37, 73, 113, 142, 174, 202, 240, 282, 287, 298, 339, 357, 359, 416, 505, 527, 566, 640, 643, 659, 668, 706]\n",
      "values at 1.5Mpc have ra, dec = 196.651635629513 28.745231600967802\n"
     ]
    }
   ],
   "source": [
    "#for item in p:\n",
    "#    if item == 1.5: print('True')\n",
    "def condition(x): return x == 1.5\n",
    "output2 = [idx for idx, element in enumerate(p) if condition(element)]\n",
    "print(output2)\n",
    "ra6 = np.asarray(coma['ra'])\n",
    "dec6=np.asarray(coma['dec'])\n",
    "print('values at 1.5Mpc have ra, dec =',ra6[output2].max(),dec6[output2].max())"
   ]
  },
  {
   "cell_type": "code",
   "execution_count": 21,
   "metadata": {},
   "outputs": [],
   "source": [
    "ra5 = np.asarray(coma['ra']) #output == indices\n",
    "dec5 = np.asarray(coma['dec'])\n",
    "\n",
    "#z5 = np.asarray(coma['redshift'])"
   ]
  },
  {
   "cell_type": "markdown",
   "metadata": {},
   "source": [
    "#### 8. With these subset of galaxies, repeat Steps 3 to 6####  \n",
    "to get a better estimate of the sky position (RA,\n",
    "Dec) of Coma as well as its redshift and 1σ uncertainty. Repeat this process till the RA, Dec, redshift\n",
    "and the number of member galaxies do not change from one iteration to the next (these values should\n",
    "converge in a few, ∼5 iterations). Report these RA, Dec, number of member galaxies and the\n",
    "mean redshift of Coma in your report.\n"
   ]
  },
  {
   "cell_type": "code",
   "execution_count": 22,
   "metadata": {},
   "outputs": [
    {
     "name": "stdout",
     "output_type": "stream",
     "text": [
      "169 169\n",
      "194.89096253764797 27.870648099560125\n"
     ]
    }
   ],
   "source": [
    "print(len(ra5[output]),len(dec5[output]))\n",
    "print(ra5[output].mean(),dec5[output].mean())"
   ]
  },
  {
   "cell_type": "markdown",
   "metadata": {},
   "source": [
    "#### 9. All subsequent steps are done using only these member galaxies. \n",
    "\n",
    "Recreate the RA, Dec plot (Step\n",
    "2) with all the galaxies, and then overplot the selected galaxies in a different color. Also\n",
    "plot a circle (in dashed lines) showing the 1.5Mpc region in"
   ]
  },
  {
   "cell_type": "code",
   "execution_count": 23,
   "metadata": {},
   "outputs": [
    {
     "name": "stdout",
     "output_type": "stream",
     "text": [
      "28.745231600967802\n",
      "1.1354826314406525\n"
     ]
    }
   ],
   "source": [
    "###### find radius ######\n",
    "#rad = sqrt((dec of center-dec to max dec at 1.5MPC)^2 + (ra of center-ra to max ra at 1.5MPC)^2)\n",
    "mdec = B - dec5[output].max()\n",
    "mra = A - 𝛼𝑔[output].max()\n",
    "print(dec5[output].max())\n",
    "\n",
    "rad = np.sqrt((mra**2) + (mdec**2))\n",
    "print(rad.mean())"
   ]
  },
  {
   "cell_type": "code",
   "execution_count": 24,
   "metadata": {},
   "outputs": [
    {
     "name": "stdout",
     "output_type": "stream",
     "text": [
      "220\n"
     ]
    },
    {
     "data": {
      "image/png": "[encoded data removed]",
      "text/plain": [
       "<Figure size 504x504 with 1 Axes>"
      ]
     },
     "metadata": {
      "needs_background": "light"
     },
     "output_type": "display_data"
    }
   ],
   "source": [
    "######## member galaxies #######\n",
    "\n",
    "plt.figure(figsize=(7,7))\n",
    "\n",
    "plt.plot(ra1,dec1,'co')\n",
    "plt.plot(ra5[OP],dec5[OP],'bo')\n",
    "plt.plot(ra5[output],dec5[output],'bo')\n",
    "#####################\n",
    "circle1 = plt.Circle((A,B),rad, color='r',fill=False,linestyle='--')\n",
    "#circle1 = plt.Circle((ra6[output2].mean(), dec6[output2].mean()),1.5, color='r',fill=False,linestyle='--')\n",
    "plt.gcf().gca().add_artist(circle1)\n",
    "#####################\n",
    "\n",
    "plt.legend(['all galaxies','<=1.5Mpc ra and dec + z between +/- 5σ'],loc=2)\n",
    "\n",
    "\n",
    "#plot circle\n",
    "plt.xlabel('RA')\n",
    "plt.ylabel('DEC')\n",
    "plt.grid(1)\n",
    "plt.title('Member Galaxies')\n",
    "#print(len(ra5[output]),len(ra5[OP]))\n",
    "print(len(ra5[output])+len(ra5[OP]))\n"
   ]
  },
  {
   "cell_type": "markdown",
   "metadata": {},
   "source": [
    "## Do the same for the redshift histogram in Step 4."
   ]
  },
  {
   "cell_type": "code",
   "execution_count": 27,
   "metadata": {},
   "outputs": [
    {
     "data": {
      "image/png": "[encoded data removed]",
      "text/plain": [
       "<Figure size 576x576 with 1 Axes>"
      ]
     },
     "metadata": {
      "needs_background": "light"
     },
     "output_type": "display_data"
    },
    {
     "name": "stdout",
     "output_type": "stream",
     "text": [
      "mean= 0.0243 simga= 0.0027\n"
     ]
    }
   ],
   "source": [
    "###FIX####\n",
    "plt.figure(figsize=(8,8))\n",
    "width = 0.001\n",
    "\n",
    "n = math.ceil((z[OP].max() - z[OP].min())/width)\n",
    "ax1 = plt.hist(z[OP], bins = n, histtype='bar', ec='m', color='mediumspringgreen')\n",
    "\n",
    "plt.title('Coma Redshifts - Member galaxies')\n",
    "plt.ylabel('Density')\n",
    "plt.xlabel('Redshifts')\n",
    "plt.grid(1)\n",
    "\n",
    "##########################################\n",
    "\n",
    "z_s = np.asarray(z[OP])\n",
    "\n",
    "mu1 = stat.mean(z_s)\n",
    "sigma1 = stat.stdev(z_s)\n",
    "\n",
    "##########################################\n",
    "\n",
    "a1 = 1 / (np.sqrt(2 * np.pi) * np.sqrt(sigma1))\n",
    "\n",
    "def Gauss1(z_s, a1, mu1, sigma1):\n",
    "    return a1*(np.exp(-((z_s - mu1)**2 / (2 * sigma1))))\n",
    "\n",
    "bin_heights, bin_borders, _ = ax1\n",
    "bin_centers = bin_borders[:-1] + np.diff(bin_borders) / 2\n",
    "popt, _ = curve_fit(Gauss1, bin_centers, bin_heights, p0=[1., 0., 1.])\n",
    "\n",
    "x_interval_for_fit = np.linspace(bin_borders[0], bin_borders[-1], 10000)\n",
    "plt.plot(x_interval_for_fit, Gauss1(x_interval_for_fit, *popt),'r--',label='fit')\n",
    "\n",
    "plt.legend()\n",
    "\n",
    "#######################################\n",
    "plt.show()\n",
    "print('mean=','%.4f' % mu1,'simga=','%.4f' % sigma1)\n",
    "\n",
    "#####################################"
   ]
  },
  {
   "cell_type": "code",
   "execution_count": 28,
   "metadata": {},
   "outputs": [
    {
     "data": {
      "image/png": "[encoded data removed]",
      "text/plain": [
       "<Figure size 576x576 with 1 Axes>"
      ]
     },
     "metadata": {
      "needs_background": "light"
     },
     "output_type": "display_data"
    },
    {
     "name": "stdout",
     "output_type": "stream",
     "text": [
      "mean= 0.0237 simga= 0.0041\n"
     ]
    }
   ],
   "source": [
    "###FIX####\n",
    "plt.figure(figsize=(8,8))\n",
    "width = 0.001\n",
    "\n",
    "n = math.ceil((z[output].max() - z[output].min())/width)\n",
    "ax1 = plt.hist(z[output], bins = n, histtype='bar', ec='m', color='mediumspringgreen')\n",
    "\n",
    "plt.title('Coma Redshifts - Member galaxies')\n",
    "plt.ylabel('Density')\n",
    "plt.xlabel('Redshifts')\n",
    "plt.grid(1)\n",
    "\n",
    "##########################################\n",
    "\n",
    "z_s = np.asarray(z[output])\n",
    "\n",
    "mu1 = stat.mean(z_s)\n",
    "sigma1 = stat.stdev(z_s)\n",
    "\n",
    "##########################################\n",
    "\n",
    "a1 = 1 / (np.sqrt(2 * np.pi) * np.sqrt(sigma1))\n",
    "\n",
    "def Gauss1(z_s, a1, mu1, sigma1):\n",
    "    return a1*(np.exp(-((z_s - mu1)**2 / (2 * sigma1))))\n",
    "\n",
    "bin_heights, bin_borders, _ = ax1\n",
    "bin_centers = bin_borders[:-1] + np.diff(bin_borders) / 2\n",
    "popt, _ = curve_fit(Gauss1, bin_centers, bin_heights, p0=[1., 0., 1.])\n",
    "\n",
    "x_interval_for_fit = np.linspace(bin_borders[0], bin_borders[-1], 10000)\n",
    "plt.plot(x_interval_for_fit, Gauss1(x_interval_for_fit, *popt),'r--',label='fit')\n",
    "\n",
    "plt.legend()\n",
    "\n",
    "#######################################\n",
    "plt.show()\n",
    "print('mean=','%.4f' % mu1,'simga=','%.4f' % sigma1)\n",
    "\n",
    "#####################################\n"
   ]
  },
  {
   "cell_type": "markdown",
   "metadata": {},
   "source": [
    "## 10. Use the SDSS r magnitudes and the extinction values in r-band along with the distance to Coma to calculate the absolute r-band magnitudes of the galaxies and the corresponding errors.###\n",
    "$$\\displaystyle m-M=5\\left(\\log _{10}d-1\\right)+A $$\n",
    "$$\\delta d = 0.2 \\ln(10) 10^{0.2\\mu+1} \\delta\\mu = 0.461 d \\ \\delta\\mu $$\n",
    "$$\\ Δ(log10)≈0.4343 Δd/d $$\n",
    "\n",
    "Source https://www.physicsforums.com/threads/how-do-i-determine-the-uncertainty-value-of-the-stars-absolute-magnitude.967550/"
   ]
  },
  {
   "cell_type": "code",
   "execution_count": 39,
   "metadata": {},
   "outputs": [
    {
     "name": "stdout",
     "output_type": "stream",
     "text": [
      "[-19.62196541 -17.85685081 -17.85513889 -18.79302246 -18.28778702\n",
      " -18.0204334  -20.85440828 -20.0421658  -17.69837459 -19.67258872\n",
      " -18.23824842 -22.59083981 -17.11656736 -20.64660502 -19.80417219\n",
      " -17.61873637 -17.78896987 -19.93204058 -18.29124631 -19.24832687\n",
      " -18.53620128 -19.35705205 -19.08156531 -20.40617978 -17.34124574\n",
      " -18.76913986 -17.54005989 -18.49256418 -17.95616907 -21.10690626\n",
      " -18.91286124 -18.91149395 -21.49095868 -19.20714146 -18.56857369\n",
      " -17.91124282 -19.94230219 -19.48586226 -18.27946921 -19.44574208\n",
      " -18.25731534 -18.87997629 -19.67397666 -19.91821957 -19.35001898\n",
      " -17.97063153 -18.49106961 -18.16465917 -21.9679499  -19.04069836\n",
      " -22.00431451 -17.78492566 -20.24438752 -18.66526041 -17.50934928\n",
      " -17.9988411  -17.38539316 -19.08269154 -19.34413165 -20.54146704\n",
      " -17.55196749 -20.41397659 -17.82345918 -19.4717877  -17.19321472\n",
      " -17.80710316 -19.23317007 -20.87609338 -15.06556778 -20.59408353\n",
      " -18.34899057 -18.95833991 -21.02356081 -20.36559705 -18.61965469\n",
      " -17.59530129 -17.54417899 -22.55142015 -17.77799764 -18.63844955\n",
      " -18.38298653 -20.30225969 -17.98365115 -18.16110119 -17.71627369\n",
      " -20.19944474 -17.52884669 -21.13526964 -19.24083574 -18.20772603\n",
      " -17.30948275 -18.36447929 -19.58955594 -20.62112487 -21.68250189\n",
      " -19.61433329 -20.43285852 -19.2794398  -18.64884825 -18.78541615\n",
      " -18.25034884 -17.78997871 -18.36133562 -19.71084591 -19.16481435\n",
      " -21.36209792 -18.86445136 -18.9141614  -20.20288708 -19.33079142\n",
      " -20.57011105 -20.30469643 -19.99838971 -18.22390346 -19.54094616\n",
      " -18.41666206 -21.2390154  -21.31046194 -19.65090881 -18.04984723\n",
      " -20.59505415 -17.77327364 -18.71871727 -20.44059125 -19.79177452\n",
      " -18.52583785 -17.85283777 -18.65703907 -18.6291144  -17.93884421\n",
      " -20.04568984 -17.76315345 -20.71476277 -17.41854018 -20.04731913\n",
      " -17.1286987  -17.04632399 -17.38668651 -20.78577243 -19.81608727\n",
      " -19.97884476 -18.24092237 -19.93931953 -19.21187439 -19.17384361\n",
      " -18.39644067 -17.98463862 -18.17444876 -17.69473946 -23.39864943\n",
      " -20.25266191 -21.11418589 -17.37363577 -19.025891   -19.91961463\n",
      " -18.82836282 -18.20254629 -18.38344052 -20.60329012 -18.17054786\n",
      " -20.45302783 -20.74817356 -21.18650667 -20.07976835 -21.17582248\n",
      " -19.59463532 -22.52548061 -18.60572235 -20.23362185] [0.00115233 0.00377777 0.00441524 0.00157775 0.00271744 0.00443326\n",
      " 0.00091769 0.00115959 0.0030762  0.00152223 0.00250415 0.00068774\n",
      " 0.00532482 0.00104361 0.00123408 0.00376868 0.0020012  0.00109853\n",
      " 0.00305363 0.00178506 0.00204284 0.00135008 0.00230815 0.00116351\n",
      " 0.00399881 0.00182552 0.00579727 0.00237896 0.00238535 0.00103331\n",
      " 0.00190419 0.00184447 0.00079119 0.00154906 0.00234423 0.00237862\n",
      " 0.00113253 0.00124217 0.00323616 0.00111994 0.00207229 0.00212593\n",
      " 0.00232191 0.00147146 0.0015072  0.00363453 0.002173   0.00198919\n",
      " 0.00075456 0.00194696 0.00099991 0.00260611 0.00093183 0.00245845\n",
      " 0.00261479 0.00471498 0.00292763 0.00172916 0.00145363 0.00094593\n",
      " 0.00362805 0.00091329 0.00246097 0.00154935 0.00475957 0.00339839\n",
      " 0.00113459 0.0009204  0.01223788 0.00104446 0.00172718 0.0018147\n",
      " 0.00094225 0.00103013 0.00503408 0.00334167 0.00439722 0.00067083\n",
      " 0.00379381 0.00212541 0.00431351 0.00101003 0.00269913 0.00233576\n",
      " 0.00235458 0.00130108 0.00605622 0.00087157 0.00145827 0.00356063\n",
      " 0.0027504  0.00201531 0.00139774 0.00093503 0.00084316 0.00174736\n",
      " 0.00122236 0.00121948 0.00198696 0.00280519 0.00248872 0.00412028\n",
      " 0.00241734 0.00147377 0.00157276 0.00080183 0.00309132 0.00195476\n",
      " 0.00107784 0.00133692 0.00095815 0.00103395 0.00096313 0.00224362\n",
      " 0.0011271  0.00316517 0.00082644 0.00073179 0.00118477 0.00280913\n",
      " 0.00088394 0.00319552 0.0015918  0.00112121 0.00140495 0.00192465\n",
      " 0.00398776 0.00178629 0.00173211 0.00516594 0.00111665 0.00340532\n",
      " 0.00126539 0.00327271 0.00101544 0.0074378  0.00398236 0.00276885\n",
      " 0.00096134 0.00148582 0.00113909 0.00319755 0.00093667 0.00150638\n",
      " 0.00142546 0.00183729 0.00285793 0.00276844 0.00450036 0.00071256\n",
      " 0.00099999 0.00126438 0.0035422  0.00120275 0.0015194  0.00284044\n",
      " 0.00364715 0.00314258 0.00097694 0.00258882 0.00115892 0.00094715\n",
      " 0.00093217 0.00119028 0.00086969 0.00179344 0.00075815 0.00178563\n",
      " 0.0014696 ]\n"
     ]
    }
   ],
   "source": [
    "## m - M = 5(log d - 1) + A\n",
    "## d == distance to galaxies as measured above\n",
    "## A == magnitudes of extinction\n",
    "\n",
    "A = np.asarray(coma['extinction_r'])\n",
    "m = np.asarray(coma['modelMag_r'])\n",
    "δerr = np.asarray(coma['modelMagErr_r'])\n",
    "#######################################\n",
    "## R-MAG ABSOLUTE\n",
    "RMAG = np.asarray([])\n",
    "modulus = 5*(np.log10(R2[output]-1))+A[output]-m[output]\n",
    "RMAG = -5*(np.log10(R2[output]*1e6)-1)-A[output]+m[output]\n",
    "#print(R2*1e6)\n",
    "### switch to R2 into parsecs *****\n",
    "derr = 0.4343/(R2[output]*1e6)\n",
    "#print('𝛿𝑑',derr)\n",
    "\n",
    "##### ADD ERRORS #####\n",
    "##### ABOUT 5% --> modulus, so \n",
    "\n",
    "δRMAG = 0.4343*np.sqrt((δerr[output]**2)+(derr**2))\n",
    "print(RMAG,δRMAG)"
   ]
  },
  {
   "cell_type": "markdown",
   "metadata": {},
   "source": [
    "### 11. With the given r-band absolute magnitude of the Sun (see Table 1), convert the absolute magnitudes of the galaxies to corresponding luminosities (in units of solar luminosity).\n",
    "\n",
    "\n",
    "$${\\displaystyle M_{\\text{bol1}}-M_{\\text{bol2}}=-2.5\\log _{10}{\\frac {L_{\\text{1}}}{L_{\\text{2}}}}}$$\n"
   ]
  },
  {
   "cell_type": "code",
   "execution_count": 41,
   "metadata": {},
   "outputs": [
    {
     "name": "stdout",
     "output_type": "stream",
     "text": [
      "[5.65960555e+09 1.11362847e+09 1.11187395e+09 2.63760030e+09\n",
      " 1.65620774e+09 1.29471256e+09 1.76101604e+10 8.33424608e+09\n",
      " 9.62387193e+08 5.92973779e+09 1.58233840e+09 8.71637532e+10\n",
      " 5.63153702e+08 1.45425982e+10 6.69374058e+09 8.94323303e+08\n",
      " 1.04613552e+09 7.53036857e+09 1.66149302e+09 4.01172125e+09\n",
      " 2.08199898e+09 4.43425659e+09 3.44053615e+09 1.16539168e+10\n",
      " 6.92625212e+08 2.58021530e+09 8.31809655e+08 1.99998010e+09\n",
      " 1.22030286e+09 2.22209440e+10 2.94540146e+09 2.94169457e+09\n",
      " 3.16507112e+10 3.86239408e+09 2.14501076e+09 1.17083885e+09\n",
      " 7.60187763e+09 4.99280845e+09 1.64356802e+09 4.81168105e+09\n",
      " 1.61037173e+09 2.85752814e+09 5.93732282e+09 7.43511735e+09\n",
      " 4.40562563e+09 1.23666655e+09 1.99722892e+09 1.47864414e+09\n",
      " 4.91111336e+10 3.31344177e+09 5.07838714e+10 1.04224606e+09\n",
      " 1.00404923e+10 2.34479113e+09 8.08611122e+08 1.26921863e+09\n",
      " 7.21368647e+08 3.44410684e+09 4.38180108e+09 1.32003917e+10\n",
      " 8.40982575e+08 1.17379062e+10 1.07990032e+09 4.92850363e+09\n",
      " 6.04346331e+08 1.06375415e+09 3.95610698e+09 1.79654191e+10\n",
      " 8.51583251e+07 1.38558576e+10 1.75225065e+09 3.07139706e+09\n",
      " 2.05790028e+10 1.12263562e+10 2.24833943e+09 8.75226619e+08\n",
      " 8.34971391e+08 8.40558727e+10 1.03561673e+09 2.28759859e+09\n",
      " 1.80798411e+09 1.05901930e+10 1.25158531e+09 1.47380653e+09\n",
      " 9.78384298e+08 9.63336234e+09 8.23263149e+08 2.28090846e+10\n",
      " 3.98413728e+09 1.53847489e+09 6.72656121e+08 1.77742677e+09\n",
      " 5.49316163e+09 1.42052848e+10 3.77572848e+10 5.61996121e+09\n",
      " 1.19438244e+10 4.12834441e+09 2.30961345e+09 2.61918673e+09\n",
      " 1.60007203e+09 1.04710802e+09 1.77228780e+09 6.14240383e+09\n",
      " 3.71471706e+09 2.81085970e+10 2.81695912e+09 2.94893066e+09\n",
      " 9.66395350e+09 4.32829216e+09 1.35532803e+10 1.06139875e+10\n",
      " 8.00489952e+09 1.56156974e+09 5.25264998e+09 1.86493983e+09\n",
      " 2.50960957e+10 2.68030845e+10 5.81250747e+09 1.33026723e+09\n",
      " 1.38682500e+10 1.03112058e+09 2.46312759e+09 1.20291932e+10\n",
      " 6.61774165e+09 2.06222070e+09 1.10951993e+09 2.32710312e+09\n",
      " 2.26801414e+09 1.20098527e+09 8.36134100e+09 1.02155412e+09\n",
      " 1.54847824e+10 7.43731323e+08 8.37389774e+09 5.69481316e+08\n",
      " 5.27873179e+08 7.22228472e+08 1.65313748e+10 6.76760354e+09\n",
      " 7.86208803e+09 1.58624018e+09 7.58102298e+09 3.87926775e+09\n",
      " 3.74573840e+09 1.83052755e+09 1.25272415e+09 1.49203669e+09\n",
      " 9.59170436e+08 1.83425526e+11 1.01173032e+10 2.23704312e+10\n",
      " 7.13599123e+08 3.26855955e+09 7.44467684e+09 2.72486587e+09\n",
      " 1.53115275e+09 1.80874026e+09 1.39738490e+10 1.48668564e+09\n",
      " 1.21677739e+10 1.59686949e+10 2.39112714e+10 8.62794441e+09\n",
      " 2.36771263e+10 5.51892039e+09 8.20714760e+10 2.21967270e+09\n",
      " 9.94142725e+09]\n",
      "169\n"
     ]
    }
   ],
   "source": [
    "𝑀bol2 = 4.76\n",
    "𝑀bol1 = RMAG\n",
    "L_ratio = 10**((𝑀bol1-𝑀bol2)/-2.5)\n",
    "luminosity = L_ratio\n",
    "print(luminosity)\n",
    "print(len(L_ratio))"
   ]
  },
  {
   "cell_type": "markdown",
   "metadata": {},
   "source": [
    "### 12. Calculate the cumulative luminosity of the cluster as a function of the radial distance from the cluster center. \n",
    "\n",
    "Normalize this cumulative distribution function (CDF) by the total luminosity of the cluster.\n",
    "The total luminosity of the cluster is taken to be the cumulative luminosity at 1.5Mpc, which is the\n",
    "maximum radial distance you used to select the member galaxies. Plot this normalized CDF of\n",
    "luminosity as a function of radial distance from the cluster center.\n",
    "\n",
    "#### (a) Cluster Samples\n",
    "Since all cluster galaxies are at roughly the same distance:\n",
    "bin galaxies by apparent magnitude, down to some limit, to get $$\\phi (m)$$\n",
    "\n",
    "use cluster redshift (distance) to get, simply, $$\\phi (M)$$\n",
    "Fit a Schechter function to $$\\phi (M)$$ by minimizing $$\\chi^2$$ to obtain M* and $$ \\alpha\\$$  ."
   ]
  },
  {
   "cell_type": "markdown",
   "metadata": {},
   "source": [
    "x == value measuring ==radial distance from center, i.e. p[output]\n",
    "y == fraction of values smaller than the corresponding x value"
   ]
  },
  {
   "cell_type": "code",
   "execution_count": 43,
   "metadata": {},
   "outputs": [
    {
     "name": "stdout",
     "output_type": "stream",
     "text": [
      "Reff,CDF=0.5 1.03 0.5002983498060078\n",
      "Reff= 0.6670644664080104 Mpc\n",
      "half radius 0.8894192885440139 Mpc\n",
      "0.8894192885440139 0.4167976909035399\n"
     ]
    },
    {
     "data": {
      "image/png": "[encoded data removed]",
      "text/plain": [
       "<Figure size 576x576 with 1 Axes>"
      ]
     },
     "metadata": {
      "needs_background": "light"
     },
     "output_type": "display_data"
    }
   ],
   "source": [
    "plt.figure(figsize=(8,8))\n",
    "\n",
    "luminosity = np.asarray(L_ratio)\n",
    "rd = np.linspace(0,1.5e6,169) #<-- x axis\n",
    "\n",
    "radial_distances_sorted = np.sort(p[output]) #radial distances\n",
    "\n",
    "x = np.sort(luminosity/luminosity.sum())\n",
    "y = np.arange(1, len(x)+1)/len(x)   \n",
    "\n",
    "plt.plot(radial_distances_sorted,y,'r--')\n",
    "\n",
    "plt.xlabel('Radial Distance (from center) in Mpc')\n",
    "plt.ylabel('Normalized CDF')\n",
    "plt.title('CDF for coma cluster members within 1.5 Mpc')\n",
    "########################################\n",
    "j = np.polyfit(radial_distances_sorted, y, 10)\n",
    "f = np.poly1d(j)\n",
    "\n",
    "x_new = np.linspace(radial_distances_sorted[0], radial_distances_sorted[-1], 50)\n",
    "y_new = f(x_new)\n",
    "\n",
    "plt.plot(x_new,y_new)\n",
    "print('Reff,CDF=0.5',1.03,f(1.03))\n",
    "########################################\n",
    "\n",
    "Reff = 4*f(1.03)/3\n",
    "print('Reff=',Reff,'Mpc')\n",
    "r_half = 4*Reff/3\n",
    "print('half radius',r_half,'Mpc')\n",
    "\n",
    "\n",
    "########################################\n",
    "plt.plot(r_half,f(r_half),'mo')\n",
    "print(r_half,f(r_half))\n",
    "plt.plot(1.03,f(1.03),'go')\n",
    "plt.show()\n",
    "########################################\n"
   ]
  },
  {
   "cell_type": "code",
   "execution_count": 473,
   "metadata": {},
   "outputs": [
    {
     "data": {
      "text/plain": [
       "Text(0.5, 1.0, 'CDF for coma cluster galaxies (all)')"
      ]
     },
     "execution_count": 473,
     "metadata": {},
     "output_type": "execute_result"
    },
    {
     "data": {
      "image/png": "[encoded data removed]",
      "text/plain": [
       "<Figure size 576x576 with 1 Axes>"
      ]
     },
     "metadata": {
      "needs_background": "light"
     },
     "output_type": "display_data"
    }
   ],
   "source": [
    "plt.figure(figsize=(8,8))\n",
    "\n",
    "\n",
    "i = np.sort(L_ratio/L_ratio.sum())\n",
    "h = np.arange(1, len(i)+1)/len(i)\n",
    "pp = np.sort(p)\n",
    "plt.plot(pp,h,'r-')\n",
    "plt.xlabel('Radial Distance (from center) in Mpc ')\n",
    "plt.ylabel('Normalized CDF')\n",
    "plt.title('CDF for coma cluster galaxies (all)')\n",
    "\n"
   ]
  },
  {
   "cell_type": "markdown",
   "metadata": {},
   "source": [
    "### 14. Next, with the redshifts of the galaxies, calculate their line of sight velocities using the Doppler formula.##\n",
    "This line of sight velocity is the sum of the recessional velocity of the cluster and the peculiar velocity\n",
    "of each galaxy. Subtracting the recessional velocity of Coma from these line of sight velocities, gives\n",
    "the peculiar velocities of all the member galaxies."
   ]
  },
  {
   "cell_type": "code",
   "execution_count": 45,
   "metadata": {},
   "outputs": [],
   "source": [
    "c = 299892 # speed of light km/s\n",
    "v_los,v_pec = np.asarray([]),np.asarray([])\n",
    "v_los = c*z[output]\n",
    "v_pec = v_los - vr"
   ]
  },
  {
   "cell_type": "code",
   "execution_count": 46,
   "metadata": {},
   "outputs": [
    {
     "name": "stdout",
     "output_type": "stream",
     "text": [
      "peculiar velocities of member galaxies: [-1720.35713456  1304.5275148   1419.11025016  -134.68718132\n",
      " -1042.75116056  -299.12396276  -203.08354976   -44.42568716\n",
      "   248.50581952   560.37250708  1041.87910228   810.88129144\n",
      "  -724.83565136   133.30230772  -369.78751472   381.58289452\n",
      "  -847.06863164  -770.40424076   565.98048748  1258.61704852\n",
      "   604.42064404 -2067.97694636   353.02717828  1250.32503472\n",
      "  -215.370125    -665.98484528   838.03651204  -664.28145872\n",
      "    52.6733446   1693.04059972   806.14299784  -932.96069936\n",
      "    43.26873148   364.36009696  -252.83263364  -586.60943072\n",
      "  -917.117405    -131.13346112  -423.19827992 -1307.89767344\n",
      "  -374.93066252  1022.08623028  3821.07723064  3645.19057264\n",
      "  -896.3348894   -617.06946116  -153.49340864  -239.11257464\n",
      "   672.36117664   298.33587424  4840.44312676   304.59162136\n",
      " -1392.80009756 -1006.33227608 -1156.09534196   649.11954664\n",
      " -1590.6298532  -1633.26249992  -209.08438868  -412.45314956\n",
      "  -732.16501184 -1191.98641652  -481.54226852  1462.86749188\n",
      " -1655.18760404  -345.46927244 -1894.98424616   133.32330016\n",
      "    45.75483616  1044.18827068  -755.5955738    851.01283888\n",
      "   331.50992728   248.11895884   972.95792284 -1601.69886692\n",
      "   642.09307708  -281.64925592   183.67816588 -1286.1944894\n",
      "  1802.12031688  -494.85147548  -995.2992494    401.88858184\n",
      " -1835.78556536   823.97757508   640.20975532   -29.26014872\n",
      "  -347.17865684  -170.98011116 -1353.27433196  -802.64263076\n",
      "  -107.88283436  -221.88078032  1342.48484524  -243.94083584\n",
      "   437.13788752 -1952.7494432    864.75389032   742.05907636\n",
      "   -39.78935684  -111.19364204  -540.37808      111.30522952\n",
      "   -71.52992612    99.3215452   6191.29464508   444.65917888\n",
      "   517.81183444   221.65648876   190.09285576   457.73447008\n",
      " -1315.55991404   311.14426156  -909.91399916  2921.68312912\n",
      "   -79.46506844 -2064.55217972  -449.21690984   386.20722916\n",
      " -1245.93698732   827.16242812 -1099.98554876   264.60402208\n",
      "   723.0219322  -2085.56561216   652.31639536   632.37057844\n",
      "   -71.272019      72.62216044   -26.10528488  1117.65881176\n",
      "  3981.75636532  -205.16480024 -1159.29818852  -985.15990088\n",
      " -1036.21051604  -779.58993272   524.92227376  1050.00617548\n",
      "   -99.95368988   532.44356512 -2226.35890832  -269.26671524\n",
      "   -15.06026252  -808.9463606   -239.9912582   -206.06747516\n",
      "   199.22456716  -601.30713764  -679.69590752   585.80034976\n",
      "  -717.4942952  -1731.52511264  2881.33865836   906.50785348\n",
      "  1310.50736128   -76.99395836  -161.26660928 -1245.0643016\n",
      "  1519.76600104   502.05850768  1163.44632232   622.45614892\n",
      "   -44.65960292   582.66347944  1480.7290594    120.30198952\n",
      "   331.15905364]\n",
      "-2226.3589083200004\n"
     ]
    }
   ],
   "source": [
    "print('peculiar velocities of member galaxies:',v_pec)\n",
    "print(v_pec.min())"
   ]
  },
  {
   "cell_type": "markdown",
   "metadata": {},
   "source": [
    "### 15. Plot a histogram of the peculiar velocities (use any appropriate bin size). ### \n",
    "Fit a gaussian function\n",
    "to this peculiar velocity histogram. Overplot the fitted gaussian function on the histogram.\n",
    "The (1σ) standard deviation of this gaussian function is the line of sight velocity dispersion. The\n",
    "velocity dispersion is normally denoted as σ (in km.s−1\n",
    ") and is needed for determining the virial mass."
   ]
  },
  {
   "cell_type": "code",
   "execution_count": 47,
   "metadata": {},
   "outputs": [
    {
     "data": {
      "image/png": "[encoded data removed]",
      "text/plain": [
       "<Figure size 576x576 with 1 Axes>"
      ]
     },
     "metadata": {
      "needs_background": "light"
     },
     "output_type": "display_data"
    }
   ],
   "source": [
    "plt.figure(figsize=(8,8))\n",
    "\n",
    "n=50\n",
    "hist,vel_bin,_ = plt.hist(v_pec,bins=n,histtype='bar',ec='b', color='lightcoral')\n",
    "\n",
    "plt.title('Coma Cluster peculiar velocities')\n",
    "plt.xlabel('Peculiar velocities ')\n",
    "plt.ylabel('Density')\n",
    "\n",
    "bin_edges = hist\n",
    "vel_bin = (bin_edges[:-1] + bin_edges[1:])/2"
   ]
  },
  {
   "cell_type": "code",
   "execution_count": 51,
   "metadata": {},
   "outputs": [
    {
     "name": "stdout",
     "output_type": "stream",
     "text": [
      "mean= 60.3900981126623 km.s−1 uncertainty= 1216.9201781254728 km.s−1\n"
     ]
    },
    {
     "data": {
      "image/png": "[encoded data removed]",
      "text/plain": [
       "<Figure size 576x576 with 1 Axes>"
      ]
     },
     "metadata": {
      "needs_background": "light"
     },
     "output_type": "display_data"
    }
   ],
   "source": [
    "plt.figure(figsize=(8,8))\n",
    "\n",
    "width = 0.001\n",
    "\n",
    "n = math.ceil((v_pec.max() - v_pec.min())/width)\n",
    "N = 50\n",
    "ax1 = plt.hist(v_pec, bins = N, histtype='bar', ec='m', color='lightcoral')\n",
    "\n",
    "plt.title('Coma Cluster peculiar velocities')\n",
    "plt.xlabel('Peculiar velocities ')\n",
    "plt.ylabel('Density')\n",
    "plt.grid(1)\n",
    "##########################################\n",
    "\n",
    "mean = stat.mean(v_pec)\n",
    "uncertainty = stat.stdev(v_pec)\n",
    "\n",
    "\n",
    "a1 = 1 / (np.sqrt(2 * np.pi) * np.sqrt(uncertainty))\n",
    "\n",
    "def Gauss1(v_pec, a1, mean, uncertainty):\n",
    "    return a1*(np.exp(-((v_pec - mean)**2 / (2 * uncertainty))))\n",
    "\n",
    "bin_heights, bin_borders, _ = ax1\n",
    "bin_centers = bin_borders[:-1] + np.diff(bin_borders) / 2\n",
    "popt, _ = curve_fit(Gauss1, bin_centers, bin_heights, p0=[1., 0., 1.])\n",
    "\n",
    "x_interval_for_fit = np.linspace(bin_borders[0], bin_borders[-1], 10000)\n",
    "plt.plot(x_interval_for_fit, Gauss1(x_interval_for_fit, *popt),'r--',label='fit')\n",
    "\n",
    "plt.legend()\n",
    "##########################################\n",
    "print('mean=',mean,'km.s−1','uncertainty=',uncertainty,'km.s−1')\n",
    "plt.show()"
   ]
  },
  {
   "cell_type": "markdown",
   "metadata": {},
   "source": [
    "### 16. Substitute the velocity dispersion, σ (from Step 15), and the half-mass radius,\n",
    "r1/2 (from Step 13) in\n",
    "the Virial mass equation, Equation 1 to obtain M1/2 of Coma Cluster. Use appropriate units.\n",
    "\n",
    "\n",
    "$$\\ M_{1/2} = 3σ^2r_{1/2}/G$$\n"
   ]
  },
  {
   "cell_type": "code",
   "execution_count": 56,
   "metadata": {},
   "outputs": [],
   "source": [
    "## r_half is in MPC --> 2.74446115904495372e+22 meters\n",
    "## sigma in km.s−1\n",
    "#G = 6.674 ×10−11  (m3*kg−1.s−2 )\n",
    "\n",
    "\n",
    "M_half = 3*((uncertainty*1000)**2)*(2.74446115904495372e+22)/6.674e-11"
   ]
  },
  {
   "cell_type": "code",
   "execution_count": 57,
   "metadata": {},
   "outputs": [
    {
     "name": "stdout",
     "output_type": "stream",
     "text": [
      "M_1/2 =  913453260296608.4 in M_sun, about = 9.13e14 M_sun\n"
     ]
    }
   ],
   "source": [
    "print('M_1/2 = ',M_half/2e30,'in M_sun, about = 9.13e14 M_sun')"
   ]
  },
  {
   "cell_type": "markdown",
   "metadata": {},
   "source": [
    "## 17. Interpolate the normalized CDF of luminosity at half-mass radius, r1/2 to get L1/2, \n",
    "the total luminosity\n",
    "within that radius (since this is the normalized value, remember to scale it by the total luminosity)."
   ]
  },
  {
   "cell_type": "code",
   "execution_count": 58,
   "metadata": {},
   "outputs": [],
   "source": [
    "L_half = 0.4167976909035399*luminosity.sum()\n",
    "LL = 1.03*luminosity.sum()"
   ]
  },
  {
   "cell_type": "code",
   "execution_count": 59,
   "metadata": {},
   "outputs": [
    {
     "data": {
      "text/plain": [
       "1554393789689.2258"
      ]
     },
     "execution_count": 59,
     "metadata": {},
     "output_type": "execute_result"
    }
   ],
   "source": [
    "LL"
   ]
  },
  {
   "cell_type": "code",
   "execution_count": 60,
   "metadata": {},
   "outputs": [
    {
     "data": {
      "text/plain": [
       "587.6588457544195"
      ]
     },
     "execution_count": 60,
     "metadata": {},
     "output_type": "execute_result"
    }
   ],
   "source": [
    "(M_half/2e30)/LL"
   ]
  },
  {
   "cell_type": "code",
   "execution_count": null,
   "metadata": {},
   "outputs": [],
   "source": [
    "#alpha1 = 𝛼𝑔\n",
    "#delta1 = 𝛿𝑔\n",
    "\n",
    "#alpha = ra*(np.pi/180)\n",
    "#delta = dec*(np.pi/180)\n",
    "#print(alpha, delta)\n",
    "#ã = A*(np.pi/180)\n",
    "#ß = B*(np.pi/180)\n",
    "#print(ã,ß)\n",
    "\n",
    "#print('dist',R2)\n",
    "#x1 = R2*np.cos(delta)*np.cos(alpha)\n",
    "#y1 = R2*np.cos(delta)*np.sin(alpha)\n",
    "#z1 = R2*np.sin(delta)\n",
    "\n",
    "#x2 = R*np.cos(ß)*np.cos(ã)\n",
    "#y2 = R*np.cos(ß)*np.sin(ã)\n",
    "#z2 = R*np.sin(ß)\n",
    "\n",
    "#dx = (x1 - x2)\n",
    "#dy = (y1 - y2)\n",
    "#dz = (z1 - z2)\n",
    "#print(dx,dy,dz)\n",
    "#d =[]\n",
    "#d = np.sqrt((dx**2)+(dy**2)+(dz**2))\n",
    "\n",
    "#######################################\n",
    "#PHI = 2*np.arcsin(np.sqrt((np.sin((ß-delta)/2)**2)+np.cos(ß)*np.cos(delta)*(np.cos((ã-alpha)/2)**2))) ##Haversine\n",
    "#H = PHI*(180/np.pi)\n",
    "#print(d[1:12])\n",
    "\n",
    "#p = R2*PHI\n",
    "#print(p)"
   ]
  }
 ],
 "metadata": {
  "kernelspec": {
   "display_name": "Python 3",
   "language": "python",
   "name": "python3"
  },
  "language_info": {
   "codemirror_mode": {
    "name": "ipython",
    "version": 3
   },
   "file_extension": ".py",
   "mimetype": "text/x-python",
   "name": "python",
   "nbconvert_exporter": "python",
   "pygments_lexer": "ipython3",
   "version": "3.7.3"
  }
 },
 "nbformat": 4,
 "nbformat_minor": 2
}
